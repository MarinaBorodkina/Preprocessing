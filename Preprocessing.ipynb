{
 "cells": [
  {
   "cell_type": "markdown",
   "metadata": {
    "ExecuteTime": {
     "end_time": "2019-10-11T08:48:54.452366Z",
     "start_time": "2019-10-11T08:48:54.449971Z"
    }
   },
   "source": [
    "# Preprocessing"
   ]
  },
  {
   "cell_type": "code",
   "execution_count": 1,
   "metadata": {},
   "outputs": [
    {
     "data": {
      "text/plain": [
       "'\\n    Sample preprocessing examples\\n'"
      ]
     },
     "execution_count": 1,
     "metadata": {},
     "output_type": "execute_result"
    }
   ],
   "source": [
    "'''\n",
    "    Sample preprocessing examples\n",
    "'''"
   ]
  },
  {
   "cell_type": "code",
   "execution_count": 2,
   "metadata": {},
   "outputs": [],
   "source": [
    "import pandas as pd\n",
    "import numpy as np\n",
    "# Import and suppress warnings\n",
    "import warnings\n",
    "warnings.filterwarnings('ignore')\n",
    "# Visualiazation\n",
    "from seaborn import countplot\n",
    "# Model\n",
    "from sklearn.model_selection import train_test_split\n",
    "from sklearn.linear_model import LogisticRegression\n",
    "# Import StandardScaler from scikit-learn\n",
    "from sklearn.preprocessing import StandardScaler\n",
    "from sklearn.preprocessing import LabelEncoder\n",
    "\n",
    "from sklearn.feature_extraction.text import TfidfVectorizer\n",
    "from sklearn.decomposition import PCA\n",
    "import re"
   ]
  },
  {
   "cell_type": "code",
   "execution_count": 3,
   "metadata": {
    "ExecuteTime": {
     "end_time": "2019-10-18T14:50:42.122189Z",
     "start_time": "2019-10-18T14:50:42.101626Z"
    }
   },
   "outputs": [
    {
     "data": {
      "text/html": [
       "<div>\n",
       "<style scoped>\n",
       "    .dataframe tbody tr th:only-of-type {\n",
       "        vertical-align: middle;\n",
       "    }\n",
       "\n",
       "    .dataframe tbody tr th {\n",
       "        vertical-align: top;\n",
       "    }\n",
       "\n",
       "    .dataframe thead th {\n",
       "        text-align: right;\n",
       "    }\n",
       "</style>\n",
       "<table border=\"1\" class=\"dataframe\">\n",
       "  <thead>\n",
       "    <tr style=\"text-align: right;\">\n",
       "      <th></th>\n",
       "      <th>Date</th>\n",
       "      <th>Brand</th>\n",
       "      <th>Price1</th>\n",
       "      <th>Price2</th>\n",
       "      <th>Engine</th>\n",
       "      <th>Color</th>\n",
       "      <th>Year</th>\n",
       "      <th>Label</th>\n",
       "    </tr>\n",
       "  </thead>\n",
       "  <tbody>\n",
       "    <tr>\n",
       "      <th>0</th>\n",
       "      <td>10.10.2018</td>\n",
       "      <td>Honda Civic</td>\n",
       "      <td>22000.0</td>\n",
       "      <td>23000.0</td>\n",
       "      <td>150.0 horsepower</td>\n",
       "      <td>red</td>\n",
       "      <td>2000</td>\n",
       "      <td>1</td>\n",
       "    </tr>\n",
       "    <tr>\n",
       "      <th>1</th>\n",
       "      <td>14.10.2018</td>\n",
       "      <td>NaN</td>\n",
       "      <td>25000.0</td>\n",
       "      <td>21000.0</td>\n",
       "      <td>100.0 horsepower</td>\n",
       "      <td>blue</td>\n",
       "      <td>2010</td>\n",
       "      <td>0</td>\n",
       "    </tr>\n",
       "    <tr>\n",
       "      <th>2</th>\n",
       "      <td>07.11.2018</td>\n",
       "      <td>Toyota Corolla</td>\n",
       "      <td>27000.0</td>\n",
       "      <td>25000.0</td>\n",
       "      <td>250.0 horsepower</td>\n",
       "      <td>green</td>\n",
       "      <td>2015</td>\n",
       "      <td>0</td>\n",
       "    </tr>\n",
       "    <tr>\n",
       "      <th>3</th>\n",
       "      <td>20.11.2018</td>\n",
       "      <td>Ford Focus</td>\n",
       "      <td>NaN</td>\n",
       "      <td>NaN</td>\n",
       "      <td>100.5 horsepower</td>\n",
       "      <td>red</td>\n",
       "      <td>2011</td>\n",
       "      <td>0</td>\n",
       "    </tr>\n",
       "    <tr>\n",
       "      <th>4</th>\n",
       "      <td>06.12.2018</td>\n",
       "      <td>NaN</td>\n",
       "      <td>35000.0</td>\n",
       "      <td>35000.0</td>\n",
       "      <td>50.0 horsepower</td>\n",
       "      <td>NaN</td>\n",
       "      <td>2019</td>\n",
       "      <td>0</td>\n",
       "    </tr>\n",
       "  </tbody>\n",
       "</table>\n",
       "</div>"
      ],
      "text/plain": [
       "         Date           Brand   Price1   Price2            Engine  Color  \\\n",
       "0  10.10.2018     Honda Civic  22000.0  23000.0  150.0 horsepower    red   \n",
       "1  14.10.2018             NaN  25000.0  21000.0  100.0 horsepower   blue   \n",
       "2  07.11.2018  Toyota Corolla  27000.0  25000.0  250.0 horsepower  green   \n",
       "3  20.11.2018      Ford Focus      NaN      NaN  100.5 horsepower    red   \n",
       "4  06.12.2018             NaN  35000.0  35000.0   50.0 horsepower    NaN   \n",
       "\n",
       "   Year  Label  \n",
       "0  2000      1  \n",
       "1  2010      0  \n",
       "2  2015      0  \n",
       "3  2011      0  \n",
       "4  2019      0  "
      ]
     },
     "execution_count": 3,
     "metadata": {},
     "output_type": "execute_result"
    }
   ],
   "source": [
    "# Generate dataset\n",
    "Cars = {\n",
    "    'Date': [\n",
    "        '10.10.2018', '14.10.2018', '07.11.2018', '20.11.2018', '06.12.2018',\n",
    "        '01.01.2019', '07.01.2019', '07.02.2019'\n",
    "    ],\n",
    "    'Brand': [\n",
    "        'Honda Civic', np.NaN, 'Toyota Corolla', 'Ford Focus', np.NaN,\n",
    "        'Audi A4', np.NaN, 'Honda'\n",
    "    ],\n",
    "    'Price1': [22000, 25000, 27000, np.NaN, 35000, 15000, 1000, 1500],\n",
    "    'Price2': [23000, 21000, 25000, np.NaN, 35000, 11000, 1200, 1100],\n",
    "    'Engine': [\n",
    "        '150.0 horsepower', '100.0 horsepower', '250.0 horsepower',\n",
    "        '100.5 horsepower', '50.0 horsepower', '40.0 horsepower',\n",
    "        '50.5 horsepower', '45.0 horsepower'\n",
    "    ],\n",
    "    'Color': ['red', 'blue', 'green', 'red', np.NaN, 'blue', 'red', 'yellow'],\n",
    "    'Year': [2000, 2010, 2015, 2011, 2019, 2005, 1999, 1995],\n",
    "    'Label': [1, 0, 0, 0, 0, 0, 1, 1]\n",
    "}\n",
    "\n",
    "df = pd.DataFrame(Cars,\n",
    "                  columns=[\n",
    "                      'Date', 'Brand', 'Price1', 'Price2', 'Engine', 'Color',\n",
    "                      'Year', 'Label'\n",
    "                  ])\n",
    "df.head()"
   ]
  },
  {
   "cell_type": "code",
   "execution_count": 4,
   "metadata": {
    "ExecuteTime": {
     "end_time": "2019-10-18T14:50:42.717485Z",
     "start_time": "2019-10-18T14:50:42.713364Z"
    }
   },
   "outputs": [
    {
     "data": {
      "text/plain": [
       "['Date', 'Brand', 'Price1', 'Price2', 'Engine', 'Color', 'Year', 'Label']"
      ]
     },
     "execution_count": 4,
     "metadata": {},
     "output_type": "execute_result"
    }
   ],
   "source": [
    "# Columns of the DataFrame\n",
    "list(df.columns)"
   ]
  },
  {
   "cell_type": "code",
   "execution_count": 5,
   "metadata": {
    "ExecuteTime": {
     "end_time": "2019-10-18T14:50:43.388740Z",
     "start_time": "2019-10-18T14:50:43.384958Z"
    }
   },
   "outputs": [
    {
     "data": {
      "text/plain": [
       "(8, 8)"
      ]
     },
     "execution_count": 5,
     "metadata": {},
     "output_type": "execute_result"
    }
   ],
   "source": [
    "# Shape (number of columns, rows)\n",
    "df.shape"
   ]
  },
  {
   "cell_type": "code",
   "execution_count": 6,
   "metadata": {
    "ExecuteTime": {
     "end_time": "2019-10-18T14:50:44.024625Z",
     "start_time": "2019-10-18T14:50:44.019684Z"
    }
   },
   "outputs": [
    {
     "data": {
      "text/plain": [
       "Date       object\n",
       "Brand      object\n",
       "Price1    float64\n",
       "Price2    float64\n",
       "Engine     object\n",
       "Color      object\n",
       "Year        int64\n",
       "Label       int64\n",
       "dtype: object"
      ]
     },
     "execution_count": 6,
     "metadata": {},
     "output_type": "execute_result"
    }
   ],
   "source": [
    "# Types of the columns\n",
    "df.dtypes"
   ]
  },
  {
   "cell_type": "code",
   "execution_count": 7,
   "metadata": {
    "ExecuteTime": {
     "end_time": "2019-10-18T14:50:44.702698Z",
     "start_time": "2019-10-18T14:50:44.682325Z"
    }
   },
   "outputs": [
    {
     "data": {
      "text/html": [
       "<div>\n",
       "<style scoped>\n",
       "    .dataframe tbody tr th:only-of-type {\n",
       "        vertical-align: middle;\n",
       "    }\n",
       "\n",
       "    .dataframe tbody tr th {\n",
       "        vertical-align: top;\n",
       "    }\n",
       "\n",
       "    .dataframe thead th {\n",
       "        text-align: right;\n",
       "    }\n",
       "</style>\n",
       "<table border=\"1\" class=\"dataframe\">\n",
       "  <thead>\n",
       "    <tr style=\"text-align: right;\">\n",
       "      <th></th>\n",
       "      <th>Price1</th>\n",
       "      <th>Price2</th>\n",
       "      <th>Year</th>\n",
       "      <th>Label</th>\n",
       "    </tr>\n",
       "  </thead>\n",
       "  <tbody>\n",
       "    <tr>\n",
       "      <th>count</th>\n",
       "      <td>7.000000</td>\n",
       "      <td>7.000000</td>\n",
       "      <td>8.000000</td>\n",
       "      <td>8.000000</td>\n",
       "    </tr>\n",
       "    <tr>\n",
       "      <th>mean</th>\n",
       "      <td>18071.428571</td>\n",
       "      <td>16757.142857</td>\n",
       "      <td>2006.750000</td>\n",
       "      <td>0.375000</td>\n",
       "    </tr>\n",
       "    <tr>\n",
       "      <th>std</th>\n",
       "      <td>12943.558795</td>\n",
       "      <td>12767.387770</td>\n",
       "      <td>8.396428</td>\n",
       "      <td>0.517549</td>\n",
       "    </tr>\n",
       "    <tr>\n",
       "      <th>min</th>\n",
       "      <td>1000.000000</td>\n",
       "      <td>1100.000000</td>\n",
       "      <td>1995.000000</td>\n",
       "      <td>0.000000</td>\n",
       "    </tr>\n",
       "    <tr>\n",
       "      <th>25%</th>\n",
       "      <td>8250.000000</td>\n",
       "      <td>6100.000000</td>\n",
       "      <td>1999.750000</td>\n",
       "      <td>0.000000</td>\n",
       "    </tr>\n",
       "    <tr>\n",
       "      <th>50%</th>\n",
       "      <td>22000.000000</td>\n",
       "      <td>21000.000000</td>\n",
       "      <td>2007.500000</td>\n",
       "      <td>0.000000</td>\n",
       "    </tr>\n",
       "    <tr>\n",
       "      <th>75%</th>\n",
       "      <td>26000.000000</td>\n",
       "      <td>24000.000000</td>\n",
       "      <td>2012.000000</td>\n",
       "      <td>1.000000</td>\n",
       "    </tr>\n",
       "    <tr>\n",
       "      <th>max</th>\n",
       "      <td>35000.000000</td>\n",
       "      <td>35000.000000</td>\n",
       "      <td>2019.000000</td>\n",
       "      <td>1.000000</td>\n",
       "    </tr>\n",
       "  </tbody>\n",
       "</table>\n",
       "</div>"
      ],
      "text/plain": [
       "             Price1        Price2         Year     Label\n",
       "count      7.000000      7.000000     8.000000  8.000000\n",
       "mean   18071.428571  16757.142857  2006.750000  0.375000\n",
       "std    12943.558795  12767.387770     8.396428  0.517549\n",
       "min     1000.000000   1100.000000  1995.000000  0.000000\n",
       "25%     8250.000000   6100.000000  1999.750000  0.000000\n",
       "50%    22000.000000  21000.000000  2007.500000  0.000000\n",
       "75%    26000.000000  24000.000000  2012.000000  1.000000\n",
       "max    35000.000000  35000.000000  2019.000000  1.000000"
      ]
     },
     "execution_count": 7,
     "metadata": {},
     "output_type": "execute_result"
    }
   ],
   "source": [
    "# Statistic for numerical columns\n",
    "df.describe()"
   ]
  },
  {
   "cell_type": "code",
   "execution_count": 8,
   "metadata": {
    "ExecuteTime": {
     "end_time": "2019-10-18T14:50:49.440361Z",
     "start_time": "2019-10-18T14:50:49.434009Z"
    }
   },
   "outputs": [
    {
     "data": {
      "text/plain": [
       "red       42.86\n",
       "blue      28.57\n",
       "green     14.29\n",
       "yellow    14.29\n",
       "Name: Color, dtype: float64"
      ]
     },
     "execution_count": 8,
     "metadata": {},
     "output_type": "execute_result"
    }
   ],
   "source": [
    "# Distribution of the colors\n",
    "round(df['Color'].value_counts(normalize=True) * 100, 2)"
   ]
  },
  {
   "cell_type": "code",
   "execution_count": 9,
   "metadata": {
    "ExecuteTime": {
     "end_time": "2019-10-18T14:50:51.725899Z",
     "start_time": "2019-10-18T14:50:51.617475Z"
    }
   },
   "outputs": [
    {
     "name": "stdout",
     "output_type": "stream",
     "text": [
      "Share of the classes:\n",
      "0    62.5\n",
      "1    37.5\n",
      "Name: Label, dtype: float64\n"
     ]
    },
    {
     "data": {
      "text/plain": [
       "<matplotlib.axes._subplots.AxesSubplot at 0x2687841e128>"
      ]
     },
     "execution_count": 9,
     "metadata": {},
     "output_type": "execute_result"
    },
    {
     "data": {
      "image/png": "[encoded data removed]",
      "text/plain": [
       "<Figure size 432x288 with 1 Axes>"
      ]
     },
     "metadata": {
      "needs_background": "light"
     },
     "output_type": "display_data"
    }
   ],
   "source": [
    "# Check the share of the classes\n",
    "print('Share of the classes:')\n",
    "print(round(df['Label'].value_counts(normalize=True) * 100, 2))\n",
    "countplot(x='Label', data=df)"
   ]
  },
  {
   "cell_type": "markdown",
   "metadata": {},
   "source": [
    "## Split per Train/Test"
   ]
  },
  {
   "cell_type": "code",
   "execution_count": 10,
   "metadata": {
    "ExecuteTime": {
     "end_time": "2019-10-18T14:50:57.244617Z",
     "start_time": "2019-10-18T14:50:57.232946Z"
    }
   },
   "outputs": [
    {
     "name": "stdout",
     "output_type": "stream",
     "text": [
      "0    66.67\n",
      "1    33.33\n",
      "Name: Label, dtype: float64\n"
     ]
    }
   ],
   "source": [
    "# Create a data with all columns except Label\n",
    "df_X = df.drop('Label', axis=1)\n",
    "\n",
    "# Create a category_desc labels dataset\n",
    "df_y = pd.DataFrame(df['Label'])\n",
    "\n",
    "# Use stratified sampling to split up the dataset according to the df_y dataset\n",
    "X_train, X_test, y_train, y_test = train_test_split(df_X, df_y, stratify=df_y)\n",
    "\n",
    "# Print out the Label counts on the training y labels\n",
    "print(round(y_train['Label'].value_counts(normalize=True) * 100, 2))"
   ]
  },
  {
   "cell_type": "code",
   "execution_count": 11,
   "metadata": {
    "ExecuteTime": {
     "end_time": "2019-10-18T14:50:57.915977Z",
     "start_time": "2019-10-18T14:50:57.912400Z"
    }
   },
   "outputs": [],
   "source": [
    "def check_score(X_, y_):\n",
    "    '''\n",
    "    Write a pattern to extract numbers and decimals\n",
    "    Parameters:\n",
    "        :params X_: input dataset\n",
    "        :params y_: labels\n",
    "    Returns:\n",
    "        :returns: knn score\n",
    "    '''\n",
    "\n",
    "    # Split X and the y labels into training and test sets\n",
    "    X_train_, X_test_, y_train_, y_test_ = train_test_split(X_, y_)\n",
    "\n",
    "    lgr = LogisticRegression()\n",
    "    # Fit lgr to the training data\n",
    "    lgr.fit(X_train_, y_train_)\n",
    "\n",
    "    # Score knn on the test data and print it out\n",
    "    return (lgr.score(X_test_, y_test_))"
   ]
  },
  {
   "cell_type": "markdown",
   "metadata": {},
   "source": [
    "## Missing Data"
   ]
  },
  {
   "cell_type": "code",
   "execution_count": 12,
   "metadata": {
    "ExecuteTime": {
     "end_time": "2019-10-18T14:51:01.592979Z",
     "start_time": "2019-10-18T14:51:01.586034Z"
    }
   },
   "outputs": [
    {
     "name": "stdout",
     "output_type": "stream",
     "text": [
      "Number of missing values per column:\n"
     ]
    },
    {
     "data": {
      "text/plain": [
       "Date      0\n",
       "Brand     3\n",
       "Price1    1\n",
       "Price2    1\n",
       "Engine    0\n",
       "Color     1\n",
       "Year      0\n",
       "Label     0\n",
       "dtype: int64"
      ]
     },
     "execution_count": 12,
     "metadata": {},
     "output_type": "execute_result"
    }
   ],
   "source": [
    "# Number of missing values per column\n",
    "print('Number of missing values per column:')\n",
    "df.isnull().sum()"
   ]
  },
  {
   "cell_type": "code",
   "execution_count": 13,
   "metadata": {
    "ExecuteTime": {
     "end_time": "2019-10-18T14:51:02.619526Z",
     "start_time": "2019-10-18T14:51:02.603394Z"
    }
   },
   "outputs": [
    {
     "name": "stdout",
     "output_type": "stream",
     "text": [
      "Number of rows: 8\n",
      "Number of rows after deleting all rows with missing: 4\n"
     ]
    },
    {
     "data": {
      "text/html": [
       "<div>\n",
       "<style scoped>\n",
       "    .dataframe tbody tr th:only-of-type {\n",
       "        vertical-align: middle;\n",
       "    }\n",
       "\n",
       "    .dataframe tbody tr th {\n",
       "        vertical-align: top;\n",
       "    }\n",
       "\n",
       "    .dataframe thead th {\n",
       "        text-align: right;\n",
       "    }\n",
       "</style>\n",
       "<table border=\"1\" class=\"dataframe\">\n",
       "  <thead>\n",
       "    <tr style=\"text-align: right;\">\n",
       "      <th></th>\n",
       "      <th>Date</th>\n",
       "      <th>Brand</th>\n",
       "      <th>Price1</th>\n",
       "      <th>Price2</th>\n",
       "      <th>Engine</th>\n",
       "      <th>Color</th>\n",
       "      <th>Year</th>\n",
       "      <th>Label</th>\n",
       "    </tr>\n",
       "  </thead>\n",
       "  <tbody>\n",
       "    <tr>\n",
       "      <th>0</th>\n",
       "      <td>10.10.2018</td>\n",
       "      <td>Honda Civic</td>\n",
       "      <td>22000.0</td>\n",
       "      <td>23000.0</td>\n",
       "      <td>150.0 horsepower</td>\n",
       "      <td>red</td>\n",
       "      <td>2000</td>\n",
       "      <td>1</td>\n",
       "    </tr>\n",
       "    <tr>\n",
       "      <th>2</th>\n",
       "      <td>07.11.2018</td>\n",
       "      <td>Toyota Corolla</td>\n",
       "      <td>27000.0</td>\n",
       "      <td>25000.0</td>\n",
       "      <td>250.0 horsepower</td>\n",
       "      <td>green</td>\n",
       "      <td>2015</td>\n",
       "      <td>0</td>\n",
       "    </tr>\n",
       "    <tr>\n",
       "      <th>5</th>\n",
       "      <td>01.01.2019</td>\n",
       "      <td>Audi A4</td>\n",
       "      <td>15000.0</td>\n",
       "      <td>11000.0</td>\n",
       "      <td>40.0 horsepower</td>\n",
       "      <td>blue</td>\n",
       "      <td>2005</td>\n",
       "      <td>0</td>\n",
       "    </tr>\n",
       "    <tr>\n",
       "      <th>7</th>\n",
       "      <td>07.02.2019</td>\n",
       "      <td>Honda</td>\n",
       "      <td>1500.0</td>\n",
       "      <td>1100.0</td>\n",
       "      <td>45.0 horsepower</td>\n",
       "      <td>yellow</td>\n",
       "      <td>1995</td>\n",
       "      <td>1</td>\n",
       "    </tr>\n",
       "  </tbody>\n",
       "</table>\n",
       "</div>"
      ],
      "text/plain": [
       "         Date           Brand   Price1   Price2            Engine   Color  \\\n",
       "0  10.10.2018     Honda Civic  22000.0  23000.0  150.0 horsepower     red   \n",
       "2  07.11.2018  Toyota Corolla  27000.0  25000.0  250.0 horsepower   green   \n",
       "5  01.01.2019         Audi A4  15000.0  11000.0   40.0 horsepower    blue   \n",
       "7  07.02.2019           Honda   1500.0   1100.0   45.0 horsepower  yellow   \n",
       "\n",
       "   Year  Label  \n",
       "0  2000      1  \n",
       "2  2015      0  \n",
       "5  2005      0  \n",
       "7  1995      1  "
      ]
     },
     "execution_count": 13,
     "metadata": {},
     "output_type": "execute_result"
    }
   ],
   "source": [
    "# Delete all rows with missing\n",
    "print('Number of rows:', df.shape[0])\n",
    "print('Number of rows after deleting all rows with missing:',\n",
    "      df.dropna().shape[0])\n",
    "df.dropna()"
   ]
  },
  {
   "cell_type": "code",
   "execution_count": 14,
   "metadata": {
    "ExecuteTime": {
     "end_time": "2019-10-18T14:51:03.581783Z",
     "start_time": "2019-10-18T14:51:03.566101Z"
    }
   },
   "outputs": [
    {
     "data": {
      "text/html": [
       "<div>\n",
       "<style scoped>\n",
       "    .dataframe tbody tr th:only-of-type {\n",
       "        vertical-align: middle;\n",
       "    }\n",
       "\n",
       "    .dataframe tbody tr th {\n",
       "        vertical-align: top;\n",
       "    }\n",
       "\n",
       "    .dataframe thead th {\n",
       "        text-align: right;\n",
       "    }\n",
       "</style>\n",
       "<table border=\"1\" class=\"dataframe\">\n",
       "  <thead>\n",
       "    <tr style=\"text-align: right;\">\n",
       "      <th></th>\n",
       "      <th>Date</th>\n",
       "      <th>Brand</th>\n",
       "      <th>Price1</th>\n",
       "      <th>Price2</th>\n",
       "      <th>Engine</th>\n",
       "      <th>Color</th>\n",
       "      <th>Year</th>\n",
       "      <th>Label</th>\n",
       "    </tr>\n",
       "  </thead>\n",
       "  <tbody>\n",
       "    <tr>\n",
       "      <th>0</th>\n",
       "      <td>10.10.2018</td>\n",
       "      <td>Honda Civic</td>\n",
       "      <td>22000.0</td>\n",
       "      <td>23000.0</td>\n",
       "      <td>150.0 horsepower</td>\n",
       "      <td>red</td>\n",
       "      <td>2000</td>\n",
       "      <td>1</td>\n",
       "    </tr>\n",
       "    <tr>\n",
       "      <th>1</th>\n",
       "      <td>14.10.2018</td>\n",
       "      <td>NaN</td>\n",
       "      <td>25000.0</td>\n",
       "      <td>21000.0</td>\n",
       "      <td>100.0 horsepower</td>\n",
       "      <td>blue</td>\n",
       "      <td>2010</td>\n",
       "      <td>0</td>\n",
       "    </tr>\n",
       "    <tr>\n",
       "      <th>2</th>\n",
       "      <td>07.11.2018</td>\n",
       "      <td>Toyota Corolla</td>\n",
       "      <td>27000.0</td>\n",
       "      <td>25000.0</td>\n",
       "      <td>250.0 horsepower</td>\n",
       "      <td>green</td>\n",
       "      <td>2015</td>\n",
       "      <td>0</td>\n",
       "    </tr>\n",
       "    <tr>\n",
       "      <th>3</th>\n",
       "      <td>20.11.2018</td>\n",
       "      <td>Ford Focus</td>\n",
       "      <td>NaN</td>\n",
       "      <td>NaN</td>\n",
       "      <td>100.5 horsepower</td>\n",
       "      <td>red</td>\n",
       "      <td>2011</td>\n",
       "      <td>0</td>\n",
       "    </tr>\n",
       "    <tr>\n",
       "      <th>4</th>\n",
       "      <td>06.12.2018</td>\n",
       "      <td>NaN</td>\n",
       "      <td>35000.0</td>\n",
       "      <td>35000.0</td>\n",
       "      <td>50.0 horsepower</td>\n",
       "      <td>NaN</td>\n",
       "      <td>2019</td>\n",
       "      <td>0</td>\n",
       "    </tr>\n",
       "    <tr>\n",
       "      <th>5</th>\n",
       "      <td>01.01.2019</td>\n",
       "      <td>Audi A4</td>\n",
       "      <td>15000.0</td>\n",
       "      <td>11000.0</td>\n",
       "      <td>40.0 horsepower</td>\n",
       "      <td>blue</td>\n",
       "      <td>2005</td>\n",
       "      <td>0</td>\n",
       "    </tr>\n",
       "    <tr>\n",
       "      <th>6</th>\n",
       "      <td>07.01.2019</td>\n",
       "      <td>NaN</td>\n",
       "      <td>1000.0</td>\n",
       "      <td>1200.0</td>\n",
       "      <td>50.5 horsepower</td>\n",
       "      <td>red</td>\n",
       "      <td>1999</td>\n",
       "      <td>1</td>\n",
       "    </tr>\n",
       "    <tr>\n",
       "      <th>7</th>\n",
       "      <td>07.02.2019</td>\n",
       "      <td>Honda</td>\n",
       "      <td>1500.0</td>\n",
       "      <td>1100.0</td>\n",
       "      <td>45.0 horsepower</td>\n",
       "      <td>yellow</td>\n",
       "      <td>1995</td>\n",
       "      <td>1</td>\n",
       "    </tr>\n",
       "  </tbody>\n",
       "</table>\n",
       "</div>"
      ],
      "text/plain": [
       "         Date           Brand   Price1   Price2            Engine   Color  \\\n",
       "0  10.10.2018     Honda Civic  22000.0  23000.0  150.0 horsepower     red   \n",
       "1  14.10.2018             NaN  25000.0  21000.0  100.0 horsepower    blue   \n",
       "2  07.11.2018  Toyota Corolla  27000.0  25000.0  250.0 horsepower   green   \n",
       "3  20.11.2018      Ford Focus      NaN      NaN  100.5 horsepower     red   \n",
       "4  06.12.2018             NaN  35000.0  35000.0   50.0 horsepower     NaN   \n",
       "5  01.01.2019         Audi A4  15000.0  11000.0   40.0 horsepower    blue   \n",
       "6  07.01.2019             NaN   1000.0   1200.0   50.5 horsepower     red   \n",
       "7  07.02.2019           Honda   1500.0   1100.0   45.0 horsepower  yellow   \n",
       "\n",
       "   Year  Label  \n",
       "0  2000      1  \n",
       "1  2010      0  \n",
       "2  2015      0  \n",
       "3  2011      0  \n",
       "4  2019      0  \n",
       "5  2005      0  \n",
       "6  1999      1  \n",
       "7  1995      1  "
      ]
     },
     "execution_count": 14,
     "metadata": {},
     "output_type": "execute_result"
    }
   ],
   "source": [
    "# Subset dataset without missing\n",
    "df_no_missing = df[df.notnull()]\n",
    "df_no_missing"
   ]
  },
  {
   "cell_type": "code",
   "execution_count": 15,
   "metadata": {
    "ExecuteTime": {
     "end_time": "2019-10-18T14:51:04.107184Z",
     "start_time": "2019-10-18T14:51:04.091562Z"
    },
    "scrolled": true
   },
   "outputs": [
    {
     "name": "stdout",
     "output_type": "stream",
     "text": [
      "Number of crows: 8\n",
      "Number of cows after deleting all cows with missing: 4\n"
     ]
    },
    {
     "data": {
      "text/html": [
       "<div>\n",
       "<style scoped>\n",
       "    .dataframe tbody tr th:only-of-type {\n",
       "        vertical-align: middle;\n",
       "    }\n",
       "\n",
       "    .dataframe tbody tr th {\n",
       "        vertical-align: top;\n",
       "    }\n",
       "\n",
       "    .dataframe thead th {\n",
       "        text-align: right;\n",
       "    }\n",
       "</style>\n",
       "<table border=\"1\" class=\"dataframe\">\n",
       "  <thead>\n",
       "    <tr style=\"text-align: right;\">\n",
       "      <th></th>\n",
       "      <th>Date</th>\n",
       "      <th>Engine</th>\n",
       "      <th>Year</th>\n",
       "      <th>Label</th>\n",
       "    </tr>\n",
       "  </thead>\n",
       "  <tbody>\n",
       "    <tr>\n",
       "      <th>0</th>\n",
       "      <td>10.10.2018</td>\n",
       "      <td>150.0 horsepower</td>\n",
       "      <td>2000</td>\n",
       "      <td>1</td>\n",
       "    </tr>\n",
       "    <tr>\n",
       "      <th>1</th>\n",
       "      <td>14.10.2018</td>\n",
       "      <td>100.0 horsepower</td>\n",
       "      <td>2010</td>\n",
       "      <td>0</td>\n",
       "    </tr>\n",
       "    <tr>\n",
       "      <th>2</th>\n",
       "      <td>07.11.2018</td>\n",
       "      <td>250.0 horsepower</td>\n",
       "      <td>2015</td>\n",
       "      <td>0</td>\n",
       "    </tr>\n",
       "    <tr>\n",
       "      <th>3</th>\n",
       "      <td>20.11.2018</td>\n",
       "      <td>100.5 horsepower</td>\n",
       "      <td>2011</td>\n",
       "      <td>0</td>\n",
       "    </tr>\n",
       "    <tr>\n",
       "      <th>4</th>\n",
       "      <td>06.12.2018</td>\n",
       "      <td>50.0 horsepower</td>\n",
       "      <td>2019</td>\n",
       "      <td>0</td>\n",
       "    </tr>\n",
       "    <tr>\n",
       "      <th>5</th>\n",
       "      <td>01.01.2019</td>\n",
       "      <td>40.0 horsepower</td>\n",
       "      <td>2005</td>\n",
       "      <td>0</td>\n",
       "    </tr>\n",
       "    <tr>\n",
       "      <th>6</th>\n",
       "      <td>07.01.2019</td>\n",
       "      <td>50.5 horsepower</td>\n",
       "      <td>1999</td>\n",
       "      <td>1</td>\n",
       "    </tr>\n",
       "    <tr>\n",
       "      <th>7</th>\n",
       "      <td>07.02.2019</td>\n",
       "      <td>45.0 horsepower</td>\n",
       "      <td>1995</td>\n",
       "      <td>1</td>\n",
       "    </tr>\n",
       "  </tbody>\n",
       "</table>\n",
       "</div>"
      ],
      "text/plain": [
       "         Date            Engine  Year  Label\n",
       "0  10.10.2018  150.0 horsepower  2000      1\n",
       "1  14.10.2018  100.0 horsepower  2010      0\n",
       "2  07.11.2018  250.0 horsepower  2015      0\n",
       "3  20.11.2018  100.5 horsepower  2011      0\n",
       "4  06.12.2018   50.0 horsepower  2019      0\n",
       "5  01.01.2019   40.0 horsepower  2005      0\n",
       "6  07.01.2019   50.5 horsepower  1999      1\n",
       "7  07.02.2019   45.0 horsepower  1995      1"
      ]
     },
     "execution_count": 15,
     "metadata": {},
     "output_type": "execute_result"
    }
   ],
   "source": [
    "# Delete all cols with missing\n",
    "print('Number of crows:', df.shape[1])\n",
    "print('Number of cows after deleting all cows with missing:',\n",
    "      df.dropna(axis=1).shape[1])\n",
    "df.dropna(axis=1)"
   ]
  },
  {
   "cell_type": "code",
   "execution_count": 16,
   "metadata": {
    "ExecuteTime": {
     "end_time": "2019-10-18T14:51:04.955601Z",
     "start_time": "2019-10-18T14:51:04.939011Z"
    }
   },
   "outputs": [
    {
     "data": {
      "text/html": [
       "<div>\n",
       "<style scoped>\n",
       "    .dataframe tbody tr th:only-of-type {\n",
       "        vertical-align: middle;\n",
       "    }\n",
       "\n",
       "    .dataframe tbody tr th {\n",
       "        vertical-align: top;\n",
       "    }\n",
       "\n",
       "    .dataframe thead th {\n",
       "        text-align: right;\n",
       "    }\n",
       "</style>\n",
       "<table border=\"1\" class=\"dataframe\">\n",
       "  <thead>\n",
       "    <tr style=\"text-align: right;\">\n",
       "      <th></th>\n",
       "      <th>Date</th>\n",
       "      <th>Brand</th>\n",
       "      <th>Price1</th>\n",
       "      <th>Price2</th>\n",
       "      <th>Engine</th>\n",
       "      <th>Color</th>\n",
       "      <th>Year</th>\n",
       "      <th>Label</th>\n",
       "    </tr>\n",
       "  </thead>\n",
       "  <tbody>\n",
       "    <tr>\n",
       "      <th>0</th>\n",
       "      <td>10.10.2018</td>\n",
       "      <td>Honda Civic</td>\n",
       "      <td>22000.0</td>\n",
       "      <td>23000.0</td>\n",
       "      <td>150.0 horsepower</td>\n",
       "      <td>red</td>\n",
       "      <td>2000</td>\n",
       "      <td>1</td>\n",
       "    </tr>\n",
       "    <tr>\n",
       "      <th>1</th>\n",
       "      <td>14.10.2018</td>\n",
       "      <td>NaN</td>\n",
       "      <td>25000.0</td>\n",
       "      <td>21000.0</td>\n",
       "      <td>100.0 horsepower</td>\n",
       "      <td>blue</td>\n",
       "      <td>2010</td>\n",
       "      <td>0</td>\n",
       "    </tr>\n",
       "    <tr>\n",
       "      <th>2</th>\n",
       "      <td>07.11.2018</td>\n",
       "      <td>Toyota Corolla</td>\n",
       "      <td>27000.0</td>\n",
       "      <td>25000.0</td>\n",
       "      <td>250.0 horsepower</td>\n",
       "      <td>green</td>\n",
       "      <td>2015</td>\n",
       "      <td>0</td>\n",
       "    </tr>\n",
       "    <tr>\n",
       "      <th>3</th>\n",
       "      <td>20.11.2018</td>\n",
       "      <td>Ford Focus</td>\n",
       "      <td>NaN</td>\n",
       "      <td>NaN</td>\n",
       "      <td>100.5 horsepower</td>\n",
       "      <td>red</td>\n",
       "      <td>2011</td>\n",
       "      <td>0</td>\n",
       "    </tr>\n",
       "    <tr>\n",
       "      <th>4</th>\n",
       "      <td>06.12.2018</td>\n",
       "      <td>NaN</td>\n",
       "      <td>35000.0</td>\n",
       "      <td>35000.0</td>\n",
       "      <td>50.0 horsepower</td>\n",
       "      <td>NaN</td>\n",
       "      <td>2019</td>\n",
       "      <td>0</td>\n",
       "    </tr>\n",
       "    <tr>\n",
       "      <th>5</th>\n",
       "      <td>01.01.2019</td>\n",
       "      <td>Audi A4</td>\n",
       "      <td>15000.0</td>\n",
       "      <td>11000.0</td>\n",
       "      <td>40.0 horsepower</td>\n",
       "      <td>blue</td>\n",
       "      <td>2005</td>\n",
       "      <td>0</td>\n",
       "    </tr>\n",
       "    <tr>\n",
       "      <th>6</th>\n",
       "      <td>07.01.2019</td>\n",
       "      <td>NaN</td>\n",
       "      <td>1000.0</td>\n",
       "      <td>1200.0</td>\n",
       "      <td>50.5 horsepower</td>\n",
       "      <td>red</td>\n",
       "      <td>1999</td>\n",
       "      <td>1</td>\n",
       "    </tr>\n",
       "    <tr>\n",
       "      <th>7</th>\n",
       "      <td>07.02.2019</td>\n",
       "      <td>Honda</td>\n",
       "      <td>1500.0</td>\n",
       "      <td>1100.0</td>\n",
       "      <td>45.0 horsepower</td>\n",
       "      <td>yellow</td>\n",
       "      <td>1995</td>\n",
       "      <td>1</td>\n",
       "    </tr>\n",
       "  </tbody>\n",
       "</table>\n",
       "</div>"
      ],
      "text/plain": [
       "         Date           Brand   Price1   Price2            Engine   Color  \\\n",
       "0  10.10.2018     Honda Civic  22000.0  23000.0  150.0 horsepower     red   \n",
       "1  14.10.2018             NaN  25000.0  21000.0  100.0 horsepower    blue   \n",
       "2  07.11.2018  Toyota Corolla  27000.0  25000.0  250.0 horsepower   green   \n",
       "3  20.11.2018      Ford Focus      NaN      NaN  100.5 horsepower     red   \n",
       "4  06.12.2018             NaN  35000.0  35000.0   50.0 horsepower     NaN   \n",
       "5  01.01.2019         Audi A4  15000.0  11000.0   40.0 horsepower    blue   \n",
       "6  07.01.2019             NaN   1000.0   1200.0   50.5 horsepower     red   \n",
       "7  07.02.2019           Honda   1500.0   1100.0   45.0 horsepower  yellow   \n",
       "\n",
       "   Year  Label  \n",
       "0  2000      1  \n",
       "1  2010      0  \n",
       "2  2015      0  \n",
       "3  2011      0  \n",
       "4  2019      0  \n",
       "5  2005      0  \n",
       "6  1999      1  \n",
       "7  1995      1  "
      ]
     },
     "execution_count": 16,
     "metadata": {},
     "output_type": "execute_result"
    }
   ],
   "source": [
    "# Columns with at least 5 not missing\n",
    "df.dropna(axis=1, thresh=5)"
   ]
  },
  {
   "cell_type": "code",
   "execution_count": 17,
   "metadata": {
    "ExecuteTime": {
     "end_time": "2019-10-18T14:51:07.234824Z",
     "start_time": "2019-10-18T14:51:07.220602Z"
    }
   },
   "outputs": [
    {
     "data": {
      "text/html": [
       "<div>\n",
       "<style scoped>\n",
       "    .dataframe tbody tr th:only-of-type {\n",
       "        vertical-align: middle;\n",
       "    }\n",
       "\n",
       "    .dataframe tbody tr th {\n",
       "        vertical-align: top;\n",
       "    }\n",
       "\n",
       "    .dataframe thead th {\n",
       "        text-align: right;\n",
       "    }\n",
       "</style>\n",
       "<table border=\"1\" class=\"dataframe\">\n",
       "  <thead>\n",
       "    <tr style=\"text-align: right;\">\n",
       "      <th></th>\n",
       "      <th>Date</th>\n",
       "      <th>Brand</th>\n",
       "      <th>Price1</th>\n",
       "      <th>Price2</th>\n",
       "      <th>Engine</th>\n",
       "      <th>Color</th>\n",
       "      <th>Year</th>\n",
       "      <th>Label</th>\n",
       "    </tr>\n",
       "  </thead>\n",
       "  <tbody>\n",
       "    <tr>\n",
       "      <th>0</th>\n",
       "      <td>10.10.2018</td>\n",
       "      <td>Honda Civic</td>\n",
       "      <td>22000.000000</td>\n",
       "      <td>23000.000000</td>\n",
       "      <td>150.0 horsepower</td>\n",
       "      <td>red</td>\n",
       "      <td>2000</td>\n",
       "      <td>1</td>\n",
       "    </tr>\n",
       "    <tr>\n",
       "      <th>1</th>\n",
       "      <td>14.10.2018</td>\n",
       "      <td>missing</td>\n",
       "      <td>25000.000000</td>\n",
       "      <td>21000.000000</td>\n",
       "      <td>100.0 horsepower</td>\n",
       "      <td>blue</td>\n",
       "      <td>2010</td>\n",
       "      <td>0</td>\n",
       "    </tr>\n",
       "    <tr>\n",
       "      <th>2</th>\n",
       "      <td>07.11.2018</td>\n",
       "      <td>Toyota Corolla</td>\n",
       "      <td>27000.000000</td>\n",
       "      <td>25000.000000</td>\n",
       "      <td>250.0 horsepower</td>\n",
       "      <td>green</td>\n",
       "      <td>2015</td>\n",
       "      <td>0</td>\n",
       "    </tr>\n",
       "    <tr>\n",
       "      <th>3</th>\n",
       "      <td>20.11.2018</td>\n",
       "      <td>Ford Focus</td>\n",
       "      <td>18071.428571</td>\n",
       "      <td>16757.142857</td>\n",
       "      <td>100.5 horsepower</td>\n",
       "      <td>red</td>\n",
       "      <td>2011</td>\n",
       "      <td>0</td>\n",
       "    </tr>\n",
       "    <tr>\n",
       "      <th>4</th>\n",
       "      <td>06.12.2018</td>\n",
       "      <td>missing</td>\n",
       "      <td>35000.000000</td>\n",
       "      <td>35000.000000</td>\n",
       "      <td>50.0 horsepower</td>\n",
       "      <td>missing</td>\n",
       "      <td>2019</td>\n",
       "      <td>0</td>\n",
       "    </tr>\n",
       "    <tr>\n",
       "      <th>5</th>\n",
       "      <td>01.01.2019</td>\n",
       "      <td>Audi A4</td>\n",
       "      <td>15000.000000</td>\n",
       "      <td>11000.000000</td>\n",
       "      <td>40.0 horsepower</td>\n",
       "      <td>blue</td>\n",
       "      <td>2005</td>\n",
       "      <td>0</td>\n",
       "    </tr>\n",
       "    <tr>\n",
       "      <th>6</th>\n",
       "      <td>07.01.2019</td>\n",
       "      <td>missing</td>\n",
       "      <td>1000.000000</td>\n",
       "      <td>1200.000000</td>\n",
       "      <td>50.5 horsepower</td>\n",
       "      <td>red</td>\n",
       "      <td>1999</td>\n",
       "      <td>1</td>\n",
       "    </tr>\n",
       "    <tr>\n",
       "      <th>7</th>\n",
       "      <td>07.02.2019</td>\n",
       "      <td>Honda</td>\n",
       "      <td>1500.000000</td>\n",
       "      <td>1100.000000</td>\n",
       "      <td>45.0 horsepower</td>\n",
       "      <td>yellow</td>\n",
       "      <td>1995</td>\n",
       "      <td>1</td>\n",
       "    </tr>\n",
       "  </tbody>\n",
       "</table>\n",
       "</div>"
      ],
      "text/plain": [
       "         Date           Brand        Price1        Price2            Engine  \\\n",
       "0  10.10.2018     Honda Civic  22000.000000  23000.000000  150.0 horsepower   \n",
       "1  14.10.2018         missing  25000.000000  21000.000000  100.0 horsepower   \n",
       "2  07.11.2018  Toyota Corolla  27000.000000  25000.000000  250.0 horsepower   \n",
       "3  20.11.2018      Ford Focus  18071.428571  16757.142857  100.5 horsepower   \n",
       "4  06.12.2018         missing  35000.000000  35000.000000   50.0 horsepower   \n",
       "5  01.01.2019         Audi A4  15000.000000  11000.000000   40.0 horsepower   \n",
       "6  07.01.2019         missing   1000.000000   1200.000000   50.5 horsepower   \n",
       "7  07.02.2019           Honda   1500.000000   1100.000000   45.0 horsepower   \n",
       "\n",
       "     Color  Year  Label  \n",
       "0      red  2000      1  \n",
       "1     blue  2010      0  \n",
       "2    green  2015      0  \n",
       "3      red  2011      0  \n",
       "4  missing  2019      0  \n",
       "5     blue  2005      0  \n",
       "6      red  1999      1  \n",
       "7   yellow  1995      1  "
      ]
     },
     "execution_count": 17,
     "metadata": {},
     "output_type": "execute_result"
    }
   ],
   "source": [
    "# Fill in missing values\n",
    "df['Brand'].fillna('missing', inplace=True)\n",
    "df['Color'].fillna('missing', inplace=True)\n",
    "\n",
    "df['Price1'].fillna(df['Price1'].mean(), inplace=True)\n",
    "df['Price2'].fillna(df['Price2'].mean(), inplace=True)\n",
    "\n",
    "df"
   ]
  },
  {
   "cell_type": "markdown",
   "metadata": {},
   "source": [
    "## Data types"
   ]
  },
  {
   "cell_type": "code",
   "execution_count": 18,
   "metadata": {
    "ExecuteTime": {
     "end_time": "2019-10-18T14:51:15.057081Z",
     "start_time": "2019-10-18T14:51:15.051838Z"
    }
   },
   "outputs": [
    {
     "data": {
      "text/plain": [
       "Date       object\n",
       "Brand      object\n",
       "Price1    float64\n",
       "Price2    float64\n",
       "Engine     object\n",
       "Color      object\n",
       "Year        int64\n",
       "Label       int64\n",
       "dtype: object"
      ]
     },
     "execution_count": 18,
     "metadata": {},
     "output_type": "execute_result"
    }
   ],
   "source": [
    "# Check Data Types\n",
    "df.dtypes"
   ]
  },
  {
   "cell_type": "code",
   "execution_count": 19,
   "metadata": {
    "ExecuteTime": {
     "end_time": "2019-10-18T14:51:15.693611Z",
     "start_time": "2019-10-18T14:51:15.683002Z"
    }
   },
   "outputs": [
    {
     "data": {
      "text/plain": [
       "Date       object\n",
       "Brand      object\n",
       "Price1    float32\n",
       "Price2    float32\n",
       "Engine     object\n",
       "Color      object\n",
       "Year        int32\n",
       "Label       int64\n",
       "dtype: object"
      ]
     },
     "execution_count": 19,
     "metadata": {},
     "output_type": "execute_result"
    }
   ],
   "source": [
    "# Reduce memory usage\n",
    "if df['Price1'].min() > np.finfo(\n",
    "        np.float32).min and df['Price1'].max() < np.finfo(np.float32).max:\n",
    "    df['Price1'] = df['Price1'].astype(np.float32)\n",
    "\n",
    "if df['Price2'].min() > np.finfo(\n",
    "        np.float32).min and df['Price2'].max() < np.finfo(np.float32).max:\n",
    "    df['Price2'] = df['Price2'].astype(np.float32)\n",
    "\n",
    "if df['Year'].min() > np.iinfo(np.int32).min and df['Year'].max() < np.iinfo(\n",
    "        np.int32).max:\n",
    "    df['Year'] = df['Year'].astype(np.int32)\n",
    "\n",
    "# Check Data Types\n",
    "df.dtypes"
   ]
  },
  {
   "cell_type": "markdown",
   "metadata": {},
   "source": [
    "## Standartization"
   ]
  },
  {
   "cell_type": "markdown",
   "metadata": {},
   "source": [
    "### Log normalization\n",
    "\n",
    "_Example of using: Column with hight varience_"
   ]
  },
  {
   "cell_type": "code",
   "execution_count": 20,
   "metadata": {
    "ExecuteTime": {
     "end_time": "2019-10-18T14:51:28.403369Z",
     "start_time": "2019-10-18T14:51:28.394608Z"
    }
   },
   "outputs": [
    {
     "data": {
      "text/plain": [
       "Price1    1.436020e+08\n",
       "Price2    1.397196e+08\n",
       "Year      7.050000e+01\n",
       "Label     2.678571e-01\n",
       "dtype: float64"
      ]
     },
     "execution_count": 20,
     "metadata": {},
     "output_type": "execute_result"
    }
   ],
   "source": [
    "df.var()"
   ]
  },
  {
   "cell_type": "code",
   "execution_count": 21,
   "metadata": {
    "ExecuteTime": {
     "end_time": "2019-10-18T14:51:29.623439Z",
     "start_time": "2019-10-18T14:51:29.617735Z"
    }
   },
   "outputs": [
    {
     "data": {
      "text/plain": [
       "1.7505037342915824e-05"
      ]
     },
     "execution_count": 21,
     "metadata": {},
     "output_type": "execute_result"
    }
   ],
   "source": [
    "df['log_Year'] = np.log(df['Year'])\n",
    "df['log_Year'].var()"
   ]
  },
  {
   "cell_type": "markdown",
   "metadata": {},
   "source": [
    "### Scaling data "
   ]
  },
  {
   "cell_type": "code",
   "execution_count": 22,
   "metadata": {
    "ExecuteTime": {
     "end_time": "2019-10-18T14:51:31.962864Z",
     "start_time": "2019-10-18T14:51:31.953489Z"
    }
   },
   "outputs": [
    {
     "data": {
      "text/plain": [
       "array([[ 3.50469584e-01,  5.64612799e-01, -8.59419469e-01],\n",
       "       [ 6.18100895e-01,  3.83729981e-01,  4.13794559e-01],\n",
       "       [ 7.96521770e-01,  7.45495617e-01,  1.05040157e+00],\n",
       "       [-6.53396756e-08, -2.20804221e-08,  5.41115962e-01],\n",
       "       [ 1.51020527e+00,  1.64990971e+00,  1.55968718e+00],\n",
       "       [-2.74003476e-01, -5.20684108e-01, -2.22812455e-01],\n",
       "       [-1.52294960e+00, -1.40700992e+00, -9.86740872e-01],\n",
       "       [-1.47834438e+00, -1.41605406e+00, -1.49602648e+00]])"
      ]
     },
     "execution_count": 22,
     "metadata": {},
     "output_type": "execute_result"
    }
   ],
   "source": [
    "# Create the scaler\n",
    "ss = StandardScaler()\n",
    "\n",
    "# Take a subset of the DataFrame you want to scale\n",
    "df_subset = df[['Price1', 'Price2', 'Year']]\n",
    "\n",
    "# Apply the scaler to the DataFrame subset\n",
    "df_subset_scaled = ss.fit_transform(df_subset)\n",
    "\n",
    "df_subset_scaled"
   ]
  },
  {
   "cell_type": "markdown",
   "metadata": {},
   "source": [
    "## Feature engineering "
   ]
  },
  {
   "cell_type": "code",
   "execution_count": 23,
   "metadata": {
    "ExecuteTime": {
     "end_time": "2019-10-18T14:51:36.838947Z",
     "start_time": "2019-10-18T14:51:36.827445Z"
    }
   },
   "outputs": [
    {
     "data": {
      "text/html": [
       "<div>\n",
       "<style scoped>\n",
       "    .dataframe tbody tr th:only-of-type {\n",
       "        vertical-align: middle;\n",
       "    }\n",
       "\n",
       "    .dataframe tbody tr th {\n",
       "        vertical-align: top;\n",
       "    }\n",
       "\n",
       "    .dataframe thead th {\n",
       "        text-align: right;\n",
       "    }\n",
       "</style>\n",
       "<table border=\"1\" class=\"dataframe\">\n",
       "  <thead>\n",
       "    <tr style=\"text-align: right;\">\n",
       "      <th></th>\n",
       "      <th>Price1</th>\n",
       "      <th>Price_type</th>\n",
       "    </tr>\n",
       "  </thead>\n",
       "  <tbody>\n",
       "    <tr>\n",
       "      <th>0</th>\n",
       "      <td>22000.000000</td>\n",
       "      <td>higth</td>\n",
       "    </tr>\n",
       "    <tr>\n",
       "      <th>1</th>\n",
       "      <td>25000.000000</td>\n",
       "      <td>higth</td>\n",
       "    </tr>\n",
       "    <tr>\n",
       "      <th>2</th>\n",
       "      <td>27000.000000</td>\n",
       "      <td>higth</td>\n",
       "    </tr>\n",
       "    <tr>\n",
       "      <th>3</th>\n",
       "      <td>18071.427734</td>\n",
       "      <td>higth</td>\n",
       "    </tr>\n",
       "    <tr>\n",
       "      <th>4</th>\n",
       "      <td>35000.000000</td>\n",
       "      <td>higth</td>\n",
       "    </tr>\n",
       "    <tr>\n",
       "      <th>5</th>\n",
       "      <td>15000.000000</td>\n",
       "      <td>higth</td>\n",
       "    </tr>\n",
       "    <tr>\n",
       "      <th>6</th>\n",
       "      <td>1000.000000</td>\n",
       "      <td>low</td>\n",
       "    </tr>\n",
       "    <tr>\n",
       "      <th>7</th>\n",
       "      <td>1500.000000</td>\n",
       "      <td>low</td>\n",
       "    </tr>\n",
       "  </tbody>\n",
       "</table>\n",
       "</div>"
      ],
      "text/plain": [
       "         Price1 Price_type\n",
       "0  22000.000000      higth\n",
       "1  25000.000000      higth\n",
       "2  27000.000000      higth\n",
       "3  18071.427734      higth\n",
       "4  35000.000000      higth\n",
       "5  15000.000000      higth\n",
       "6   1000.000000        low\n",
       "7   1500.000000        low"
      ]
     },
     "execution_count": 23,
     "metadata": {},
     "output_type": "execute_result"
    }
   ],
   "source": [
    "df['Price_type'] = 'low'\n",
    "df.loc[(df['Price1'] > 10000), 'Price_type'] = 'higth'\n",
    "df[['Price1', 'Price_type']]"
   ]
  },
  {
   "cell_type": "markdown",
   "metadata": {},
   "source": [
    "### Encoding categorical variables"
   ]
  },
  {
   "cell_type": "markdown",
   "metadata": {},
   "source": [
    "#### Label Encoder"
   ]
  },
  {
   "cell_type": "code",
   "execution_count": 24,
   "metadata": {
    "ExecuteTime": {
     "end_time": "2019-10-18T14:51:46.684488Z",
     "start_time": "2019-10-18T14:51:46.676714Z"
    }
   },
   "outputs": [
    {
     "name": "stdout",
     "output_type": "stream",
     "text": [
      "     Color  Color_enc\n",
      "0      red          3\n",
      "1     blue          0\n",
      "2    green          1\n",
      "3      red          3\n",
      "4  missing          2\n"
     ]
    }
   ],
   "source": [
    "# Set up the LabelEncoder object\n",
    "enc = LabelEncoder()\n",
    "\n",
    "# Apply the encoding to the Color column\n",
    "df['Color_enc'] = enc.fit_transform(df['Color'])\n",
    "\n",
    "# Compare the two columns\n",
    "print(df[['Color', 'Color_enc']].head())"
   ]
  },
  {
   "cell_type": "markdown",
   "metadata": {},
   "source": [
    "#### One Hot Encoder"
   ]
  },
  {
   "cell_type": "code",
   "execution_count": 25,
   "metadata": {
    "ExecuteTime": {
     "end_time": "2019-10-18T14:51:50.721059Z",
     "start_time": "2019-10-18T14:51:50.708333Z"
    }
   },
   "outputs": [
    {
     "data": {
      "text/html": [
       "<div>\n",
       "<style scoped>\n",
       "    .dataframe tbody tr th:only-of-type {\n",
       "        vertical-align: middle;\n",
       "    }\n",
       "\n",
       "    .dataframe tbody tr th {\n",
       "        vertical-align: top;\n",
       "    }\n",
       "\n",
       "    .dataframe thead th {\n",
       "        text-align: right;\n",
       "    }\n",
       "</style>\n",
       "<table border=\"1\" class=\"dataframe\">\n",
       "  <thead>\n",
       "    <tr style=\"text-align: right;\">\n",
       "      <th></th>\n",
       "      <th>Price_type</th>\n",
       "      <th>higth</th>\n",
       "      <th>low</th>\n",
       "    </tr>\n",
       "  </thead>\n",
       "  <tbody>\n",
       "    <tr>\n",
       "      <th>0</th>\n",
       "      <td>higth</td>\n",
       "      <td>1</td>\n",
       "      <td>0</td>\n",
       "    </tr>\n",
       "    <tr>\n",
       "      <th>1</th>\n",
       "      <td>higth</td>\n",
       "      <td>1</td>\n",
       "      <td>0</td>\n",
       "    </tr>\n",
       "    <tr>\n",
       "      <th>2</th>\n",
       "      <td>higth</td>\n",
       "      <td>1</td>\n",
       "      <td>0</td>\n",
       "    </tr>\n",
       "    <tr>\n",
       "      <th>3</th>\n",
       "      <td>higth</td>\n",
       "      <td>1</td>\n",
       "      <td>0</td>\n",
       "    </tr>\n",
       "    <tr>\n",
       "      <th>4</th>\n",
       "      <td>higth</td>\n",
       "      <td>1</td>\n",
       "      <td>0</td>\n",
       "    </tr>\n",
       "    <tr>\n",
       "      <th>5</th>\n",
       "      <td>higth</td>\n",
       "      <td>1</td>\n",
       "      <td>0</td>\n",
       "    </tr>\n",
       "    <tr>\n",
       "      <th>6</th>\n",
       "      <td>low</td>\n",
       "      <td>0</td>\n",
       "      <td>1</td>\n",
       "    </tr>\n",
       "    <tr>\n",
       "      <th>7</th>\n",
       "      <td>low</td>\n",
       "      <td>0</td>\n",
       "      <td>1</td>\n",
       "    </tr>\n",
       "  </tbody>\n",
       "</table>\n",
       "</div>"
      ],
      "text/plain": [
       "  Price_type  higth  low\n",
       "0      higth      1    0\n",
       "1      higth      1    0\n",
       "2      higth      1    0\n",
       "3      higth      1    0\n",
       "4      higth      1    0\n",
       "5      higth      1    0\n",
       "6        low      0    1\n",
       "7        low      0    1"
      ]
     },
     "execution_count": 25,
     "metadata": {},
     "output_type": "execute_result"
    }
   ],
   "source": [
    "# Transform the Color column and concatinate with DataSet\n",
    "df = pd.concat([df, pd.get_dummies(df['Price_type'])], axis=1)\n",
    "\n",
    "df[['Price_type', 'higth', 'low']]"
   ]
  },
  {
   "cell_type": "markdown",
   "metadata": {},
   "source": [
    "### Engineering numerical features "
   ]
  },
  {
   "cell_type": "markdown",
   "metadata": {},
   "source": [
    "#### Average"
   ]
  },
  {
   "cell_type": "code",
   "execution_count": 26,
   "metadata": {
    "ExecuteTime": {
     "end_time": "2019-10-18T14:51:57.157892Z",
     "start_time": "2019-10-18T14:51:57.140325Z"
    }
   },
   "outputs": [
    {
     "name": "stdout",
     "output_type": "stream",
     "text": [
      "         Price1        Price2  Price_average  Price_average_log\n",
      "0  22000.000000  23000.000000   22500.000000          10.021271\n",
      "1  25000.000000  21000.000000   23000.000000          10.043249\n",
      "2  27000.000000  25000.000000   26000.000000          10.165852\n",
      "3  18071.427734  16757.142578   17414.285156           9.765046\n",
      "4  35000.000000  35000.000000   35000.000000          10.463103\n",
      "5  15000.000000  11000.000000   13000.000000           9.472705\n",
      "6   1000.000000   1200.000000    1100.000000           7.003065\n",
      "7   1500.000000   1100.000000    1300.000000           7.170120\n"
     ]
    }
   ],
   "source": [
    "# Create a list of the columns to average\n",
    "price_columns = ['Price1', 'Price2']\n",
    "\n",
    "# Use apply to create a mean column\n",
    "df['Price_average'] = df.apply(lambda row: row[price_columns].mean(), axis=1)\n",
    "df['Price_average_log'] = np.log(df['Price_average'])\n",
    "\n",
    "# Take a look at the results\n",
    "print(df[['Price1', 'Price2', 'Price_average', 'Price_average_log']])"
   ]
  },
  {
   "cell_type": "markdown",
   "metadata": {},
   "source": [
    "#### Datetime"
   ]
  },
  {
   "cell_type": "code",
   "execution_count": 27,
   "metadata": {
    "ExecuteTime": {
     "end_time": "2019-10-18T14:53:01.330746Z",
     "start_time": "2019-10-18T14:53:01.318615Z"
    }
   },
   "outputs": [
    {
     "name": "stdout",
     "output_type": "stream",
     "text": [
      "  Date_converted  Date_month  Date_year\n",
      "0     2018-10-10          10       2018\n",
      "1     2018-10-14          10       2018\n",
      "2     2018-07-11           7       2018\n",
      "3     2018-11-20          11       2018\n",
      "4     2018-06-12           6       2018\n",
      "5     2019-01-01           1       2019\n",
      "6     2019-07-01           7       2019\n",
      "7     2019-07-02           7       2019\n"
     ]
    }
   ],
   "source": [
    "# First, convert string column to date column\n",
    "df['Date_converted'] = pd.to_datetime(df['Date'])\n",
    "\n",
    "# Extract just the month and year from the converted column\n",
    "df['Date_month'] = df.apply(lambda row: row['Date_converted'].month, axis=1)\n",
    "df['Date_year'] = df.apply(lambda row: row['Date_converted'].year, axis=1)\n",
    "\n",
    "# Take a look at the converted and new month columns\n",
    "print(df[['Date_converted', 'Date_month', 'Date_year']])"
   ]
  },
  {
   "cell_type": "markdown",
   "metadata": {
    "ExecuteTime": {
     "end_time": "2019-10-17T14:50:48.282653Z",
     "start_time": "2019-10-17T14:50:48.258729Z"
    }
   },
   "source": [
    "#### Text classification"
   ]
  },
  {
   "cell_type": "code",
   "execution_count": 28,
   "metadata": {
    "ExecuteTime": {
     "end_time": "2019-10-18T14:53:05.834922Z",
     "start_time": "2019-10-18T14:53:05.823402Z"
    }
   },
   "outputs": [
    {
     "data": {
      "text/html": [
       "<div>\n",
       "<style scoped>\n",
       "    .dataframe tbody tr th:only-of-type {\n",
       "        vertical-align: middle;\n",
       "    }\n",
       "\n",
       "    .dataframe tbody tr th {\n",
       "        vertical-align: top;\n",
       "    }\n",
       "\n",
       "    .dataframe thead th {\n",
       "        text-align: right;\n",
       "    }\n",
       "</style>\n",
       "<table border=\"1\" class=\"dataframe\">\n",
       "  <thead>\n",
       "    <tr style=\"text-align: right;\">\n",
       "      <th></th>\n",
       "      <th>Engine</th>\n",
       "      <th>Engine_hp</th>\n",
       "    </tr>\n",
       "  </thead>\n",
       "  <tbody>\n",
       "    <tr>\n",
       "      <th>0</th>\n",
       "      <td>150.0 horsepower</td>\n",
       "      <td>150.0</td>\n",
       "    </tr>\n",
       "    <tr>\n",
       "      <th>1</th>\n",
       "      <td>100.0 horsepower</td>\n",
       "      <td>100.0</td>\n",
       "    </tr>\n",
       "    <tr>\n",
       "      <th>2</th>\n",
       "      <td>250.0 horsepower</td>\n",
       "      <td>250.0</td>\n",
       "    </tr>\n",
       "    <tr>\n",
       "      <th>3</th>\n",
       "      <td>100.5 horsepower</td>\n",
       "      <td>100.5</td>\n",
       "    </tr>\n",
       "    <tr>\n",
       "      <th>4</th>\n",
       "      <td>50.0 horsepower</td>\n",
       "      <td>50.0</td>\n",
       "    </tr>\n",
       "    <tr>\n",
       "      <th>5</th>\n",
       "      <td>40.0 horsepower</td>\n",
       "      <td>40.0</td>\n",
       "    </tr>\n",
       "    <tr>\n",
       "      <th>6</th>\n",
       "      <td>50.5 horsepower</td>\n",
       "      <td>50.5</td>\n",
       "    </tr>\n",
       "    <tr>\n",
       "      <th>7</th>\n",
       "      <td>45.0 horsepower</td>\n",
       "      <td>45.0</td>\n",
       "    </tr>\n",
       "  </tbody>\n",
       "</table>\n",
       "</div>"
      ],
      "text/plain": [
       "             Engine  Engine_hp\n",
       "0  150.0 horsepower      150.0\n",
       "1  100.0 horsepower      100.0\n",
       "2  250.0 horsepower      250.0\n",
       "3  100.5 horsepower      100.5\n",
       "4   50.0 horsepower       50.0\n",
       "5   40.0 horsepower       40.0\n",
       "6   50.5 horsepower       50.5\n",
       "7   45.0 horsepower       45.0"
      ]
     },
     "execution_count": 28,
     "metadata": {},
     "output_type": "execute_result"
    }
   ],
   "source": [
    "def return_hp(str):\n",
    "    '''\n",
    "    Write a pattern to extract numbers and decimals\n",
    "    Parameters:\n",
    "        :params str: input string\n",
    "    '''\n",
    "    pattern = re.compile(r'\\d+\\.\\d+')\n",
    "\n",
    "    # Search the text for matches\n",
    "    hp = re.match(pattern, str)\n",
    "\n",
    "    # If a value is returned, use group(0) to return the found value\n",
    "    if hp is not None:\n",
    "        return float(hp.group(0))\n",
    "\n",
    "\n",
    "# Apply the function to the Length column and take a look at both columns\n",
    "df['Engine_hp'] = df['Engine'].apply(lambda row: return_hp(row))\n",
    "df[['Engine', 'Engine_hp']]"
   ]
  },
  {
   "cell_type": "code",
   "execution_count": 29,
   "metadata": {
    "ExecuteTime": {
     "end_time": "2019-10-18T14:53:08.371015Z",
     "start_time": "2019-10-18T14:53:08.354287Z"
    }
   },
   "outputs": [
    {
     "data": {
      "text/html": [
       "<div>\n",
       "<style scoped>\n",
       "    .dataframe tbody tr th:only-of-type {\n",
       "        vertical-align: middle;\n",
       "    }\n",
       "\n",
       "    .dataframe tbody tr th {\n",
       "        vertical-align: top;\n",
       "    }\n",
       "\n",
       "    .dataframe thead th {\n",
       "        text-align: right;\n",
       "    }\n",
       "</style>\n",
       "<table border=\"1\" class=\"dataframe\">\n",
       "  <thead>\n",
       "    <tr style=\"text-align: right;\">\n",
       "      <th></th>\n",
       "      <th>Brand</th>\n",
       "      <th>Brand_text_tfidf</th>\n",
       "    </tr>\n",
       "  </thead>\n",
       "  <tbody>\n",
       "    <tr>\n",
       "      <th>0</th>\n",
       "      <td>Honda Civic</td>\n",
       "      <td>(0, 2)\\t0.7664298449085388\\n  (0, 6)\\t0.6423...</td>\n",
       "    </tr>\n",
       "    <tr>\n",
       "      <th>1</th>\n",
       "      <td>missing</td>\n",
       "      <td>(0, 2)\\t0.7664298449085388\\n  (0, 6)\\t0.6423...</td>\n",
       "    </tr>\n",
       "    <tr>\n",
       "      <th>2</th>\n",
       "      <td>Toyota Corolla</td>\n",
       "      <td>(0, 2)\\t0.7664298449085388\\n  (0, 6)\\t0.6423...</td>\n",
       "    </tr>\n",
       "    <tr>\n",
       "      <th>3</th>\n",
       "      <td>Ford Focus</td>\n",
       "      <td>(0, 2)\\t0.7664298449085388\\n  (0, 6)\\t0.6423...</td>\n",
       "    </tr>\n",
       "    <tr>\n",
       "      <th>4</th>\n",
       "      <td>missing</td>\n",
       "      <td>(0, 2)\\t0.7664298449085388\\n  (0, 6)\\t0.6423...</td>\n",
       "    </tr>\n",
       "    <tr>\n",
       "      <th>5</th>\n",
       "      <td>Audi A4</td>\n",
       "      <td>(0, 2)\\t0.7664298449085388\\n  (0, 6)\\t0.6423...</td>\n",
       "    </tr>\n",
       "    <tr>\n",
       "      <th>6</th>\n",
       "      <td>missing</td>\n",
       "      <td>(0, 2)\\t0.7664298449085388\\n  (0, 6)\\t0.6423...</td>\n",
       "    </tr>\n",
       "    <tr>\n",
       "      <th>7</th>\n",
       "      <td>Honda</td>\n",
       "      <td>(0, 2)\\t0.7664298449085388\\n  (0, 6)\\t0.6423...</td>\n",
       "    </tr>\n",
       "  </tbody>\n",
       "</table>\n",
       "</div>"
      ],
      "text/plain": [
       "            Brand                                   Brand_text_tfidf\n",
       "0     Honda Civic    (0, 2)\\t0.7664298449085388\\n  (0, 6)\\t0.6423...\n",
       "1         missing    (0, 2)\\t0.7664298449085388\\n  (0, 6)\\t0.6423...\n",
       "2  Toyota Corolla    (0, 2)\\t0.7664298449085388\\n  (0, 6)\\t0.6423...\n",
       "3      Ford Focus    (0, 2)\\t0.7664298449085388\\n  (0, 6)\\t0.6423...\n",
       "4         missing    (0, 2)\\t0.7664298449085388\\n  (0, 6)\\t0.6423...\n",
       "5         Audi A4    (0, 2)\\t0.7664298449085388\\n  (0, 6)\\t0.6423...\n",
       "6         missing    (0, 2)\\t0.7664298449085388\\n  (0, 6)\\t0.6423...\n",
       "7           Honda    (0, 2)\\t0.7664298449085388\\n  (0, 6)\\t0.6423..."
      ]
     },
     "execution_count": 29,
     "metadata": {},
     "output_type": "execute_result"
    }
   ],
   "source": [
    "# transformation into a text vector\n",
    "\n",
    "# Create the vectorizer method\n",
    "tfidf_vec = TfidfVectorizer()\n",
    "\n",
    "# Transform the text into tf-idf vectors\n",
    "df['Brand_text_tfidf'] = tfidf_vec.fit_transform(df['Brand'])\n",
    "\n",
    "df[['Brand', 'Brand_text_tfidf']]"
   ]
  },
  {
   "cell_type": "markdown",
   "metadata": {},
   "source": [
    "## Removing redundant features\n",
    "__remove noisy/correlated/duplicated features__"
   ]
  },
  {
   "cell_type": "markdown",
   "metadata": {
    "ExecuteTime": {
     "end_time": "2019-10-18T10:13:59.379208Z",
     "start_time": "2019-10-18T10:13:59.377041Z"
    }
   },
   "source": [
    "### Redundant columns"
   ]
  },
  {
   "cell_type": "code",
   "execution_count": 30,
   "metadata": {
    "ExecuteTime": {
     "end_time": "2019-10-18T14:53:16.594345Z",
     "start_time": "2019-10-18T14:53:16.577477Z"
    }
   },
   "outputs": [
    {
     "data": {
      "text/html": [
       "<div>\n",
       "<style scoped>\n",
       "    .dataframe tbody tr th:only-of-type {\n",
       "        vertical-align: middle;\n",
       "    }\n",
       "\n",
       "    .dataframe tbody tr th {\n",
       "        vertical-align: top;\n",
       "    }\n",
       "\n",
       "    .dataframe thead th {\n",
       "        text-align: right;\n",
       "    }\n",
       "</style>\n",
       "<table border=\"1\" class=\"dataframe\">\n",
       "  <thead>\n",
       "    <tr style=\"text-align: right;\">\n",
       "      <th></th>\n",
       "      <th>Label</th>\n",
       "      <th>log_Year</th>\n",
       "      <th>Color_enc</th>\n",
       "      <th>low</th>\n",
       "      <th>Price_average_log</th>\n",
       "      <th>Date_month</th>\n",
       "      <th>Date_year</th>\n",
       "      <th>Engine_hp</th>\n",
       "      <th>Brand_text_tfidf</th>\n",
       "    </tr>\n",
       "  </thead>\n",
       "  <tbody>\n",
       "    <tr>\n",
       "      <th>0</th>\n",
       "      <td>1</td>\n",
       "      <td>7.600902</td>\n",
       "      <td>3</td>\n",
       "      <td>0</td>\n",
       "      <td>10.021271</td>\n",
       "      <td>10</td>\n",
       "      <td>2018</td>\n",
       "      <td>150.0</td>\n",
       "      <td>(0, 2)\\t0.7664298449085388\\n  (0, 6)\\t0.6423...</td>\n",
       "    </tr>\n",
       "    <tr>\n",
       "      <th>1</th>\n",
       "      <td>0</td>\n",
       "      <td>7.605890</td>\n",
       "      <td>0</td>\n",
       "      <td>0</td>\n",
       "      <td>10.043249</td>\n",
       "      <td>10</td>\n",
       "      <td>2018</td>\n",
       "      <td>100.0</td>\n",
       "      <td>(0, 2)\\t0.7664298449085388\\n  (0, 6)\\t0.6423...</td>\n",
       "    </tr>\n",
       "    <tr>\n",
       "      <th>2</th>\n",
       "      <td>0</td>\n",
       "      <td>7.608374</td>\n",
       "      <td>1</td>\n",
       "      <td>0</td>\n",
       "      <td>10.165852</td>\n",
       "      <td>7</td>\n",
       "      <td>2018</td>\n",
       "      <td>250.0</td>\n",
       "      <td>(0, 2)\\t0.7664298449085388\\n  (0, 6)\\t0.6423...</td>\n",
       "    </tr>\n",
       "    <tr>\n",
       "      <th>3</th>\n",
       "      <td>0</td>\n",
       "      <td>7.606387</td>\n",
       "      <td>3</td>\n",
       "      <td>0</td>\n",
       "      <td>9.765046</td>\n",
       "      <td>11</td>\n",
       "      <td>2018</td>\n",
       "      <td>100.5</td>\n",
       "      <td>(0, 2)\\t0.7664298449085388\\n  (0, 6)\\t0.6423...</td>\n",
       "    </tr>\n",
       "    <tr>\n",
       "      <th>4</th>\n",
       "      <td>0</td>\n",
       "      <td>7.610358</td>\n",
       "      <td>2</td>\n",
       "      <td>0</td>\n",
       "      <td>10.463103</td>\n",
       "      <td>6</td>\n",
       "      <td>2018</td>\n",
       "      <td>50.0</td>\n",
       "      <td>(0, 2)\\t0.7664298449085388\\n  (0, 6)\\t0.6423...</td>\n",
       "    </tr>\n",
       "    <tr>\n",
       "      <th>5</th>\n",
       "      <td>0</td>\n",
       "      <td>7.603399</td>\n",
       "      <td>0</td>\n",
       "      <td>0</td>\n",
       "      <td>9.472705</td>\n",
       "      <td>1</td>\n",
       "      <td>2019</td>\n",
       "      <td>40.0</td>\n",
       "      <td>(0, 2)\\t0.7664298449085388\\n  (0, 6)\\t0.6423...</td>\n",
       "    </tr>\n",
       "    <tr>\n",
       "      <th>6</th>\n",
       "      <td>1</td>\n",
       "      <td>7.600402</td>\n",
       "      <td>3</td>\n",
       "      <td>1</td>\n",
       "      <td>7.003065</td>\n",
       "      <td>7</td>\n",
       "      <td>2019</td>\n",
       "      <td>50.5</td>\n",
       "      <td>(0, 2)\\t0.7664298449085388\\n  (0, 6)\\t0.6423...</td>\n",
       "    </tr>\n",
       "    <tr>\n",
       "      <th>7</th>\n",
       "      <td>1</td>\n",
       "      <td>7.598399</td>\n",
       "      <td>4</td>\n",
       "      <td>1</td>\n",
       "      <td>7.170120</td>\n",
       "      <td>7</td>\n",
       "      <td>2019</td>\n",
       "      <td>45.0</td>\n",
       "      <td>(0, 2)\\t0.7664298449085388\\n  (0, 6)\\t0.6423...</td>\n",
       "    </tr>\n",
       "  </tbody>\n",
       "</table>\n",
       "</div>"
      ],
      "text/plain": [
       "   Label  log_Year  Color_enc  low  Price_average_log  Date_month  Date_year  \\\n",
       "0      1  7.600902          3    0          10.021271          10       2018   \n",
       "1      0  7.605890          0    0          10.043249          10       2018   \n",
       "2      0  7.608374          1    0          10.165852           7       2018   \n",
       "3      0  7.606387          3    0           9.765046          11       2018   \n",
       "4      0  7.610358          2    0          10.463103           6       2018   \n",
       "5      0  7.603399          0    0           9.472705           1       2019   \n",
       "6      1  7.600402          3    1           7.003065           7       2019   \n",
       "7      1  7.598399          4    1           7.170120           7       2019   \n",
       "\n",
       "   Engine_hp                                   Brand_text_tfidf  \n",
       "0      150.0    (0, 2)\\t0.7664298449085388\\n  (0, 6)\\t0.6423...  \n",
       "1      100.0    (0, 2)\\t0.7664298449085388\\n  (0, 6)\\t0.6423...  \n",
       "2      250.0    (0, 2)\\t0.7664298449085388\\n  (0, 6)\\t0.6423...  \n",
       "3      100.5    (0, 2)\\t0.7664298449085388\\n  (0, 6)\\t0.6423...  \n",
       "4       50.0    (0, 2)\\t0.7664298449085388\\n  (0, 6)\\t0.6423...  \n",
       "5       40.0    (0, 2)\\t0.7664298449085388\\n  (0, 6)\\t0.6423...  \n",
       "6       50.5    (0, 2)\\t0.7664298449085388\\n  (0, 6)\\t0.6423...  \n",
       "7       45.0    (0, 2)\\t0.7664298449085388\\n  (0, 6)\\t0.6423...  "
      ]
     },
     "execution_count": 30,
     "metadata": {},
     "output_type": "execute_result"
    }
   ],
   "source": [
    "# Create a list of redundant column names to drop\n",
    "to_drop = [\n",
    "    'Brand', 'Price1', 'Price2', 'Price_type', 'higth', 'Price_average',\n",
    "    'Engine', 'Color', 'Year', 'Date', 'Date_converted'\n",
    "]\n",
    "\n",
    "# Drop those columns from the dataset\n",
    "df_subset_1 = df.drop(to_drop, axis=1)\n",
    "\n",
    "# Print out the head of the new dataset\n",
    "df_subset_1"
   ]
  },
  {
   "cell_type": "markdown",
   "metadata": {},
   "source": [
    "### Correlated columns"
   ]
  },
  {
   "cell_type": "code",
   "execution_count": 31,
   "metadata": {
    "ExecuteTime": {
     "end_time": "2019-10-18T14:53:22.463710Z",
     "start_time": "2019-10-18T14:53:22.449916Z"
    }
   },
   "outputs": [
    {
     "data": {
      "text/html": [
       "<div>\n",
       "<style scoped>\n",
       "    .dataframe tbody tr th:only-of-type {\n",
       "        vertical-align: middle;\n",
       "    }\n",
       "\n",
       "    .dataframe tbody tr th {\n",
       "        vertical-align: top;\n",
       "    }\n",
       "\n",
       "    .dataframe thead th {\n",
       "        text-align: right;\n",
       "    }\n",
       "</style>\n",
       "<table border=\"1\" class=\"dataframe\">\n",
       "  <thead>\n",
       "    <tr style=\"text-align: right;\">\n",
       "      <th></th>\n",
       "      <th>Label</th>\n",
       "      <th>log_Year</th>\n",
       "      <th>Color_enc</th>\n",
       "      <th>low</th>\n",
       "      <th>Price_average_log</th>\n",
       "      <th>Date_month</th>\n",
       "      <th>Date_year</th>\n",
       "      <th>Engine_hp</th>\n",
       "    </tr>\n",
       "  </thead>\n",
       "  <tbody>\n",
       "    <tr>\n",
       "      <th>Label</th>\n",
       "      <td>1.000000</td>\n",
       "      <td>-0.863475</td>\n",
       "      <td>0.730297</td>\n",
       "      <td>0.745356</td>\n",
       "      <td>-0.721943</td>\n",
       "      <td>0.163810</td>\n",
       "      <td>0.466667</td>\n",
       "      <td>-0.188129</td>\n",
       "    </tr>\n",
       "    <tr>\n",
       "      <th>log_Year</th>\n",
       "      <td>-0.863475</td>\n",
       "      <td>1.000000</td>\n",
       "      <td>-0.507299</td>\n",
       "      <td>-0.717437</td>\n",
       "      <td>0.785789</td>\n",
       "      <td>0.025731</td>\n",
       "      <td>-0.698747</td>\n",
       "      <td>0.335709</td>\n",
       "    </tr>\n",
       "    <tr>\n",
       "      <th>Color_enc</th>\n",
       "      <td>0.730297</td>\n",
       "      <td>-0.507299</td>\n",
       "      <td>1.000000</td>\n",
       "      <td>0.612372</td>\n",
       "      <td>-0.554695</td>\n",
       "      <td>0.388797</td>\n",
       "      <td>0.182574</td>\n",
       "      <td>-0.181763</td>\n",
       "    </tr>\n",
       "    <tr>\n",
       "      <th>low</th>\n",
       "      <td>0.745356</td>\n",
       "      <td>-0.717437</td>\n",
       "      <td>0.612372</td>\n",
       "      <td>1.000000</td>\n",
       "      <td>-0.977408</td>\n",
       "      <td>-0.073258</td>\n",
       "      <td>0.745356</td>\n",
       "      <td>-0.431346</td>\n",
       "    </tr>\n",
       "    <tr>\n",
       "      <th>Price_average_log</th>\n",
       "      <td>-0.721943</td>\n",
       "      <td>0.785789</td>\n",
       "      <td>-0.554695</td>\n",
       "      <td>-0.977408</td>\n",
       "      <td>1.000000</td>\n",
       "      <td>0.137032</td>\n",
       "      <td>-0.832114</td>\n",
       "      <td>0.471780</td>\n",
       "    </tr>\n",
       "    <tr>\n",
       "      <th>Date_month</th>\n",
       "      <td>0.163810</td>\n",
       "      <td>0.025731</td>\n",
       "      <td>0.388797</td>\n",
       "      <td>-0.073258</td>\n",
       "      <td>0.137032</td>\n",
       "      <td>1.000000</td>\n",
       "      <td>-0.622477</td>\n",
       "      <td>0.354947</td>\n",
       "    </tr>\n",
       "    <tr>\n",
       "      <th>Date_year</th>\n",
       "      <td>0.466667</td>\n",
       "      <td>-0.698747</td>\n",
       "      <td>0.182574</td>\n",
       "      <td>0.745356</td>\n",
       "      <td>-0.832114</td>\n",
       "      <td>-0.622477</td>\n",
       "      <td>1.000000</td>\n",
       "      <td>-0.608316</td>\n",
       "    </tr>\n",
       "    <tr>\n",
       "      <th>Engine_hp</th>\n",
       "      <td>-0.188129</td>\n",
       "      <td>0.335709</td>\n",
       "      <td>-0.181763</td>\n",
       "      <td>-0.431346</td>\n",
       "      <td>0.471780</td>\n",
       "      <td>0.354947</td>\n",
       "      <td>-0.608316</td>\n",
       "      <td>1.000000</td>\n",
       "    </tr>\n",
       "  </tbody>\n",
       "</table>\n",
       "</div>"
      ],
      "text/plain": [
       "                      Label  log_Year  Color_enc       low  Price_average_log  \\\n",
       "Label              1.000000 -0.863475   0.730297  0.745356          -0.721943   \n",
       "log_Year          -0.863475  1.000000  -0.507299 -0.717437           0.785789   \n",
       "Color_enc          0.730297 -0.507299   1.000000  0.612372          -0.554695   \n",
       "low                0.745356 -0.717437   0.612372  1.000000          -0.977408   \n",
       "Price_average_log -0.721943  0.785789  -0.554695 -0.977408           1.000000   \n",
       "Date_month         0.163810  0.025731   0.388797 -0.073258           0.137032   \n",
       "Date_year          0.466667 -0.698747   0.182574  0.745356          -0.832114   \n",
       "Engine_hp         -0.188129  0.335709  -0.181763 -0.431346           0.471780   \n",
       "\n",
       "                   Date_month  Date_year  Engine_hp  \n",
       "Label                0.163810   0.466667  -0.188129  \n",
       "log_Year             0.025731  -0.698747   0.335709  \n",
       "Color_enc            0.388797   0.182574  -0.181763  \n",
       "low                 -0.073258   0.745356  -0.431346  \n",
       "Price_average_log    0.137032  -0.832114   0.471780  \n",
       "Date_month           1.000000  -0.622477   0.354947  \n",
       "Date_year           -0.622477   1.000000  -0.608316  \n",
       "Engine_hp            0.354947  -0.608316   1.000000  "
      ]
     },
     "execution_count": 31,
     "metadata": {},
     "output_type": "execute_result"
    }
   ],
   "source": [
    "# Print out the column correlations of the dataset\n",
    "df_subset_1.corr()"
   ]
  },
  {
   "cell_type": "code",
   "execution_count": 32,
   "metadata": {
    "ExecuteTime": {
     "end_time": "2019-10-18T14:53:53.576907Z",
     "start_time": "2019-10-18T14:53:53.563786Z"
    }
   },
   "outputs": [
    {
     "data": {
      "text/html": [
       "<div>\n",
       "<style scoped>\n",
       "    .dataframe tbody tr th:only-of-type {\n",
       "        vertical-align: middle;\n",
       "    }\n",
       "\n",
       "    .dataframe tbody tr th {\n",
       "        vertical-align: top;\n",
       "    }\n",
       "\n",
       "    .dataframe thead th {\n",
       "        text-align: right;\n",
       "    }\n",
       "</style>\n",
       "<table border=\"1\" class=\"dataframe\">\n",
       "  <thead>\n",
       "    <tr style=\"text-align: right;\">\n",
       "      <th></th>\n",
       "      <th>Label</th>\n",
       "      <th>Color_enc</th>\n",
       "      <th>low</th>\n",
       "      <th>Date_month</th>\n",
       "      <th>Date_year</th>\n",
       "      <th>Engine_hp</th>\n",
       "    </tr>\n",
       "  </thead>\n",
       "  <tbody>\n",
       "    <tr>\n",
       "      <th>Label</th>\n",
       "      <td>1.000000</td>\n",
       "      <td>0.730297</td>\n",
       "      <td>0.745356</td>\n",
       "      <td>0.163810</td>\n",
       "      <td>0.466667</td>\n",
       "      <td>-0.188129</td>\n",
       "    </tr>\n",
       "    <tr>\n",
       "      <th>Color_enc</th>\n",
       "      <td>0.730297</td>\n",
       "      <td>1.000000</td>\n",
       "      <td>0.612372</td>\n",
       "      <td>0.388797</td>\n",
       "      <td>0.182574</td>\n",
       "      <td>-0.181763</td>\n",
       "    </tr>\n",
       "    <tr>\n",
       "      <th>low</th>\n",
       "      <td>0.745356</td>\n",
       "      <td>0.612372</td>\n",
       "      <td>1.000000</td>\n",
       "      <td>-0.073258</td>\n",
       "      <td>0.745356</td>\n",
       "      <td>-0.431346</td>\n",
       "    </tr>\n",
       "    <tr>\n",
       "      <th>Date_month</th>\n",
       "      <td>0.163810</td>\n",
       "      <td>0.388797</td>\n",
       "      <td>-0.073258</td>\n",
       "      <td>1.000000</td>\n",
       "      <td>-0.622477</td>\n",
       "      <td>0.354947</td>\n",
       "    </tr>\n",
       "    <tr>\n",
       "      <th>Date_year</th>\n",
       "      <td>0.466667</td>\n",
       "      <td>0.182574</td>\n",
       "      <td>0.745356</td>\n",
       "      <td>-0.622477</td>\n",
       "      <td>1.000000</td>\n",
       "      <td>-0.608316</td>\n",
       "    </tr>\n",
       "    <tr>\n",
       "      <th>Engine_hp</th>\n",
       "      <td>-0.188129</td>\n",
       "      <td>-0.181763</td>\n",
       "      <td>-0.431346</td>\n",
       "      <td>0.354947</td>\n",
       "      <td>-0.608316</td>\n",
       "      <td>1.000000</td>\n",
       "    </tr>\n",
       "  </tbody>\n",
       "</table>\n",
       "</div>"
      ],
      "text/plain": [
       "               Label  Color_enc       low  Date_month  Date_year  Engine_hp\n",
       "Label       1.000000   0.730297  0.745356    0.163810   0.466667  -0.188129\n",
       "Color_enc   0.730297   1.000000  0.612372    0.388797   0.182574  -0.181763\n",
       "low         0.745356   0.612372  1.000000   -0.073258   0.745356  -0.431346\n",
       "Date_month  0.163810   0.388797 -0.073258    1.000000  -0.622477   0.354947\n",
       "Date_year   0.466667   0.182574  0.745356   -0.622477   1.000000  -0.608316\n",
       "Engine_hp  -0.188129  -0.181763 -0.431346    0.354947  -0.608316   1.000000"
      ]
     },
     "execution_count": 32,
     "metadata": {},
     "output_type": "execute_result"
    }
   ],
   "source": [
    "# Take a minute to find the column where the correlation value is greater than 0.75 at least twice\n",
    "to_drop = ['log_Year', 'Price_average_log']\n",
    "\n",
    "# Drop that column from the DataFrame\n",
    "df_subset_2 = df_subset_1.drop(to_drop, axis=1)\n",
    "\n",
    "# Print out the column correlations of the current dataset\n",
    "df_subset_2.corr()"
   ]
  },
  {
   "cell_type": "code",
   "execution_count": 33,
   "metadata": {
    "ExecuteTime": {
     "end_time": "2019-10-18T14:54:30.306798Z",
     "start_time": "2019-10-18T14:54:30.292787Z"
    }
   },
   "outputs": [
    {
     "data": {
      "text/html": [
       "<div>\n",
       "<style scoped>\n",
       "    .dataframe tbody tr th:only-of-type {\n",
       "        vertical-align: middle;\n",
       "    }\n",
       "\n",
       "    .dataframe tbody tr th {\n",
       "        vertical-align: top;\n",
       "    }\n",
       "\n",
       "    .dataframe thead th {\n",
       "        text-align: right;\n",
       "    }\n",
       "</style>\n",
       "<table border=\"1\" class=\"dataframe\">\n",
       "  <thead>\n",
       "    <tr style=\"text-align: right;\">\n",
       "      <th></th>\n",
       "      <th>Label</th>\n",
       "      <th>Color_enc</th>\n",
       "      <th>low</th>\n",
       "      <th>Date_month</th>\n",
       "      <th>Date_year</th>\n",
       "      <th>Engine_hp</th>\n",
       "      <th>Brand_text_tfidf</th>\n",
       "    </tr>\n",
       "  </thead>\n",
       "  <tbody>\n",
       "    <tr>\n",
       "      <th>0</th>\n",
       "      <td>1</td>\n",
       "      <td>3</td>\n",
       "      <td>0</td>\n",
       "      <td>10</td>\n",
       "      <td>2018</td>\n",
       "      <td>150.0</td>\n",
       "      <td>(0, 2)\\t0.7664298449085388\\n  (0, 6)\\t0.6423...</td>\n",
       "    </tr>\n",
       "    <tr>\n",
       "      <th>1</th>\n",
       "      <td>0</td>\n",
       "      <td>0</td>\n",
       "      <td>0</td>\n",
       "      <td>10</td>\n",
       "      <td>2018</td>\n",
       "      <td>100.0</td>\n",
       "      <td>(0, 2)\\t0.7664298449085388\\n  (0, 6)\\t0.6423...</td>\n",
       "    </tr>\n",
       "    <tr>\n",
       "      <th>2</th>\n",
       "      <td>0</td>\n",
       "      <td>1</td>\n",
       "      <td>0</td>\n",
       "      <td>7</td>\n",
       "      <td>2018</td>\n",
       "      <td>250.0</td>\n",
       "      <td>(0, 2)\\t0.7664298449085388\\n  (0, 6)\\t0.6423...</td>\n",
       "    </tr>\n",
       "    <tr>\n",
       "      <th>3</th>\n",
       "      <td>0</td>\n",
       "      <td>3</td>\n",
       "      <td>0</td>\n",
       "      <td>11</td>\n",
       "      <td>2018</td>\n",
       "      <td>100.5</td>\n",
       "      <td>(0, 2)\\t0.7664298449085388\\n  (0, 6)\\t0.6423...</td>\n",
       "    </tr>\n",
       "    <tr>\n",
       "      <th>4</th>\n",
       "      <td>0</td>\n",
       "      <td>2</td>\n",
       "      <td>0</td>\n",
       "      <td>6</td>\n",
       "      <td>2018</td>\n",
       "      <td>50.0</td>\n",
       "      <td>(0, 2)\\t0.7664298449085388\\n  (0, 6)\\t0.6423...</td>\n",
       "    </tr>\n",
       "    <tr>\n",
       "      <th>5</th>\n",
       "      <td>0</td>\n",
       "      <td>0</td>\n",
       "      <td>0</td>\n",
       "      <td>1</td>\n",
       "      <td>2019</td>\n",
       "      <td>40.0</td>\n",
       "      <td>(0, 2)\\t0.7664298449085388\\n  (0, 6)\\t0.6423...</td>\n",
       "    </tr>\n",
       "    <tr>\n",
       "      <th>6</th>\n",
       "      <td>1</td>\n",
       "      <td>3</td>\n",
       "      <td>1</td>\n",
       "      <td>7</td>\n",
       "      <td>2019</td>\n",
       "      <td>50.5</td>\n",
       "      <td>(0, 2)\\t0.7664298449085388\\n  (0, 6)\\t0.6423...</td>\n",
       "    </tr>\n",
       "    <tr>\n",
       "      <th>7</th>\n",
       "      <td>1</td>\n",
       "      <td>4</td>\n",
       "      <td>1</td>\n",
       "      <td>7</td>\n",
       "      <td>2019</td>\n",
       "      <td>45.0</td>\n",
       "      <td>(0, 2)\\t0.7664298449085388\\n  (0, 6)\\t0.6423...</td>\n",
       "    </tr>\n",
       "  </tbody>\n",
       "</table>\n",
       "</div>"
      ],
      "text/plain": [
       "   Label  Color_enc  low  Date_month  Date_year  Engine_hp  \\\n",
       "0      1          3    0          10       2018      150.0   \n",
       "1      0          0    0          10       2018      100.0   \n",
       "2      0          1    0           7       2018      250.0   \n",
       "3      0          3    0          11       2018      100.5   \n",
       "4      0          2    0           6       2018       50.0   \n",
       "5      0          0    0           1       2019       40.0   \n",
       "6      1          3    1           7       2019       50.5   \n",
       "7      1          4    1           7       2019       45.0   \n",
       "\n",
       "                                    Brand_text_tfidf  \n",
       "0    (0, 2)\\t0.7664298449085388\\n  (0, 6)\\t0.6423...  \n",
       "1    (0, 2)\\t0.7664298449085388\\n  (0, 6)\\t0.6423...  \n",
       "2    (0, 2)\\t0.7664298449085388\\n  (0, 6)\\t0.6423...  \n",
       "3    (0, 2)\\t0.7664298449085388\\n  (0, 6)\\t0.6423...  \n",
       "4    (0, 2)\\t0.7664298449085388\\n  (0, 6)\\t0.6423...  \n",
       "5    (0, 2)\\t0.7664298449085388\\n  (0, 6)\\t0.6423...  \n",
       "6    (0, 2)\\t0.7664298449085388\\n  (0, 6)\\t0.6423...  \n",
       "7    (0, 2)\\t0.7664298449085388\\n  (0, 6)\\t0.6423...  "
      ]
     },
     "execution_count": 33,
     "metadata": {},
     "output_type": "execute_result"
    }
   ],
   "source": [
    "df_subset_2"
   ]
  },
  {
   "cell_type": "code",
   "execution_count": 34,
   "metadata": {
    "ExecuteTime": {
     "end_time": "2019-10-18T14:54:31.146784Z",
     "start_time": "2019-10-18T14:54:31.136855Z"
    }
   },
   "outputs": [
    {
     "data": {
      "text/plain": [
       "0.5"
      ]
     },
     "execution_count": 34,
     "metadata": {},
     "output_type": "execute_result"
    }
   ],
   "source": [
    "# Score on the test data and print it out\n",
    "df_X = df_subset_2.drop(['Label', 'Brand_text_tfidf'], axis=1)\n",
    "check_score(df_X, df_subset_2['Label'])"
   ]
  },
  {
   "cell_type": "markdown",
   "metadata": {},
   "source": [
    "## Dimensionality reduction"
   ]
  },
  {
   "cell_type": "code",
   "execution_count": 35,
   "metadata": {
    "ExecuteTime": {
     "end_time": "2019-10-18T14:54:33.472375Z",
     "start_time": "2019-10-18T14:54:33.465210Z"
    }
   },
   "outputs": [
    {
     "name": "stdout",
     "output_type": "stream",
     "text": [
      "[9.97845778e-01 1.80026349e-03 3.19924268e-04 3.09839786e-05\n",
      " 3.05041027e-06]\n"
     ]
    }
   ],
   "source": [
    "# Set up PCA and the X vector for diminsionality reduction\n",
    "pca = PCA()\n",
    "df_X = df_subset_2.drop(['Label', 'Brand_text_tfidf'], axis=1)\n",
    "\n",
    "# Apply PCA to the dataset X vector\n",
    "transformed_X = pca.fit_transform(df_X)\n",
    "\n",
    "# Look at the percentage of variance explained by the different components\n",
    "print(pca.explained_variance_ratio_)"
   ]
  },
  {
   "cell_type": "code",
   "execution_count": 36,
   "metadata": {
    "ExecuteTime": {
     "end_time": "2019-10-18T14:54:34.248591Z",
     "start_time": "2019-10-18T14:54:34.241249Z"
    }
   },
   "outputs": [
    {
     "data": {
      "text/plain": [
       "0.5"
      ]
     },
     "execution_count": 36,
     "metadata": {},
     "output_type": "execute_result"
    }
   ],
   "source": [
    "# Score on the test data and print it out\n",
    "check_score(transformed_X, df['Label'])"
   ]
  }
 ],
 "metadata": {
  "kernelspec": {
   "display_name": "Python 3",
   "language": "python",
   "name": "python3"
  },
  "language_info": {
   "codemirror_mode": {
    "name": "ipython",
    "version": 3
   },
   "file_extension": ".py",
   "mimetype": "text/x-python",
   "name": "python",
   "nbconvert_exporter": "python",
   "pygments_lexer": "ipython3",
   "version": "3.7.3"
  },
  "toc": {
   "base_numbering": 1,
   "nav_menu": {},
   "number_sections": true,
   "sideBar": true,
   "skip_h1_title": false,
   "title_cell": "Table of Contents",
   "title_sidebar": "Contents",
   "toc_cell": false,
   "toc_position": {
    "height": "calc(100% - 180px)",
    "left": "10px",
    "top": "150px",
    "width": "384px"
   },
   "toc_section_display": true,
   "toc_window_display": true
  }
 },
 "nbformat": 4,
 "nbformat_minor": 2
}
