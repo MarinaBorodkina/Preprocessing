{
 "cells": [
  {
   "cell_type": "markdown",
   "metadata": {
    "ExecuteTime": {
     "end_time": "2019-10-11T08:48:54.452366Z",
     "start_time": "2019-10-11T08:48:54.449971Z"
    }
   },
   "source": [
    "# Preprocessing"
   ]
  },
  {
   "cell_type": "code",
   "execution_count": 1,
   "metadata": {
    "ExecuteTime": {
     "end_time": "2021-08-19T10:23:53.555163Z",
     "start_time": "2021-08-19T10:23:53.547090Z"
    }
   },
   "outputs": [
    {
     "data": {
      "text/plain": [
       "'\\n    Sample preprocessing examples\\n'"
      ]
     },
     "execution_count": 1,
     "metadata": {},
     "output_type": "execute_result"
    }
   ],
   "source": [
    "'''\n",
    "    Sample preprocessing examples\n",
    "'''"
   ]
  },
  {
   "cell_type": "code",
   "execution_count": 65,
   "metadata": {
    "ExecuteTime": {
     "end_time": "2021-08-19T15:40:52.208257Z",
     "start_time": "2021-08-19T15:40:52.189779Z"
    }
   },
   "outputs": [],
   "source": [
    "import pandas as pd\n",
    "import numpy as np\n",
    "# Import and suppress warnings\n",
    "import warnings\n",
    "warnings.filterwarnings('ignore')\n",
    "# Visualiazation\n",
    "from seaborn import countplot\n",
    "import matplotlib.pyplot as plt\n",
    "# Model\n",
    "from sklearn.model_selection import train_test_split\n",
    "from sklearn.linear_model import LogisticRegression\n",
    "# Import StandardScaler from scikit-learn\n",
    "from sklearn.preprocessing import StandardScaler\n",
    "from sklearn.preprocessing import MinMaxScaler\n",
    "from sklearn.preprocessing import LabelEncoder\n",
    "# Import PowerTransformer\n",
    "from sklearn.preprocessing import PowerTransformer\n",
    "\n",
    "# Text\n",
    "from sklearn.feature_extraction.text import TfidfVectorizer\n",
    "from sklearn.feature_extraction.text import CountVectorizer\n",
    "\n",
    "# Dimensionality reduction\n",
    "from sklearn.manifold import TSNE\n",
    "from sklearn.decomposition import PCA\n",
    "import re"
   ]
  },
  {
   "cell_type": "code",
   "execution_count": 3,
   "metadata": {
    "ExecuteTime": {
     "end_time": "2021-08-19T10:23:54.635444Z",
     "start_time": "2021-08-19T10:23:54.605719Z"
    }
   },
   "outputs": [
    {
     "data": {
      "text/html": [
       "<div>\n",
       "<style scoped>\n",
       "    .dataframe tbody tr th:only-of-type {\n",
       "        vertical-align: middle;\n",
       "    }\n",
       "\n",
       "    .dataframe tbody tr th {\n",
       "        vertical-align: top;\n",
       "    }\n",
       "\n",
       "    .dataframe thead th {\n",
       "        text-align: right;\n",
       "    }\n",
       "</style>\n",
       "<table border=\"1\" class=\"dataframe\">\n",
       "  <thead>\n",
       "    <tr style=\"text-align: right;\">\n",
       "      <th></th>\n",
       "      <th>Date</th>\n",
       "      <th>Brand</th>\n",
       "      <th>Price1</th>\n",
       "      <th>Price2</th>\n",
       "      <th>Engine</th>\n",
       "      <th>Color</th>\n",
       "      <th>Year</th>\n",
       "      <th>Label</th>\n",
       "    </tr>\n",
       "  </thead>\n",
       "  <tbody>\n",
       "    <tr>\n",
       "      <th>0</th>\n",
       "      <td>10.10.2018</td>\n",
       "      <td>Honda Civic</td>\n",
       "      <td>22000.0</td>\n",
       "      <td>23000.0</td>\n",
       "      <td>150.0 horsepower</td>\n",
       "      <td>red</td>\n",
       "      <td>2000</td>\n",
       "      <td>1</td>\n",
       "    </tr>\n",
       "    <tr>\n",
       "      <th>1</th>\n",
       "      <td>14.10.2018</td>\n",
       "      <td>NaN</td>\n",
       "      <td>25000.0</td>\n",
       "      <td>21000.0</td>\n",
       "      <td>100.0 horsepower</td>\n",
       "      <td>blue</td>\n",
       "      <td>2010</td>\n",
       "      <td>0</td>\n",
       "    </tr>\n",
       "    <tr>\n",
       "      <th>2</th>\n",
       "      <td>07.11.2018</td>\n",
       "      <td>Toyota Corolla</td>\n",
       "      <td>27000.0</td>\n",
       "      <td>25000.0</td>\n",
       "      <td>250.0 horsepower</td>\n",
       "      <td>green</td>\n",
       "      <td>2015</td>\n",
       "      <td>0</td>\n",
       "    </tr>\n",
       "    <tr>\n",
       "      <th>3</th>\n",
       "      <td>20.11.2018</td>\n",
       "      <td>Ford Focus</td>\n",
       "      <td>NaN</td>\n",
       "      <td>NaN</td>\n",
       "      <td>100.5 horsepower</td>\n",
       "      <td>red</td>\n",
       "      <td>2011</td>\n",
       "      <td>0</td>\n",
       "    </tr>\n",
       "    <tr>\n",
       "      <th>4</th>\n",
       "      <td>06.12.2018</td>\n",
       "      <td>NaN</td>\n",
       "      <td>35000.0</td>\n",
       "      <td>35000.0</td>\n",
       "      <td>50.0 horsepower</td>\n",
       "      <td>NaN</td>\n",
       "      <td>2019</td>\n",
       "      <td>0</td>\n",
       "    </tr>\n",
       "  </tbody>\n",
       "</table>\n",
       "</div>"
      ],
      "text/plain": [
       "         Date           Brand   Price1   Price2            Engine  Color  \\\n",
       "0  10.10.2018     Honda Civic  22000.0  23000.0  150.0 horsepower    red   \n",
       "1  14.10.2018             NaN  25000.0  21000.0  100.0 horsepower   blue   \n",
       "2  07.11.2018  Toyota Corolla  27000.0  25000.0  250.0 horsepower  green   \n",
       "3  20.11.2018      Ford Focus      NaN      NaN  100.5 horsepower    red   \n",
       "4  06.12.2018             NaN  35000.0  35000.0   50.0 horsepower    NaN   \n",
       "\n",
       "   Year  Label  \n",
       "0  2000      1  \n",
       "1  2010      0  \n",
       "2  2015      0  \n",
       "3  2011      0  \n",
       "4  2019      0  "
      ]
     },
     "execution_count": 3,
     "metadata": {},
     "output_type": "execute_result"
    }
   ],
   "source": [
    "# Generate dataset\n",
    "Cars = {\n",
    "    'Date': [\n",
    "        '10.10.2018', '14.10.2018', '07.11.2018', '20.11.2018', '06.12.2018',\n",
    "        '01.01.2019', '07.01.2019', '07.02.2019', '14.10.2018'\n",
    "    ],\n",
    "    'Brand': [\n",
    "        'Honda Civic', np.NaN, 'Toyota Corolla', 'Ford Focus', np.NaN,\n",
    "        'Audi A4', np.NaN, 'Honda', 'Audi A4'\n",
    "    ],\n",
    "    'Price1': [22000, 25000, 27000, np.NaN, 35000, 15000, 1000, 1500, 21000],\n",
    "    'Price2':\n",
    "    [23000, 21000, 25000, np.NaN, 35000, 11000, 1200, 1100, 10000000],\n",
    "    'Engine': [\n",
    "        '150.0 horsepower', '100.0 horsepower', '250.0 horsepower',\n",
    "        '100.5 horsepower', '50.0 horsepower', '40.0 horsepower',\n",
    "        '50.5 horsepower', '45.0 horsepower', '45.0 horsepower'\n",
    "    ],\n",
    "    'Color':\n",
    "    ['red', 'blue', 'green', 'red', np.NaN, 'blue', 'red', 'yellow', 'red'],\n",
    "    'Year': [2000, 2010, 2015, 2011, 2019, 2005, 1999, 1995, 2005],\n",
    "    'Label': [1, 0, 0, 0, 0, 0, 1, 1, 1]\n",
    "}\n",
    "\n",
    "df = pd.DataFrame(\n",
    "    Cars,\n",
    "    columns=[\n",
    "        'Date', 'Brand', 'Price1', 'Price2', 'Engine', 'Color', 'Year', 'Label'\n",
    "    ])\n",
    "df.head()"
   ]
  },
  {
   "cell_type": "code",
   "execution_count": 4,
   "metadata": {
    "ExecuteTime": {
     "end_time": "2021-08-19T10:23:54.640983Z",
     "start_time": "2021-08-19T10:23:54.637378Z"
    }
   },
   "outputs": [
    {
     "data": {
      "text/plain": [
       "['Date', 'Brand', 'Price1', 'Price2', 'Engine', 'Color', 'Year', 'Label']"
      ]
     },
     "execution_count": 4,
     "metadata": {},
     "output_type": "execute_result"
    }
   ],
   "source": [
    "# Columns of the DataFrame\n",
    "list(df.columns)"
   ]
  },
  {
   "cell_type": "code",
   "execution_count": 5,
   "metadata": {
    "ExecuteTime": {
     "end_time": "2021-08-19T10:23:54.646442Z",
     "start_time": "2021-08-19T10:23:54.642845Z"
    }
   },
   "outputs": [
    {
     "data": {
      "text/plain": [
       "(9, 8)"
      ]
     },
     "execution_count": 5,
     "metadata": {},
     "output_type": "execute_result"
    }
   ],
   "source": [
    "# Shape (number of columns, rows)\n",
    "df.shape"
   ]
  },
  {
   "cell_type": "code",
   "execution_count": 6,
   "metadata": {
    "ExecuteTime": {
     "end_time": "2021-08-19T10:23:54.653369Z",
     "start_time": "2021-08-19T10:23:54.648505Z"
    }
   },
   "outputs": [
    {
     "data": {
      "text/plain": [
       "Date       object\n",
       "Brand      object\n",
       "Price1    float64\n",
       "Price2    float64\n",
       "Engine     object\n",
       "Color      object\n",
       "Year        int64\n",
       "Label       int64\n",
       "dtype: object"
      ]
     },
     "execution_count": 6,
     "metadata": {},
     "output_type": "execute_result"
    }
   ],
   "source": [
    "# Types of the columns\n",
    "df.dtypes"
   ]
  },
  {
   "cell_type": "code",
   "execution_count": 7,
   "metadata": {
    "ExecuteTime": {
     "end_time": "2021-08-19T10:23:54.668512Z",
     "start_time": "2021-08-19T10:23:54.655185Z"
    }
   },
   "outputs": [
    {
     "data": {
      "text/html": [
       "<div>\n",
       "<style scoped>\n",
       "    .dataframe tbody tr th:only-of-type {\n",
       "        vertical-align: middle;\n",
       "    }\n",
       "\n",
       "    .dataframe tbody tr th {\n",
       "        vertical-align: top;\n",
       "    }\n",
       "\n",
       "    .dataframe thead th {\n",
       "        text-align: right;\n",
       "    }\n",
       "</style>\n",
       "<table border=\"1\" class=\"dataframe\">\n",
       "  <thead>\n",
       "    <tr style=\"text-align: right;\">\n",
       "      <th></th>\n",
       "      <th>Price1</th>\n",
       "      <th>Price2</th>\n",
       "      <th>Year</th>\n",
       "      <th>Label</th>\n",
       "    </tr>\n",
       "  </thead>\n",
       "  <tbody>\n",
       "    <tr>\n",
       "      <th>0</th>\n",
       "      <td>22000.0</td>\n",
       "      <td>23000.0</td>\n",
       "      <td>2000</td>\n",
       "      <td>1</td>\n",
       "    </tr>\n",
       "    <tr>\n",
       "      <th>1</th>\n",
       "      <td>25000.0</td>\n",
       "      <td>21000.0</td>\n",
       "      <td>2010</td>\n",
       "      <td>0</td>\n",
       "    </tr>\n",
       "    <tr>\n",
       "      <th>2</th>\n",
       "      <td>27000.0</td>\n",
       "      <td>25000.0</td>\n",
       "      <td>2015</td>\n",
       "      <td>0</td>\n",
       "    </tr>\n",
       "    <tr>\n",
       "      <th>3</th>\n",
       "      <td>NaN</td>\n",
       "      <td>NaN</td>\n",
       "      <td>2011</td>\n",
       "      <td>0</td>\n",
       "    </tr>\n",
       "    <tr>\n",
       "      <th>4</th>\n",
       "      <td>35000.0</td>\n",
       "      <td>35000.0</td>\n",
       "      <td>2019</td>\n",
       "      <td>0</td>\n",
       "    </tr>\n",
       "    <tr>\n",
       "      <th>5</th>\n",
       "      <td>15000.0</td>\n",
       "      <td>11000.0</td>\n",
       "      <td>2005</td>\n",
       "      <td>0</td>\n",
       "    </tr>\n",
       "    <tr>\n",
       "      <th>6</th>\n",
       "      <td>1000.0</td>\n",
       "      <td>1200.0</td>\n",
       "      <td>1999</td>\n",
       "      <td>1</td>\n",
       "    </tr>\n",
       "    <tr>\n",
       "      <th>7</th>\n",
       "      <td>1500.0</td>\n",
       "      <td>1100.0</td>\n",
       "      <td>1995</td>\n",
       "      <td>1</td>\n",
       "    </tr>\n",
       "    <tr>\n",
       "      <th>8</th>\n",
       "      <td>21000.0</td>\n",
       "      <td>10000000.0</td>\n",
       "      <td>2005</td>\n",
       "      <td>1</td>\n",
       "    </tr>\n",
       "  </tbody>\n",
       "</table>\n",
       "</div>"
      ],
      "text/plain": [
       "    Price1      Price2  Year  Label\n",
       "0  22000.0     23000.0  2000      1\n",
       "1  25000.0     21000.0  2010      0\n",
       "2  27000.0     25000.0  2015      0\n",
       "3      NaN         NaN  2011      0\n",
       "4  35000.0     35000.0  2019      0\n",
       "5  15000.0     11000.0  2005      0\n",
       "6   1000.0      1200.0  1999      1\n",
       "7   1500.0      1100.0  1995      1\n",
       "8  21000.0  10000000.0  2005      1"
      ]
     },
     "execution_count": 7,
     "metadata": {},
     "output_type": "execute_result"
    }
   ],
   "source": [
    "# Create subset of only the numeric columns\n",
    "so_numeric_df = df.select_dtypes(include=['int', 'float'])\n",
    "so_numeric_df"
   ]
  },
  {
   "cell_type": "code",
   "execution_count": 8,
   "metadata": {
    "ExecuteTime": {
     "end_time": "2021-08-19T10:23:54.692536Z",
     "start_time": "2021-08-19T10:23:54.670236Z"
    }
   },
   "outputs": [
    {
     "data": {
      "text/html": [
       "<div>\n",
       "<style scoped>\n",
       "    .dataframe tbody tr th:only-of-type {\n",
       "        vertical-align: middle;\n",
       "    }\n",
       "\n",
       "    .dataframe tbody tr th {\n",
       "        vertical-align: top;\n",
       "    }\n",
       "\n",
       "    .dataframe thead th {\n",
       "        text-align: right;\n",
       "    }\n",
       "</style>\n",
       "<table border=\"1\" class=\"dataframe\">\n",
       "  <thead>\n",
       "    <tr style=\"text-align: right;\">\n",
       "      <th></th>\n",
       "      <th>Price1</th>\n",
       "      <th>Price2</th>\n",
       "      <th>Year</th>\n",
       "      <th>Label</th>\n",
       "    </tr>\n",
       "  </thead>\n",
       "  <tbody>\n",
       "    <tr>\n",
       "      <th>count</th>\n",
       "      <td>8.000000</td>\n",
       "      <td>8.000000e+00</td>\n",
       "      <td>9.000000</td>\n",
       "      <td>9.000000</td>\n",
       "    </tr>\n",
       "    <tr>\n",
       "      <th>mean</th>\n",
       "      <td>18437.500000</td>\n",
       "      <td>1.264662e+06</td>\n",
       "      <td>2006.555556</td>\n",
       "      <td>0.444444</td>\n",
       "    </tr>\n",
       "    <tr>\n",
       "      <th>std</th>\n",
       "      <td>12028.055002</td>\n",
       "      <td>3.529629e+06</td>\n",
       "      <td>7.875772</td>\n",
       "      <td>0.527046</td>\n",
       "    </tr>\n",
       "    <tr>\n",
       "      <th>min</th>\n",
       "      <td>1000.000000</td>\n",
       "      <td>1.100000e+03</td>\n",
       "      <td>1995.000000</td>\n",
       "      <td>0.000000</td>\n",
       "    </tr>\n",
       "    <tr>\n",
       "      <th>25%</th>\n",
       "      <td>11625.000000</td>\n",
       "      <td>8.550000e+03</td>\n",
       "      <td>2000.000000</td>\n",
       "      <td>0.000000</td>\n",
       "    </tr>\n",
       "    <tr>\n",
       "      <th>50%</th>\n",
       "      <td>21500.000000</td>\n",
       "      <td>2.200000e+04</td>\n",
       "      <td>2005.000000</td>\n",
       "      <td>0.000000</td>\n",
       "    </tr>\n",
       "    <tr>\n",
       "      <th>75%</th>\n",
       "      <td>25500.000000</td>\n",
       "      <td>2.750000e+04</td>\n",
       "      <td>2011.000000</td>\n",
       "      <td>1.000000</td>\n",
       "    </tr>\n",
       "    <tr>\n",
       "      <th>max</th>\n",
       "      <td>35000.000000</td>\n",
       "      <td>1.000000e+07</td>\n",
       "      <td>2019.000000</td>\n",
       "      <td>1.000000</td>\n",
       "    </tr>\n",
       "  </tbody>\n",
       "</table>\n",
       "</div>"
      ],
      "text/plain": [
       "             Price1        Price2         Year     Label\n",
       "count      8.000000  8.000000e+00     9.000000  9.000000\n",
       "mean   18437.500000  1.264662e+06  2006.555556  0.444444\n",
       "std    12028.055002  3.529629e+06     7.875772  0.527046\n",
       "min     1000.000000  1.100000e+03  1995.000000  0.000000\n",
       "25%    11625.000000  8.550000e+03  2000.000000  0.000000\n",
       "50%    21500.000000  2.200000e+04  2005.000000  0.000000\n",
       "75%    25500.000000  2.750000e+04  2011.000000  1.000000\n",
       "max    35000.000000  1.000000e+07  2019.000000  1.000000"
      ]
     },
     "execution_count": 8,
     "metadata": {},
     "output_type": "execute_result"
    }
   ],
   "source": [
    "# Statistic for numerical columns\n",
    "df.describe()"
   ]
  },
  {
   "cell_type": "code",
   "execution_count": 9,
   "metadata": {
    "ExecuteTime": {
     "end_time": "2021-08-19T10:23:54.704751Z",
     "start_time": "2021-08-19T10:23:54.694287Z"
    }
   },
   "outputs": [
    {
     "data": {
      "text/plain": [
       "red       50.0\n",
       "blue      25.0\n",
       "yellow    12.5\n",
       "green     12.5\n",
       "Name: Color, dtype: float64"
      ]
     },
     "execution_count": 9,
     "metadata": {},
     "output_type": "execute_result"
    }
   ],
   "source": [
    "# Distribution of the colors\n",
    "round(df['Color'].value_counts(normalize=True) * 100, 2)"
   ]
  },
  {
   "cell_type": "code",
   "execution_count": 10,
   "metadata": {
    "ExecuteTime": {
     "end_time": "2021-08-19T10:23:54.828819Z",
     "start_time": "2021-08-19T10:23:54.706396Z"
    }
   },
   "outputs": [
    {
     "name": "stdout",
     "output_type": "stream",
     "text": [
      "Share of the classes:\n",
      "0    55.56\n",
      "1    44.44\n",
      "Name: Label, dtype: float64\n"
     ]
    },
    {
     "data": {
      "text/plain": [
       "<matplotlib.axes._subplots.AxesSubplot at 0x7f319f682c18>"
      ]
     },
     "execution_count": 10,
     "metadata": {},
     "output_type": "execute_result"
    },
    {
     "data": {
      "image/png": "[encoded data removed]",
      "text/plain": [
       "<Figure size 432x288 with 1 Axes>"
      ]
     },
     "metadata": {
      "needs_background": "light"
     },
     "output_type": "display_data"
    }
   ],
   "source": [
    "# Check the share of the classes\n",
    "print('Share of the classes:')\n",
    "print(round(df['Label'].value_counts(normalize=True) * 100, 2))\n",
    "countplot(x='Label', data=df)"
   ]
  },
  {
   "cell_type": "markdown",
   "metadata": {},
   "source": [
    "## Split per Train/Test"
   ]
  },
  {
   "cell_type": "code",
   "execution_count": 11,
   "metadata": {
    "ExecuteTime": {
     "end_time": "2021-08-19T10:23:54.841325Z",
     "start_time": "2021-08-19T10:23:54.830766Z"
    }
   },
   "outputs": [
    {
     "name": "stdout",
     "output_type": "stream",
     "text": [
      "1    50.0\n",
      "0    50.0\n",
      "Name: Label, dtype: float64\n"
     ]
    }
   ],
   "source": [
    "# Create a data with all columns except Label\n",
    "df_X = df.drop('Label', axis=1)\n",
    "\n",
    "# Create a category_desc labels dataset\n",
    "df_y = pd.DataFrame(df['Label'])\n",
    "\n",
    "# Use stratified sampling to split up the dataset according to the df_y dataset\n",
    "X_train, X_test, y_train, y_test = train_test_split(df_X, df_y, stratify=df_y)\n",
    "\n",
    "# Print out the Label counts on the training y labels\n",
    "print(round(y_train['Label'].value_counts(normalize=True) * 100, 2))"
   ]
  },
  {
   "cell_type": "code",
   "execution_count": 12,
   "metadata": {
    "ExecuteTime": {
     "end_time": "2021-08-19T10:23:54.846281Z",
     "start_time": "2021-08-19T10:23:54.843156Z"
    }
   },
   "outputs": [],
   "source": [
    "def check_score(X_, y_):\n",
    "    '''\n",
    "    Write a pattern to extract numbers and decimals\n",
    "    Parameters:\n",
    "        :params X_: input dataset\n",
    "        :params y_: labels\n",
    "    Returns:\n",
    "        :returns: knn score\n",
    "    '''\n",
    "\n",
    "    # Split X and the y labels into training and test sets\n",
    "    X_train_, X_test_, y_train_, y_test_ = train_test_split(X_, y_)\n",
    "\n",
    "    lgr = LogisticRegression()\n",
    "    # Fit lgr to the training data\n",
    "    lgr.fit(X_train_, y_train_)\n",
    "\n",
    "    # Score knn on the test data and print it out\n",
    "    return (lgr.score(X_test_, y_test_))"
   ]
  },
  {
   "cell_type": "markdown",
   "metadata": {},
   "source": [
    "## Missing Data"
   ]
  },
  {
   "cell_type": "code",
   "execution_count": 13,
   "metadata": {
    "ExecuteTime": {
     "end_time": "2021-08-19T10:23:54.853733Z",
     "start_time": "2021-08-19T10:23:54.848024Z"
    }
   },
   "outputs": [
    {
     "name": "stdout",
     "output_type": "stream",
     "text": [
      "Number of missing values per column:\n"
     ]
    },
    {
     "data": {
      "text/plain": [
       "Date      0\n",
       "Brand     3\n",
       "Price1    1\n",
       "Price2    1\n",
       "Engine    0\n",
       "Color     1\n",
       "Year      0\n",
       "Label     0\n",
       "dtype: int64"
      ]
     },
     "execution_count": 13,
     "metadata": {},
     "output_type": "execute_result"
    }
   ],
   "source": [
    "# Number of missing values per column\n",
    "print('Number of missing values per column:')\n",
    "df.isnull().sum()"
   ]
  },
  {
   "cell_type": "code",
   "execution_count": 14,
   "metadata": {
    "ExecuteTime": {
     "end_time": "2021-08-19T10:23:54.861404Z",
     "start_time": "2021-08-19T10:23:54.855523Z"
    }
   },
   "outputs": [
    {
     "name": "stdout",
     "output_type": "stream",
     "text": [
      "Number of NOT missing values per column:\n"
     ]
    },
    {
     "data": {
      "text/plain": [
       "Date      9\n",
       "Brand     6\n",
       "Price1    8\n",
       "Price2    8\n",
       "Engine    9\n",
       "Color     8\n",
       "Year      9\n",
       "Label     9\n",
       "dtype: int64"
      ]
     },
     "execution_count": 14,
     "metadata": {},
     "output_type": "execute_result"
    }
   ],
   "source": [
    "# Number of not missing values per column\n",
    "print('Number of NOT missing values per column:')\n",
    "df.notnull().sum()"
   ]
  },
  {
   "cell_type": "code",
   "execution_count": 15,
   "metadata": {
    "ExecuteTime": {
     "end_time": "2021-08-19T10:23:54.878985Z",
     "start_time": "2021-08-19T10:23:54.863254Z"
    }
   },
   "outputs": [
    {
     "name": "stdout",
     "output_type": "stream",
     "text": [
      "Number of rows: 9\n",
      "Number of rows after deleting all rows with missing: 5\n"
     ]
    },
    {
     "data": {
      "text/html": [
       "<div>\n",
       "<style scoped>\n",
       "    .dataframe tbody tr th:only-of-type {\n",
       "        vertical-align: middle;\n",
       "    }\n",
       "\n",
       "    .dataframe tbody tr th {\n",
       "        vertical-align: top;\n",
       "    }\n",
       "\n",
       "    .dataframe thead th {\n",
       "        text-align: right;\n",
       "    }\n",
       "</style>\n",
       "<table border=\"1\" class=\"dataframe\">\n",
       "  <thead>\n",
       "    <tr style=\"text-align: right;\">\n",
       "      <th></th>\n",
       "      <th>Date</th>\n",
       "      <th>Brand</th>\n",
       "      <th>Price1</th>\n",
       "      <th>Price2</th>\n",
       "      <th>Engine</th>\n",
       "      <th>Color</th>\n",
       "      <th>Year</th>\n",
       "      <th>Label</th>\n",
       "    </tr>\n",
       "  </thead>\n",
       "  <tbody>\n",
       "    <tr>\n",
       "      <th>0</th>\n",
       "      <td>10.10.2018</td>\n",
       "      <td>Honda Civic</td>\n",
       "      <td>22000.0</td>\n",
       "      <td>23000.0</td>\n",
       "      <td>150.0 horsepower</td>\n",
       "      <td>red</td>\n",
       "      <td>2000</td>\n",
       "      <td>1</td>\n",
       "    </tr>\n",
       "    <tr>\n",
       "      <th>2</th>\n",
       "      <td>07.11.2018</td>\n",
       "      <td>Toyota Corolla</td>\n",
       "      <td>27000.0</td>\n",
       "      <td>25000.0</td>\n",
       "      <td>250.0 horsepower</td>\n",
       "      <td>green</td>\n",
       "      <td>2015</td>\n",
       "      <td>0</td>\n",
       "    </tr>\n",
       "    <tr>\n",
       "      <th>5</th>\n",
       "      <td>01.01.2019</td>\n",
       "      <td>Audi A4</td>\n",
       "      <td>15000.0</td>\n",
       "      <td>11000.0</td>\n",
       "      <td>40.0 horsepower</td>\n",
       "      <td>blue</td>\n",
       "      <td>2005</td>\n",
       "      <td>0</td>\n",
       "    </tr>\n",
       "    <tr>\n",
       "      <th>7</th>\n",
       "      <td>07.02.2019</td>\n",
       "      <td>Honda</td>\n",
       "      <td>1500.0</td>\n",
       "      <td>1100.0</td>\n",
       "      <td>45.0 horsepower</td>\n",
       "      <td>yellow</td>\n",
       "      <td>1995</td>\n",
       "      <td>1</td>\n",
       "    </tr>\n",
       "    <tr>\n",
       "      <th>8</th>\n",
       "      <td>14.10.2018</td>\n",
       "      <td>Audi A4</td>\n",
       "      <td>21000.0</td>\n",
       "      <td>10000000.0</td>\n",
       "      <td>45.0 horsepower</td>\n",
       "      <td>red</td>\n",
       "      <td>2005</td>\n",
       "      <td>1</td>\n",
       "    </tr>\n",
       "  </tbody>\n",
       "</table>\n",
       "</div>"
      ],
      "text/plain": [
       "         Date           Brand   Price1      Price2            Engine   Color  \\\n",
       "0  10.10.2018     Honda Civic  22000.0     23000.0  150.0 horsepower     red   \n",
       "2  07.11.2018  Toyota Corolla  27000.0     25000.0  250.0 horsepower   green   \n",
       "5  01.01.2019         Audi A4  15000.0     11000.0   40.0 horsepower    blue   \n",
       "7  07.02.2019           Honda   1500.0      1100.0   45.0 horsepower  yellow   \n",
       "8  14.10.2018         Audi A4  21000.0  10000000.0   45.0 horsepower     red   \n",
       "\n",
       "   Year  Label  \n",
       "0  2000      1  \n",
       "2  2015      0  \n",
       "5  2005      0  \n",
       "7  1995      1  \n",
       "8  2005      1  "
      ]
     },
     "execution_count": 15,
     "metadata": {},
     "output_type": "execute_result"
    }
   ],
   "source": [
    "# Delete all rows with missing\n",
    "print('Number of rows:', df.shape[0])\n",
    "print('Number of rows after deleting all rows with missing:',\n",
    "      df.dropna().shape[0])\n",
    "df.dropna()"
   ]
  },
  {
   "cell_type": "code",
   "execution_count": 16,
   "metadata": {
    "ExecuteTime": {
     "end_time": "2021-08-19T10:23:54.896925Z",
     "start_time": "2021-08-19T10:23:54.880772Z"
    }
   },
   "outputs": [
    {
     "data": {
      "text/html": [
       "<div>\n",
       "<style scoped>\n",
       "    .dataframe tbody tr th:only-of-type {\n",
       "        vertical-align: middle;\n",
       "    }\n",
       "\n",
       "    .dataframe tbody tr th {\n",
       "        vertical-align: top;\n",
       "    }\n",
       "\n",
       "    .dataframe thead th {\n",
       "        text-align: right;\n",
       "    }\n",
       "</style>\n",
       "<table border=\"1\" class=\"dataframe\">\n",
       "  <thead>\n",
       "    <tr style=\"text-align: right;\">\n",
       "      <th></th>\n",
       "      <th>Date</th>\n",
       "      <th>Brand</th>\n",
       "      <th>Price1</th>\n",
       "      <th>Price2</th>\n",
       "      <th>Engine</th>\n",
       "      <th>Color</th>\n",
       "      <th>Year</th>\n",
       "      <th>Label</th>\n",
       "    </tr>\n",
       "  </thead>\n",
       "  <tbody>\n",
       "    <tr>\n",
       "      <th>0</th>\n",
       "      <td>10.10.2018</td>\n",
       "      <td>Honda Civic</td>\n",
       "      <td>22000.0</td>\n",
       "      <td>23000.0</td>\n",
       "      <td>150.0 horsepower</td>\n",
       "      <td>red</td>\n",
       "      <td>2000</td>\n",
       "      <td>1</td>\n",
       "    </tr>\n",
       "    <tr>\n",
       "      <th>1</th>\n",
       "      <td>14.10.2018</td>\n",
       "      <td>NaN</td>\n",
       "      <td>25000.0</td>\n",
       "      <td>21000.0</td>\n",
       "      <td>100.0 horsepower</td>\n",
       "      <td>blue</td>\n",
       "      <td>2010</td>\n",
       "      <td>0</td>\n",
       "    </tr>\n",
       "    <tr>\n",
       "      <th>2</th>\n",
       "      <td>07.11.2018</td>\n",
       "      <td>Toyota Corolla</td>\n",
       "      <td>27000.0</td>\n",
       "      <td>25000.0</td>\n",
       "      <td>250.0 horsepower</td>\n",
       "      <td>green</td>\n",
       "      <td>2015</td>\n",
       "      <td>0</td>\n",
       "    </tr>\n",
       "    <tr>\n",
       "      <th>3</th>\n",
       "      <td>20.11.2018</td>\n",
       "      <td>Ford Focus</td>\n",
       "      <td>NaN</td>\n",
       "      <td>NaN</td>\n",
       "      <td>100.5 horsepower</td>\n",
       "      <td>red</td>\n",
       "      <td>2011</td>\n",
       "      <td>0</td>\n",
       "    </tr>\n",
       "    <tr>\n",
       "      <th>4</th>\n",
       "      <td>06.12.2018</td>\n",
       "      <td>NaN</td>\n",
       "      <td>35000.0</td>\n",
       "      <td>35000.0</td>\n",
       "      <td>50.0 horsepower</td>\n",
       "      <td>NaN</td>\n",
       "      <td>2019</td>\n",
       "      <td>0</td>\n",
       "    </tr>\n",
       "    <tr>\n",
       "      <th>5</th>\n",
       "      <td>01.01.2019</td>\n",
       "      <td>Audi A4</td>\n",
       "      <td>15000.0</td>\n",
       "      <td>11000.0</td>\n",
       "      <td>40.0 horsepower</td>\n",
       "      <td>blue</td>\n",
       "      <td>2005</td>\n",
       "      <td>0</td>\n",
       "    </tr>\n",
       "    <tr>\n",
       "      <th>6</th>\n",
       "      <td>07.01.2019</td>\n",
       "      <td>NaN</td>\n",
       "      <td>1000.0</td>\n",
       "      <td>1200.0</td>\n",
       "      <td>50.5 horsepower</td>\n",
       "      <td>red</td>\n",
       "      <td>1999</td>\n",
       "      <td>1</td>\n",
       "    </tr>\n",
       "    <tr>\n",
       "      <th>7</th>\n",
       "      <td>07.02.2019</td>\n",
       "      <td>Honda</td>\n",
       "      <td>1500.0</td>\n",
       "      <td>1100.0</td>\n",
       "      <td>45.0 horsepower</td>\n",
       "      <td>yellow</td>\n",
       "      <td>1995</td>\n",
       "      <td>1</td>\n",
       "    </tr>\n",
       "    <tr>\n",
       "      <th>8</th>\n",
       "      <td>14.10.2018</td>\n",
       "      <td>Audi A4</td>\n",
       "      <td>21000.0</td>\n",
       "      <td>10000000.0</td>\n",
       "      <td>45.0 horsepower</td>\n",
       "      <td>red</td>\n",
       "      <td>2005</td>\n",
       "      <td>1</td>\n",
       "    </tr>\n",
       "  </tbody>\n",
       "</table>\n",
       "</div>"
      ],
      "text/plain": [
       "         Date           Brand   Price1      Price2            Engine   Color  \\\n",
       "0  10.10.2018     Honda Civic  22000.0     23000.0  150.0 horsepower     red   \n",
       "1  14.10.2018             NaN  25000.0     21000.0  100.0 horsepower    blue   \n",
       "2  07.11.2018  Toyota Corolla  27000.0     25000.0  250.0 horsepower   green   \n",
       "3  20.11.2018      Ford Focus      NaN         NaN  100.5 horsepower     red   \n",
       "4  06.12.2018             NaN  35000.0     35000.0   50.0 horsepower     NaN   \n",
       "5  01.01.2019         Audi A4  15000.0     11000.0   40.0 horsepower    blue   \n",
       "6  07.01.2019             NaN   1000.0      1200.0   50.5 horsepower     red   \n",
       "7  07.02.2019           Honda   1500.0      1100.0   45.0 horsepower  yellow   \n",
       "8  14.10.2018         Audi A4  21000.0  10000000.0   45.0 horsepower     red   \n",
       "\n",
       "   Year  Label  \n",
       "0  2000      1  \n",
       "1  2010      0  \n",
       "2  2015      0  \n",
       "3  2011      0  \n",
       "4  2019      0  \n",
       "5  2005      0  \n",
       "6  1999      1  \n",
       "7  1995      1  \n",
       "8  2005      1  "
      ]
     },
     "execution_count": 16,
     "metadata": {},
     "output_type": "execute_result"
    }
   ],
   "source": [
    "# Subset dataset without missing\n",
    "df_no_missing = df[df.notnull()]\n",
    "df_no_missing"
   ]
  },
  {
   "cell_type": "code",
   "execution_count": 17,
   "metadata": {
    "ExecuteTime": {
     "end_time": "2021-08-19T10:23:54.911691Z",
     "start_time": "2021-08-19T10:23:54.898635Z"
    },
    "scrolled": true
   },
   "outputs": [
    {
     "name": "stdout",
     "output_type": "stream",
     "text": [
      "Number of crows: 8\n",
      "Number of cows after deleting all cows with missing: 4\n"
     ]
    },
    {
     "data": {
      "text/html": [
       "<div>\n",
       "<style scoped>\n",
       "    .dataframe tbody tr th:only-of-type {\n",
       "        vertical-align: middle;\n",
       "    }\n",
       "\n",
       "    .dataframe tbody tr th {\n",
       "        vertical-align: top;\n",
       "    }\n",
       "\n",
       "    .dataframe thead th {\n",
       "        text-align: right;\n",
       "    }\n",
       "</style>\n",
       "<table border=\"1\" class=\"dataframe\">\n",
       "  <thead>\n",
       "    <tr style=\"text-align: right;\">\n",
       "      <th></th>\n",
       "      <th>Date</th>\n",
       "      <th>Engine</th>\n",
       "      <th>Year</th>\n",
       "      <th>Label</th>\n",
       "    </tr>\n",
       "  </thead>\n",
       "  <tbody>\n",
       "    <tr>\n",
       "      <th>0</th>\n",
       "      <td>10.10.2018</td>\n",
       "      <td>150.0 horsepower</td>\n",
       "      <td>2000</td>\n",
       "      <td>1</td>\n",
       "    </tr>\n",
       "    <tr>\n",
       "      <th>1</th>\n",
       "      <td>14.10.2018</td>\n",
       "      <td>100.0 horsepower</td>\n",
       "      <td>2010</td>\n",
       "      <td>0</td>\n",
       "    </tr>\n",
       "    <tr>\n",
       "      <th>2</th>\n",
       "      <td>07.11.2018</td>\n",
       "      <td>250.0 horsepower</td>\n",
       "      <td>2015</td>\n",
       "      <td>0</td>\n",
       "    </tr>\n",
       "    <tr>\n",
       "      <th>3</th>\n",
       "      <td>20.11.2018</td>\n",
       "      <td>100.5 horsepower</td>\n",
       "      <td>2011</td>\n",
       "      <td>0</td>\n",
       "    </tr>\n",
       "    <tr>\n",
       "      <th>4</th>\n",
       "      <td>06.12.2018</td>\n",
       "      <td>50.0 horsepower</td>\n",
       "      <td>2019</td>\n",
       "      <td>0</td>\n",
       "    </tr>\n",
       "    <tr>\n",
       "      <th>5</th>\n",
       "      <td>01.01.2019</td>\n",
       "      <td>40.0 horsepower</td>\n",
       "      <td>2005</td>\n",
       "      <td>0</td>\n",
       "    </tr>\n",
       "    <tr>\n",
       "      <th>6</th>\n",
       "      <td>07.01.2019</td>\n",
       "      <td>50.5 horsepower</td>\n",
       "      <td>1999</td>\n",
       "      <td>1</td>\n",
       "    </tr>\n",
       "    <tr>\n",
       "      <th>7</th>\n",
       "      <td>07.02.2019</td>\n",
       "      <td>45.0 horsepower</td>\n",
       "      <td>1995</td>\n",
       "      <td>1</td>\n",
       "    </tr>\n",
       "    <tr>\n",
       "      <th>8</th>\n",
       "      <td>14.10.2018</td>\n",
       "      <td>45.0 horsepower</td>\n",
       "      <td>2005</td>\n",
       "      <td>1</td>\n",
       "    </tr>\n",
       "  </tbody>\n",
       "</table>\n",
       "</div>"
      ],
      "text/plain": [
       "         Date            Engine  Year  Label\n",
       "0  10.10.2018  150.0 horsepower  2000      1\n",
       "1  14.10.2018  100.0 horsepower  2010      0\n",
       "2  07.11.2018  250.0 horsepower  2015      0\n",
       "3  20.11.2018  100.5 horsepower  2011      0\n",
       "4  06.12.2018   50.0 horsepower  2019      0\n",
       "5  01.01.2019   40.0 horsepower  2005      0\n",
       "6  07.01.2019   50.5 horsepower  1999      1\n",
       "7  07.02.2019   45.0 horsepower  1995      1\n",
       "8  14.10.2018   45.0 horsepower  2005      1"
      ]
     },
     "execution_count": 17,
     "metadata": {},
     "output_type": "execute_result"
    }
   ],
   "source": [
    "# Delete all cols with missing\n",
    "print('Number of crows:', df.shape[1])\n",
    "print('Number of cows after deleting all cows with missing:',\n",
    "      df.dropna(axis=1).shape[1])\n",
    "df.dropna(axis=1)"
   ]
  },
  {
   "cell_type": "code",
   "execution_count": 18,
   "metadata": {
    "ExecuteTime": {
     "end_time": "2021-08-19T10:23:54.927873Z",
     "start_time": "2021-08-19T10:23:54.913552Z"
    }
   },
   "outputs": [
    {
     "data": {
      "text/html": [
       "<div>\n",
       "<style scoped>\n",
       "    .dataframe tbody tr th:only-of-type {\n",
       "        vertical-align: middle;\n",
       "    }\n",
       "\n",
       "    .dataframe tbody tr th {\n",
       "        vertical-align: top;\n",
       "    }\n",
       "\n",
       "    .dataframe thead th {\n",
       "        text-align: right;\n",
       "    }\n",
       "</style>\n",
       "<table border=\"1\" class=\"dataframe\">\n",
       "  <thead>\n",
       "    <tr style=\"text-align: right;\">\n",
       "      <th></th>\n",
       "      <th>Date</th>\n",
       "      <th>Brand</th>\n",
       "      <th>Price1</th>\n",
       "      <th>Price2</th>\n",
       "      <th>Engine</th>\n",
       "      <th>Color</th>\n",
       "      <th>Year</th>\n",
       "      <th>Label</th>\n",
       "    </tr>\n",
       "  </thead>\n",
       "  <tbody>\n",
       "    <tr>\n",
       "      <th>0</th>\n",
       "      <td>10.10.2018</td>\n",
       "      <td>Honda Civic</td>\n",
       "      <td>22000.0</td>\n",
       "      <td>23000.0</td>\n",
       "      <td>150.0 horsepower</td>\n",
       "      <td>red</td>\n",
       "      <td>2000</td>\n",
       "      <td>1</td>\n",
       "    </tr>\n",
       "    <tr>\n",
       "      <th>1</th>\n",
       "      <td>14.10.2018</td>\n",
       "      <td>NaN</td>\n",
       "      <td>25000.0</td>\n",
       "      <td>21000.0</td>\n",
       "      <td>100.0 horsepower</td>\n",
       "      <td>blue</td>\n",
       "      <td>2010</td>\n",
       "      <td>0</td>\n",
       "    </tr>\n",
       "    <tr>\n",
       "      <th>2</th>\n",
       "      <td>07.11.2018</td>\n",
       "      <td>Toyota Corolla</td>\n",
       "      <td>27000.0</td>\n",
       "      <td>25000.0</td>\n",
       "      <td>250.0 horsepower</td>\n",
       "      <td>green</td>\n",
       "      <td>2015</td>\n",
       "      <td>0</td>\n",
       "    </tr>\n",
       "    <tr>\n",
       "      <th>3</th>\n",
       "      <td>20.11.2018</td>\n",
       "      <td>Ford Focus</td>\n",
       "      <td>NaN</td>\n",
       "      <td>NaN</td>\n",
       "      <td>100.5 horsepower</td>\n",
       "      <td>red</td>\n",
       "      <td>2011</td>\n",
       "      <td>0</td>\n",
       "    </tr>\n",
       "    <tr>\n",
       "      <th>4</th>\n",
       "      <td>06.12.2018</td>\n",
       "      <td>NaN</td>\n",
       "      <td>35000.0</td>\n",
       "      <td>35000.0</td>\n",
       "      <td>50.0 horsepower</td>\n",
       "      <td>NaN</td>\n",
       "      <td>2019</td>\n",
       "      <td>0</td>\n",
       "    </tr>\n",
       "    <tr>\n",
       "      <th>5</th>\n",
       "      <td>01.01.2019</td>\n",
       "      <td>Audi A4</td>\n",
       "      <td>15000.0</td>\n",
       "      <td>11000.0</td>\n",
       "      <td>40.0 horsepower</td>\n",
       "      <td>blue</td>\n",
       "      <td>2005</td>\n",
       "      <td>0</td>\n",
       "    </tr>\n",
       "    <tr>\n",
       "      <th>6</th>\n",
       "      <td>07.01.2019</td>\n",
       "      <td>NaN</td>\n",
       "      <td>1000.0</td>\n",
       "      <td>1200.0</td>\n",
       "      <td>50.5 horsepower</td>\n",
       "      <td>red</td>\n",
       "      <td>1999</td>\n",
       "      <td>1</td>\n",
       "    </tr>\n",
       "    <tr>\n",
       "      <th>7</th>\n",
       "      <td>07.02.2019</td>\n",
       "      <td>Honda</td>\n",
       "      <td>1500.0</td>\n",
       "      <td>1100.0</td>\n",
       "      <td>45.0 horsepower</td>\n",
       "      <td>yellow</td>\n",
       "      <td>1995</td>\n",
       "      <td>1</td>\n",
       "    </tr>\n",
       "    <tr>\n",
       "      <th>8</th>\n",
       "      <td>14.10.2018</td>\n",
       "      <td>Audi A4</td>\n",
       "      <td>21000.0</td>\n",
       "      <td>10000000.0</td>\n",
       "      <td>45.0 horsepower</td>\n",
       "      <td>red</td>\n",
       "      <td>2005</td>\n",
       "      <td>1</td>\n",
       "    </tr>\n",
       "  </tbody>\n",
       "</table>\n",
       "</div>"
      ],
      "text/plain": [
       "         Date           Brand   Price1      Price2            Engine   Color  \\\n",
       "0  10.10.2018     Honda Civic  22000.0     23000.0  150.0 horsepower     red   \n",
       "1  14.10.2018             NaN  25000.0     21000.0  100.0 horsepower    blue   \n",
       "2  07.11.2018  Toyota Corolla  27000.0     25000.0  250.0 horsepower   green   \n",
       "3  20.11.2018      Ford Focus      NaN         NaN  100.5 horsepower     red   \n",
       "4  06.12.2018             NaN  35000.0     35000.0   50.0 horsepower     NaN   \n",
       "5  01.01.2019         Audi A4  15000.0     11000.0   40.0 horsepower    blue   \n",
       "6  07.01.2019             NaN   1000.0      1200.0   50.5 horsepower     red   \n",
       "7  07.02.2019           Honda   1500.0      1100.0   45.0 horsepower  yellow   \n",
       "8  14.10.2018         Audi A4  21000.0  10000000.0   45.0 horsepower     red   \n",
       "\n",
       "   Year  Label  \n",
       "0  2000      1  \n",
       "1  2010      0  \n",
       "2  2015      0  \n",
       "3  2011      0  \n",
       "4  2019      0  \n",
       "5  2005      0  \n",
       "6  1999      1  \n",
       "7  1995      1  \n",
       "8  2005      1  "
      ]
     },
     "execution_count": 18,
     "metadata": {},
     "output_type": "execute_result"
    }
   ],
   "source": [
    "# Columns with at least 5 not missing\n",
    "df.dropna(axis=1, thresh=5)"
   ]
  },
  {
   "cell_type": "code",
   "execution_count": 19,
   "metadata": {
    "ExecuteTime": {
     "end_time": "2021-08-19T10:23:54.945937Z",
     "start_time": "2021-08-19T10:23:54.929570Z"
    }
   },
   "outputs": [
    {
     "data": {
      "text/html": [
       "<div>\n",
       "<style scoped>\n",
       "    .dataframe tbody tr th:only-of-type {\n",
       "        vertical-align: middle;\n",
       "    }\n",
       "\n",
       "    .dataframe tbody tr th {\n",
       "        vertical-align: top;\n",
       "    }\n",
       "\n",
       "    .dataframe thead th {\n",
       "        text-align: right;\n",
       "    }\n",
       "</style>\n",
       "<table border=\"1\" class=\"dataframe\">\n",
       "  <thead>\n",
       "    <tr style=\"text-align: right;\">\n",
       "      <th></th>\n",
       "      <th>Date</th>\n",
       "      <th>Brand</th>\n",
       "      <th>Price1</th>\n",
       "      <th>Price2</th>\n",
       "      <th>Engine</th>\n",
       "      <th>Color</th>\n",
       "      <th>Year</th>\n",
       "      <th>Label</th>\n",
       "    </tr>\n",
       "  </thead>\n",
       "  <tbody>\n",
       "    <tr>\n",
       "      <th>0</th>\n",
       "      <td>10.10.2018</td>\n",
       "      <td>Honda Civic</td>\n",
       "      <td>22000.0</td>\n",
       "      <td>23000.0</td>\n",
       "      <td>150.0 horsepower</td>\n",
       "      <td>red</td>\n",
       "      <td>2000</td>\n",
       "      <td>1</td>\n",
       "    </tr>\n",
       "    <tr>\n",
       "      <th>1</th>\n",
       "      <td>14.10.2018</td>\n",
       "      <td>missing</td>\n",
       "      <td>25000.0</td>\n",
       "      <td>21000.0</td>\n",
       "      <td>100.0 horsepower</td>\n",
       "      <td>blue</td>\n",
       "      <td>2010</td>\n",
       "      <td>0</td>\n",
       "    </tr>\n",
       "    <tr>\n",
       "      <th>2</th>\n",
       "      <td>07.11.2018</td>\n",
       "      <td>Toyota Corolla</td>\n",
       "      <td>27000.0</td>\n",
       "      <td>25000.0</td>\n",
       "      <td>250.0 horsepower</td>\n",
       "      <td>green</td>\n",
       "      <td>2015</td>\n",
       "      <td>0</td>\n",
       "    </tr>\n",
       "    <tr>\n",
       "      <th>3</th>\n",
       "      <td>20.11.2018</td>\n",
       "      <td>Ford Focus</td>\n",
       "      <td>18437.5</td>\n",
       "      <td>1264662.5</td>\n",
       "      <td>100.5 horsepower</td>\n",
       "      <td>red</td>\n",
       "      <td>2011</td>\n",
       "      <td>0</td>\n",
       "    </tr>\n",
       "    <tr>\n",
       "      <th>4</th>\n",
       "      <td>06.12.2018</td>\n",
       "      <td>missing</td>\n",
       "      <td>35000.0</td>\n",
       "      <td>35000.0</td>\n",
       "      <td>50.0 horsepower</td>\n",
       "      <td>missing</td>\n",
       "      <td>2019</td>\n",
       "      <td>0</td>\n",
       "    </tr>\n",
       "    <tr>\n",
       "      <th>5</th>\n",
       "      <td>01.01.2019</td>\n",
       "      <td>Audi A4</td>\n",
       "      <td>15000.0</td>\n",
       "      <td>11000.0</td>\n",
       "      <td>40.0 horsepower</td>\n",
       "      <td>blue</td>\n",
       "      <td>2005</td>\n",
       "      <td>0</td>\n",
       "    </tr>\n",
       "    <tr>\n",
       "      <th>6</th>\n",
       "      <td>07.01.2019</td>\n",
       "      <td>missing</td>\n",
       "      <td>1000.0</td>\n",
       "      <td>1200.0</td>\n",
       "      <td>50.5 horsepower</td>\n",
       "      <td>red</td>\n",
       "      <td>1999</td>\n",
       "      <td>1</td>\n",
       "    </tr>\n",
       "    <tr>\n",
       "      <th>7</th>\n",
       "      <td>07.02.2019</td>\n",
       "      <td>Honda</td>\n",
       "      <td>1500.0</td>\n",
       "      <td>1100.0</td>\n",
       "      <td>45.0 horsepower</td>\n",
       "      <td>yellow</td>\n",
       "      <td>1995</td>\n",
       "      <td>1</td>\n",
       "    </tr>\n",
       "    <tr>\n",
       "      <th>8</th>\n",
       "      <td>14.10.2018</td>\n",
       "      <td>Audi A4</td>\n",
       "      <td>21000.0</td>\n",
       "      <td>10000000.0</td>\n",
       "      <td>45.0 horsepower</td>\n",
       "      <td>red</td>\n",
       "      <td>2005</td>\n",
       "      <td>1</td>\n",
       "    </tr>\n",
       "  </tbody>\n",
       "</table>\n",
       "</div>"
      ],
      "text/plain": [
       "         Date           Brand   Price1      Price2            Engine    Color  \\\n",
       "0  10.10.2018     Honda Civic  22000.0     23000.0  150.0 horsepower      red   \n",
       "1  14.10.2018         missing  25000.0     21000.0  100.0 horsepower     blue   \n",
       "2  07.11.2018  Toyota Corolla  27000.0     25000.0  250.0 horsepower    green   \n",
       "3  20.11.2018      Ford Focus  18437.5   1264662.5  100.5 horsepower      red   \n",
       "4  06.12.2018         missing  35000.0     35000.0   50.0 horsepower  missing   \n",
       "5  01.01.2019         Audi A4  15000.0     11000.0   40.0 horsepower     blue   \n",
       "6  07.01.2019         missing   1000.0      1200.0   50.5 horsepower      red   \n",
       "7  07.02.2019           Honda   1500.0      1100.0   45.0 horsepower   yellow   \n",
       "8  14.10.2018         Audi A4  21000.0  10000000.0   45.0 horsepower      red   \n",
       "\n",
       "   Year  Label  \n",
       "0  2000      1  \n",
       "1  2010      0  \n",
       "2  2015      0  \n",
       "3  2011      0  \n",
       "4  2019      0  \n",
       "5  2005      0  \n",
       "6  1999      1  \n",
       "7  1995      1  \n",
       "8  2005      1  "
      ]
     },
     "execution_count": 19,
     "metadata": {},
     "output_type": "execute_result"
    }
   ],
   "source": [
    "# Fill in missing values\n",
    "df['Brand'].fillna('missing', inplace=True)\n",
    "df['Color'].fillna('missing', inplace=True)\n",
    "\n",
    "df['Price1'].fillna(df['Price1'].mean(), inplace=True)\n",
    "df['Price2'].fillna(df['Price2'].mean(), inplace=True)\n",
    "\n",
    "df"
   ]
  },
  {
   "cell_type": "markdown",
   "metadata": {},
   "source": [
    "## Data types"
   ]
  },
  {
   "cell_type": "code",
   "execution_count": 20,
   "metadata": {
    "ExecuteTime": {
     "end_time": "2021-08-19T10:23:54.952417Z",
     "start_time": "2021-08-19T10:23:54.947743Z"
    }
   },
   "outputs": [
    {
     "data": {
      "text/plain": [
       "Date       object\n",
       "Brand      object\n",
       "Price1    float64\n",
       "Price2    float64\n",
       "Engine     object\n",
       "Color      object\n",
       "Year        int64\n",
       "Label       int64\n",
       "dtype: object"
      ]
     },
     "execution_count": 20,
     "metadata": {},
     "output_type": "execute_result"
    }
   ],
   "source": [
    "# Check Data Types\n",
    "df.dtypes"
   ]
  },
  {
   "cell_type": "code",
   "execution_count": 21,
   "metadata": {
    "ExecuteTime": {
     "end_time": "2021-08-19T10:23:54.964191Z",
     "start_time": "2021-08-19T10:23:54.954210Z"
    }
   },
   "outputs": [
    {
     "data": {
      "text/plain": [
       "Date       object\n",
       "Brand      object\n",
       "Price1    float32\n",
       "Price2    float32\n",
       "Engine     object\n",
       "Color      object\n",
       "Year        int32\n",
       "Label       int64\n",
       "dtype: object"
      ]
     },
     "execution_count": 21,
     "metadata": {},
     "output_type": "execute_result"
    }
   ],
   "source": [
    "# Reduce memory usage\n",
    "if df['Price1'].min() > np.finfo(\n",
    "        np.float32).min and df['Price1'].max() < np.finfo(np.float32).max:\n",
    "    df['Price1'] = df['Price1'].astype(np.float32)\n",
    "\n",
    "if df['Price2'].min() > np.finfo(\n",
    "        np.float32).min and df['Price2'].max() < np.finfo(np.float32).max:\n",
    "    df['Price2'] = df['Price2'].astype(np.float32)\n",
    "\n",
    "if df['Year'].min() > np.iinfo(np.int32).min and df['Year'].max() < np.iinfo(\n",
    "        np.int32).max:\n",
    "    df['Year'] = df['Year'].astype(np.int32)\n",
    "\n",
    "# Check Data Types\n",
    "df.dtypes"
   ]
  },
  {
   "cell_type": "markdown",
   "metadata": {},
   "source": [
    "## Standartization"
   ]
  },
  {
   "cell_type": "markdown",
   "metadata": {},
   "source": [
    "### Log normalization\n",
    "\n",
    "_Example of using: Column with hight varience_"
   ]
  },
  {
   "cell_type": "code",
   "execution_count": 22,
   "metadata": {
    "ExecuteTime": {
     "end_time": "2021-08-19T10:23:54.973346Z",
     "start_time": "2021-08-19T10:23:54.966012Z"
    }
   },
   "outputs": [
    {
     "data": {
      "text/plain": [
       "Price1    1.265898e+08\n",
       "Price2    1.090100e+13\n",
       "Year      6.202778e+01\n",
       "Label     2.777778e-01\n",
       "dtype: float64"
      ]
     },
     "execution_count": 22,
     "metadata": {},
     "output_type": "execute_result"
    }
   ],
   "source": [
    "df.var()"
   ]
  },
  {
   "cell_type": "code",
   "execution_count": 23,
   "metadata": {
    "ExecuteTime": {
     "end_time": "2021-08-19T10:23:54.979151Z",
     "start_time": "2021-08-19T10:23:54.975121Z"
    }
   },
   "outputs": [
    {
     "data": {
      "text/plain": [
       "1.5400001231234405e-05"
      ]
     },
     "execution_count": 23,
     "metadata": {},
     "output_type": "execute_result"
    }
   ],
   "source": [
    "df['log_Year'] = np.log(df['Year'])\n",
    "df['log_Year'].var()"
   ]
  },
  {
   "cell_type": "markdown",
   "metadata": {},
   "source": [
    "### Scaling data "
   ]
  },
  {
   "cell_type": "code",
   "execution_count": 24,
   "metadata": {
    "ExecuteTime": {
     "end_time": "2021-08-19T10:23:54.990154Z",
     "start_time": "2021-08-19T10:23:54.980869Z"
    }
   },
   "outputs": [
    {
     "name": "stderr",
     "output_type": "stream",
     "text": [
      "/opt/conda/lib/python3.6/site-packages/sklearn/preprocessing/data.py:625: DataConversionWarning: Data with input dtype float32, int32 were all converted to float64 by StandardScaler.\n",
      "  return self.partial_fit(X, y)\n",
      "/opt/conda/lib/python3.6/site-packages/sklearn/base.py:462: DataConversionWarning: Data with input dtype float32, int32 were all converted to float64 by StandardScaler.\n",
      "  return self.fit(X, **fit_params).transform(X)\n"
     ]
    },
    {
     "data": {
      "text/plain": [
       "array([[ 0.33583944, -0.3988841 , -0.88286165],\n",
       "       [ 0.61865161, -0.3995266 ,  0.46387646],\n",
       "       [ 0.80719305, -0.3982416 ,  1.13724552],\n",
       "       [ 0.        ,  0.        ,  0.59855027],\n",
       "       [ 1.56135882, -0.3950291 ,  1.67594076],\n",
       "       [-0.3240556 , -0.4027391 , -0.20949259],\n",
       "       [-1.6438457 , -0.40588735, -1.01753546],\n",
       "       [-1.59671034, -0.40591947, -1.55623071],\n",
       "       [ 0.24156872,  2.8062273 , -0.20949259]])"
      ]
     },
     "execution_count": 24,
     "metadata": {},
     "output_type": "execute_result"
    }
   ],
   "source": [
    "# Create the scaler\n",
    "ss = StandardScaler()\n",
    "\n",
    "# Take a subset of the DataFrame you want to scale\n",
    "df_subset = df[['Price1', 'Price2', 'Year']]\n",
    "\n",
    "# Apply the scaler to the DataFrame subset\n",
    "df_subset_scaled = ss.fit_transform(df_subset)\n",
    "\n",
    "df_subset_scaled"
   ]
  },
  {
   "cell_type": "markdown",
   "metadata": {},
   "source": [
    "### Power Transformer"
   ]
  },
  {
   "cell_type": "code",
   "execution_count": 25,
   "metadata": {
    "ExecuteTime": {
     "end_time": "2021-08-19T10:23:55.226567Z",
     "start_time": "2021-08-19T10:23:54.991990Z"
    }
   },
   "outputs": [
    {
     "data": {
      "image/png": "[encoded data removed]",
      "text/plain": [
       "<Figure size 432x288 with 2 Axes>"
      ]
     },
     "metadata": {
      "needs_background": "light"
     },
     "output_type": "display_data"
    }
   ],
   "source": [
    "# Instantiate PowerTransformer\n",
    "pow_trans = PowerTransformer()\n",
    "\n",
    "# Train the transform on the data\n",
    "pow_trans.fit(df[['Price1']])\n",
    "\n",
    "# Apply the power transform to the data\n",
    "df['Price1_LG'] = pow_trans.transform(df[['Price1']])\n",
    "\n",
    "# Plot the data before and after the transformation\n",
    "df[['Price1', 'Price1_LG']].hist()\n",
    "plt.show()"
   ]
  },
  {
   "cell_type": "markdown",
   "metadata": {},
   "source": [
    "## Outliers"
   ]
  },
  {
   "cell_type": "code",
   "execution_count": 26,
   "metadata": {
    "ExecuteTime": {
     "end_time": "2021-08-19T10:23:55.239575Z",
     "start_time": "2021-08-19T10:23:55.228988Z"
    }
   },
   "outputs": [
    {
     "data": {
      "text/plain": [
       "count           9.0\n",
       "mean      1264662.5\n",
       "std       3301666.0\n",
       "min          1100.0\n",
       "25%         11000.0\n",
       "50%         23000.0\n",
       "75%         35000.0\n",
       "max      10000000.0\n",
       "Name: Price2, dtype: float64"
      ]
     },
     "execution_count": 26,
     "metadata": {},
     "output_type": "execute_result"
    }
   ],
   "source": [
    "df['Price2'].describe()"
   ]
  },
  {
   "cell_type": "code",
   "execution_count": 27,
   "metadata": {
    "ExecuteTime": {
     "end_time": "2021-08-19T10:23:55.500109Z",
     "start_time": "2021-08-19T10:23:55.241348Z"
    }
   },
   "outputs": [
    {
     "data": {
      "image/png": "[encoded data removed]",
      "text/plain": [
       "<Figure size 432x288 with 1 Axes>"
      ]
     },
     "metadata": {
      "needs_background": "light"
     },
     "output_type": "display_data"
    },
    {
     "data": {
      "text/plain": [
       "<Figure size 432x288 with 0 Axes>"
      ]
     },
     "metadata": {},
     "output_type": "display_data"
    },
    {
     "data": {
      "image/png": "[encoded data removed]",
      "text/plain": [
       "<Figure size 432x288 with 1 Axes>"
      ]
     },
     "metadata": {
      "needs_background": "light"
     },
     "output_type": "display_data"
    }
   ],
   "source": [
    "# Find the 95th quantile\n",
    "quantile = df['Price2'].quantile(0.75)\n",
    "\n",
    "# Trim the outliers\n",
    "trimmed_df = df[df['Price2'] < quantile]\n",
    "\n",
    "# The original histogram\n",
    "df[['Price2']].hist()\n",
    "plt.show()\n",
    "plt.clf()\n",
    "\n",
    "# The trimmed histogram\n",
    "trimmed_df[['Price2']].hist()\n",
    "plt.show()"
   ]
  },
  {
   "cell_type": "code",
   "execution_count": 28,
   "metadata": {
    "ExecuteTime": {
     "end_time": "2021-08-19T10:23:55.510131Z",
     "start_time": "2021-08-19T10:23:55.502120Z"
    }
   },
   "outputs": [
    {
     "data": {
      "text/plain": [
       "count        6.000000\n",
       "mean     13716.666992\n",
       "std      10860.647461\n",
       "min       1100.000000\n",
       "25%       3650.000000\n",
       "50%      16000.000000\n",
       "75%      22500.000000\n",
       "max      25000.000000\n",
       "Name: Price2, dtype: float64"
      ]
     },
     "execution_count": 28,
     "metadata": {},
     "output_type": "execute_result"
    }
   ],
   "source": [
    "trimmed_df['Price2'].describe()"
   ]
  },
  {
   "cell_type": "code",
   "execution_count": 29,
   "metadata": {
    "ExecuteTime": {
     "end_time": "2021-08-19T10:23:55.611605Z",
     "start_time": "2021-08-19T10:23:55.511922Z"
    }
   },
   "outputs": [
    {
     "name": "stdout",
     "output_type": "stream",
     "text": [
      "-5338669.5 7867994.5\n"
     ]
    },
    {
     "data": {
      "image/png": "[encoded data removed]",
      "text/plain": [
       "<Figure size 432x288 with 1 Axes>"
      ]
     },
     "metadata": {
      "needs_background": "light"
     },
     "output_type": "display_data"
    }
   ],
   "source": [
    "# Find the mean and standard dev\n",
    "std = df['Price2'].std()\n",
    "mean = df['Price2'].mean()\n",
    "\n",
    "# Calculate the cutoff\n",
    "cut_off = std * 2\n",
    "lower, upper = mean - cut_off, mean + cut_off\n",
    "print(lower, upper)\n",
    "# Trim the outliers\n",
    "trimmed_df = df[(df['Price2'] < upper) & (df['Price2'] > lower)]\n",
    "\n",
    "# The trimmed box plot\n",
    "trimmed_df[['Price2']].boxplot()\n",
    "plt.show()"
   ]
  },
  {
   "cell_type": "markdown",
   "metadata": {},
   "source": [
    "## Text"
   ]
  },
  {
   "cell_type": "markdown",
   "metadata": {},
   "source": [
    "### Replace; Case"
   ]
  },
  {
   "cell_type": "code",
   "execution_count": 30,
   "metadata": {
    "ExecuteTime": {
     "end_time": "2021-08-19T10:23:55.618263Z",
     "start_time": "2021-08-19T10:23:55.613395Z"
    }
   },
   "outputs": [
    {
     "data": {
      "text/plain": [
       "0    150.0 horsepower\n",
       "1    100.0 horsepower\n",
       "2    250.0 horsepower\n",
       "3    100.5 horsepower\n",
       "4     50.0 horsepower\n",
       "Name: Engine, dtype: object"
      ]
     },
     "execution_count": 30,
     "metadata": {},
     "output_type": "execute_result"
    }
   ],
   "source": [
    "df['Engine'].head()"
   ]
  },
  {
   "cell_type": "code",
   "execution_count": 31,
   "metadata": {
    "ExecuteTime": {
     "end_time": "2021-08-19T10:23:55.627246Z",
     "start_time": "2021-08-19T10:23:55.620063Z"
    }
   },
   "outputs": [
    {
     "name": "stdout",
     "output_type": "stream",
     "text": [
      "0    150.0 horsepower\n",
      "1    100.0 horsepower\n",
      "2    250.0 horsepower\n",
      "3    100.5 horsepower\n",
      "4     50.0 horsepower\n",
      "Name: Engine_clean, dtype: object\n"
     ]
    }
   ],
   "source": [
    "# Replace all non letter characters with a whitespace\n",
    "df['Engine_clean'] = df['Engine'].replace('[^a-zA-Z]', ' ')\n",
    "df['Engine_clean'] = df['Engine'].replace('[0-9]', ' ')\n",
    "\n",
    "# Change to lower case\n",
    "df['Engine_clean'] = df['Engine_clean'].str.lower()\n",
    "\n",
    "# Print the first 5 rows of the clean column\n",
    "print(df['Engine_clean'].head())"
   ]
  },
  {
   "cell_type": "markdown",
   "metadata": {},
   "source": [
    "### Pattern"
   ]
  },
  {
   "cell_type": "code",
   "execution_count": 32,
   "metadata": {
    "ExecuteTime": {
     "end_time": "2021-08-19T10:23:55.640748Z",
     "start_time": "2021-08-19T10:23:55.629015Z"
    }
   },
   "outputs": [
    {
     "data": {
      "text/html": [
       "<div>\n",
       "<style scoped>\n",
       "    .dataframe tbody tr th:only-of-type {\n",
       "        vertical-align: middle;\n",
       "    }\n",
       "\n",
       "    .dataframe tbody tr th {\n",
       "        vertical-align: top;\n",
       "    }\n",
       "\n",
       "    .dataframe thead th {\n",
       "        text-align: right;\n",
       "    }\n",
       "</style>\n",
       "<table border=\"1\" class=\"dataframe\">\n",
       "  <thead>\n",
       "    <tr style=\"text-align: right;\">\n",
       "      <th></th>\n",
       "      <th>Engine</th>\n",
       "      <th>Engine_hp</th>\n",
       "    </tr>\n",
       "  </thead>\n",
       "  <tbody>\n",
       "    <tr>\n",
       "      <th>0</th>\n",
       "      <td>150.0 horsepower</td>\n",
       "      <td>150.0</td>\n",
       "    </tr>\n",
       "    <tr>\n",
       "      <th>1</th>\n",
       "      <td>100.0 horsepower</td>\n",
       "      <td>100.0</td>\n",
       "    </tr>\n",
       "    <tr>\n",
       "      <th>2</th>\n",
       "      <td>250.0 horsepower</td>\n",
       "      <td>250.0</td>\n",
       "    </tr>\n",
       "    <tr>\n",
       "      <th>3</th>\n",
       "      <td>100.5 horsepower</td>\n",
       "      <td>100.5</td>\n",
       "    </tr>\n",
       "    <tr>\n",
       "      <th>4</th>\n",
       "      <td>50.0 horsepower</td>\n",
       "      <td>50.0</td>\n",
       "    </tr>\n",
       "    <tr>\n",
       "      <th>5</th>\n",
       "      <td>40.0 horsepower</td>\n",
       "      <td>40.0</td>\n",
       "    </tr>\n",
       "    <tr>\n",
       "      <th>6</th>\n",
       "      <td>50.5 horsepower</td>\n",
       "      <td>50.5</td>\n",
       "    </tr>\n",
       "    <tr>\n",
       "      <th>7</th>\n",
       "      <td>45.0 horsepower</td>\n",
       "      <td>45.0</td>\n",
       "    </tr>\n",
       "    <tr>\n",
       "      <th>8</th>\n",
       "      <td>45.0 horsepower</td>\n",
       "      <td>45.0</td>\n",
       "    </tr>\n",
       "  </tbody>\n",
       "</table>\n",
       "</div>"
      ],
      "text/plain": [
       "             Engine  Engine_hp\n",
       "0  150.0 horsepower      150.0\n",
       "1  100.0 horsepower      100.0\n",
       "2  250.0 horsepower      250.0\n",
       "3  100.5 horsepower      100.5\n",
       "4   50.0 horsepower       50.0\n",
       "5   40.0 horsepower       40.0\n",
       "6   50.5 horsepower       50.5\n",
       "7   45.0 horsepower       45.0\n",
       "8   45.0 horsepower       45.0"
      ]
     },
     "execution_count": 32,
     "metadata": {},
     "output_type": "execute_result"
    }
   ],
   "source": [
    "def return_hp(str):\n",
    "    '''\n",
    "    Write a pattern to extract numbers and decimals\n",
    "    Parameters:\n",
    "        :params str: input string\n",
    "    '''\n",
    "    pattern = re.compile(r'\\d+\\.\\d+')\n",
    "\n",
    "    # Search the text for matches\n",
    "    hp = re.match(pattern, str)\n",
    "\n",
    "    # If a value is returned, use group(0) to return the found value\n",
    "    if hp is not None:\n",
    "        return float(hp.group(0))\n",
    "\n",
    "\n",
    "# Apply the function to the Length column and take a look at both columns\n",
    "df['Engine_hp'] = df['Engine'].apply(lambda row: return_hp(row))\n",
    "df[['Engine', 'Engine_hp']]"
   ]
  },
  {
   "cell_type": "markdown",
   "metadata": {},
   "source": [
    "### Avg world"
   ]
  },
  {
   "cell_type": "code",
   "execution_count": 33,
   "metadata": {
    "ExecuteTime": {
     "end_time": "2021-08-19T10:23:55.652630Z",
     "start_time": "2021-08-19T10:23:55.642451Z"
    }
   },
   "outputs": [
    {
     "name": "stdout",
     "output_type": "stream",
     "text": [
      "       Engine_clean  char_cnt  word_cnt  avg_word_length\n",
      "0  150.0 horsepower        16         2              8.0\n",
      "1  100.0 horsepower        16         2              8.0\n",
      "2  250.0 horsepower        16         2              8.0\n",
      "3  100.5 horsepower        16         2              8.0\n",
      "4   50.0 horsepower        15         2              7.5\n",
      "5   40.0 horsepower        15         2              7.5\n",
      "6   50.5 horsepower        15         2              7.5\n",
      "7   45.0 horsepower        15         2              7.5\n",
      "8   45.0 horsepower        15         2              7.5\n"
     ]
    }
   ],
   "source": [
    "# Find the length of each text\n",
    "df['char_cnt'] = df['Engine_clean'].str.len()\n",
    "\n",
    "# Count the number of words in each text\n",
    "df['word_cnt'] = df['Engine_clean'].str.split().str.len()\n",
    "df['char_cnt'], df['word_cnt']\n",
    "# Find the average length of word\n",
    "df['avg_word_length'] = df['char_cnt'] / df['word_cnt']\n",
    "\n",
    "# Print the first 5 rows of these columns\n",
    "print(df[['Engine_clean', 'char_cnt', 'word_cnt', 'avg_word_length']])"
   ]
  },
  {
   "cell_type": "markdown",
   "metadata": {},
   "source": [
    "### CountVectorizer"
   ]
  },
  {
   "cell_type": "code",
   "execution_count": 34,
   "metadata": {
    "ExecuteTime": {
     "end_time": "2021-08-19T10:23:55.664331Z",
     "start_time": "2021-08-19T10:23:55.654382Z"
    }
   },
   "outputs": [
    {
     "name": "stdout",
     "output_type": "stream",
     "text": [
      "All worlds:\n",
      "['100', '150', '250', '40', '45', '50', 'horsepower']\n",
      "Binarized worlds:\n",
      "[[0 1 0 0 0 0 1]\n",
      " [1 0 0 0 0 0 1]\n",
      " [0 0 1 0 0 0 1]\n",
      " [1 0 0 0 0 0 1]\n",
      " [0 0 0 0 0 1 1]\n",
      " [0 0 0 1 0 0 1]\n",
      " [0 0 0 0 0 1 1]\n",
      " [0 0 0 0 1 0 1]\n",
      " [0 0 0 0 1 0 1]]\n",
      "Array shape:\n",
      "(9, 7)\n",
      "Limited worlds:\n",
      "['100', '45', '50']\n",
      "Limited array shape:\n",
      "(9, 3)\n"
     ]
    }
   ],
   "source": [
    "# Instantiate CountVectorizer\n",
    "cv = CountVectorizer()\n",
    "\n",
    "# Fit the vectorizer\n",
    "cv.fit(df['Engine_clean'])\n",
    "\n",
    "# Print feature names\n",
    "print('All worlds:')\n",
    "print(cv.get_feature_names())\n",
    "\n",
    "# Apply the vectorizer\n",
    "cv_transformed = cv.transform(df['Engine_clean'])\n",
    "\n",
    "# Print the full array\n",
    "cv_array = cv_transformed.toarray()\n",
    "print('Binarized worlds:')\n",
    "print(cv_array)\n",
    "\n",
    "# Print the shape of cv_array\n",
    "print('Array shape:')\n",
    "print(cv_array.shape)\n",
    "\n",
    "# Specify arguements to limit the number of features generated\n",
    "cv = CountVectorizer(min_df=0.2, max_df=0.8)\n",
    "\n",
    "# Fit, transform, and convert into array\n",
    "cv_transformed = cv.fit_transform(df['Engine_clean'])\n",
    "print('Limited worlds:')\n",
    "print(cv.get_feature_names())\n",
    "cv_array = cv_transformed.toarray()\n",
    "\n",
    "# Print the array shape\n",
    "print('Limited array shape:')\n",
    "print(cv_array.shape)"
   ]
  },
  {
   "cell_type": "code",
   "execution_count": 35,
   "metadata": {
    "ExecuteTime": {
     "end_time": "2021-08-19T10:23:55.674016Z",
     "start_time": "2021-08-19T10:23:55.666678Z"
    }
   },
   "outputs": [
    {
     "name": "stdout",
     "output_type": "stream",
     "text": [
      "             Engine  Counts_100  Counts_45  Counts_50\n",
      "0  150.0 horsepower           0          0          0\n",
      "1  100.0 horsepower           1          0          0\n",
      "2  250.0 horsepower           0          0          0\n",
      "3  100.5 horsepower           1          0          0\n",
      "4   50.0 horsepower           0          0          1\n"
     ]
    }
   ],
   "source": [
    "# Create a DataFrame with these features\n",
    "cv_df = pd.DataFrame(\n",
    "    cv_array, columns=cv.get_feature_names()).add_prefix('Counts_')\n",
    "\n",
    "# Add the new columns to the original DataFrame\n",
    "df_text = pd.concat([df['Engine'], cv_df], axis=1, sort=False)\n",
    "print(df_text.head())"
   ]
  },
  {
   "cell_type": "code",
   "execution_count": 36,
   "metadata": {
    "ExecuteTime": {
     "end_time": "2021-08-19T10:23:55.681206Z",
     "start_time": "2021-08-19T10:23:55.675811Z"
    }
   },
   "outputs": [
    {
     "name": "stdout",
     "output_type": "stream",
     "text": [
      "['100 horsepower', '150 horsepower', '250 horsepower', '40 horsepower', '45 horsepower', '50 horsepower']\n"
     ]
    }
   ],
   "source": [
    "# Instantiate a trigram vectorizer\n",
    "cv_trigram_vec = CountVectorizer(\n",
    "    max_features=100, stop_words='english', ngram_range=(2, 2))\n",
    "\n",
    "# Fit and apply trigram vectorizer\n",
    "cv_trigram = cv_trigram_vec.fit_transform(df['Engine_clean'])\n",
    "\n",
    "# Print the trigram features\n",
    "print(cv_trigram_vec.get_feature_names())"
   ]
  },
  {
   "cell_type": "markdown",
   "metadata": {},
   "source": [
    "### TfidfVectorizer"
   ]
  },
  {
   "cell_type": "code",
   "execution_count": 37,
   "metadata": {
    "ExecuteTime": {
     "end_time": "2021-08-19T10:23:55.773843Z",
     "start_time": "2021-08-19T10:23:55.682960Z"
    }
   },
   "outputs": [
    {
     "name": "stdout",
     "output_type": "stream",
     "text": [
      "   TFIDF_100  TFIDF_150  TFIDF_250  TFIDF_40  TFIDF_45  TFIDF_50  \\\n",
      "0   0.000000    0.93378    0.00000       0.0       0.0  0.000000   \n",
      "1   0.910647    0.00000    0.00000       0.0       0.0  0.000000   \n",
      "2   0.000000    0.00000    0.93378       0.0       0.0  0.000000   \n",
      "3   0.910647    0.00000    0.00000       0.0       0.0  0.000000   \n",
      "4   0.000000    0.00000    0.00000       0.0       0.0  0.910647   \n",
      "\n",
      "   TFIDF_horsepower  \n",
      "0          0.357847  \n",
      "1          0.413184  \n",
      "2          0.357847  \n",
      "3          0.413184  \n",
      "4          0.413184  \n"
     ]
    }
   ],
   "source": [
    "# Instantiate TfidfVectorizer\n",
    "tv = TfidfVectorizer(max_features=100, stop_words='english')\n",
    "\n",
    "# Fit the vectroizer and transform the data\n",
    "tv_transformed = tv.fit_transform(df['Engine_clean'])\n",
    "\n",
    "# Create a DataFrame with these features\n",
    "tv_df = pd.DataFrame(\n",
    "    tv_transformed.toarray(),\n",
    "    columns=tv.get_feature_names()).add_prefix('TFIDF_')\n",
    "print(tv_df.head())"
   ]
  },
  {
   "cell_type": "code",
   "execution_count": 38,
   "metadata": {
    "ExecuteTime": {
     "end_time": "2021-08-19T10:23:55.779371Z",
     "start_time": "2021-08-19T10:23:55.775438Z"
    }
   },
   "outputs": [
    {
     "name": "stdout",
     "output_type": "stream",
     "text": [
      "TFIDF_150           0.933780\n",
      "TFIDF_horsepower    0.357847\n",
      "TFIDF_50            0.000000\n",
      "TFIDF_45            0.000000\n",
      "TFIDF_40            0.000000\n",
      "Name: 0, dtype: float64\n"
     ]
    }
   ],
   "source": [
    "# Isolate the row to be examined\n",
    "sample_row = tv_df.iloc[0]\n",
    "\n",
    "# Print the top 5 words of the sorted output\n",
    "print(sample_row.sort_values(ascending=False).head())"
   ]
  },
  {
   "cell_type": "code",
   "execution_count": 39,
   "metadata": {
    "ExecuteTime": {
     "end_time": "2021-08-19T10:23:55.786231Z",
     "start_time": "2021-08-19T10:23:55.781069Z"
    }
   },
   "outputs": [
    {
     "name": "stdout",
     "output_type": "stream",
     "text": [
      "['100 horsepower', '150 horsepower', '250 horsepower', '40 horsepower', '45 horsepower', '50 horsepower']\n"
     ]
    }
   ],
   "source": [
    "# Instantiate a trigram vectorizer\n",
    "cv_trigram_vec = CountVectorizer(\n",
    "    max_features=100, stop_words='english', ngram_range=(2, 2))\n",
    "\n",
    "# Fit and apply trigram vectorizer\n",
    "cv_trigram = cv_trigram_vec.fit_transform(df['Engine_clean'])\n",
    "\n",
    "# Print the trigram features\n",
    "print(cv_trigram_vec.get_feature_names())"
   ]
  },
  {
   "cell_type": "code",
   "execution_count": 40,
   "metadata": {
    "ExecuteTime": {
     "end_time": "2021-08-19T10:23:55.793438Z",
     "start_time": "2021-08-19T10:23:55.787986Z"
    }
   },
   "outputs": [
    {
     "name": "stdout",
     "output_type": "stream",
     "text": [
      "Counts_50 horsepower     2\n",
      "Counts_45 horsepower     2\n",
      "Counts_100 horsepower    2\n",
      "Counts_40 horsepower     1\n",
      "Counts_250 horsepower    1\n",
      "dtype: int64\n"
     ]
    }
   ],
   "source": [
    "# Finding the most common words\n",
    "# Create a DataFrame of the features\n",
    "cv_tri_df = pd.DataFrame(\n",
    "    cv_trigram.toarray(),\n",
    "    columns=cv_trigram_vec.get_feature_names()).add_prefix('Counts_')\n",
    "\n",
    "# Print the top 5 words in the sorted output\n",
    "print(cv_tri_df.sum().sort_values(ascending=False).head())"
   ]
  },
  {
   "cell_type": "markdown",
   "metadata": {},
   "source": [
    "### Text vector"
   ]
  },
  {
   "cell_type": "code",
   "execution_count": 41,
   "metadata": {
    "ExecuteTime": {
     "end_time": "2021-08-19T10:23:55.809488Z",
     "start_time": "2021-08-19T10:23:55.795168Z"
    }
   },
   "outputs": [
    {
     "data": {
      "text/html": [
       "<div>\n",
       "<style scoped>\n",
       "    .dataframe tbody tr th:only-of-type {\n",
       "        vertical-align: middle;\n",
       "    }\n",
       "\n",
       "    .dataframe tbody tr th {\n",
       "        vertical-align: top;\n",
       "    }\n",
       "\n",
       "    .dataframe thead th {\n",
       "        text-align: right;\n",
       "    }\n",
       "</style>\n",
       "<table border=\"1\" class=\"dataframe\">\n",
       "  <thead>\n",
       "    <tr style=\"text-align: right;\">\n",
       "      <th></th>\n",
       "      <th>Brand</th>\n",
       "      <th>Brand_text_tfidf</th>\n",
       "    </tr>\n",
       "  </thead>\n",
       "  <tbody>\n",
       "    <tr>\n",
       "      <th>0</th>\n",
       "      <td>Honda Civic</td>\n",
       "      <td>(0, 6)\\t0.6452572857754033\\n  (0, 2)\\t0.7639...</td>\n",
       "    </tr>\n",
       "    <tr>\n",
       "      <th>1</th>\n",
       "      <td>missing</td>\n",
       "      <td>(0, 6)\\t0.6452572857754033\\n  (0, 2)\\t0.7639...</td>\n",
       "    </tr>\n",
       "    <tr>\n",
       "      <th>2</th>\n",
       "      <td>Toyota Corolla</td>\n",
       "      <td>(0, 6)\\t0.6452572857754033\\n  (0, 2)\\t0.7639...</td>\n",
       "    </tr>\n",
       "    <tr>\n",
       "      <th>3</th>\n",
       "      <td>Ford Focus</td>\n",
       "      <td>(0, 6)\\t0.6452572857754033\\n  (0, 2)\\t0.7639...</td>\n",
       "    </tr>\n",
       "    <tr>\n",
       "      <th>4</th>\n",
       "      <td>missing</td>\n",
       "      <td>(0, 6)\\t0.6452572857754033\\n  (0, 2)\\t0.7639...</td>\n",
       "    </tr>\n",
       "    <tr>\n",
       "      <th>5</th>\n",
       "      <td>Audi A4</td>\n",
       "      <td>(0, 6)\\t0.6452572857754033\\n  (0, 2)\\t0.7639...</td>\n",
       "    </tr>\n",
       "    <tr>\n",
       "      <th>6</th>\n",
       "      <td>missing</td>\n",
       "      <td>(0, 6)\\t0.6452572857754033\\n  (0, 2)\\t0.7639...</td>\n",
       "    </tr>\n",
       "    <tr>\n",
       "      <th>7</th>\n",
       "      <td>Honda</td>\n",
       "      <td>(0, 6)\\t0.6452572857754033\\n  (0, 2)\\t0.7639...</td>\n",
       "    </tr>\n",
       "    <tr>\n",
       "      <th>8</th>\n",
       "      <td>Audi A4</td>\n",
       "      <td>(0, 6)\\t0.6452572857754033\\n  (0, 2)\\t0.7639...</td>\n",
       "    </tr>\n",
       "  </tbody>\n",
       "</table>\n",
       "</div>"
      ],
      "text/plain": [
       "            Brand                                   Brand_text_tfidf\n",
       "0     Honda Civic    (0, 6)\\t0.6452572857754033\\n  (0, 2)\\t0.7639...\n",
       "1         missing    (0, 6)\\t0.6452572857754033\\n  (0, 2)\\t0.7639...\n",
       "2  Toyota Corolla    (0, 6)\\t0.6452572857754033\\n  (0, 2)\\t0.7639...\n",
       "3      Ford Focus    (0, 6)\\t0.6452572857754033\\n  (0, 2)\\t0.7639...\n",
       "4         missing    (0, 6)\\t0.6452572857754033\\n  (0, 2)\\t0.7639...\n",
       "5         Audi A4    (0, 6)\\t0.6452572857754033\\n  (0, 2)\\t0.7639...\n",
       "6         missing    (0, 6)\\t0.6452572857754033\\n  (0, 2)\\t0.7639...\n",
       "7           Honda    (0, 6)\\t0.6452572857754033\\n  (0, 2)\\t0.7639...\n",
       "8         Audi A4    (0, 6)\\t0.6452572857754033\\n  (0, 2)\\t0.7639..."
      ]
     },
     "execution_count": 41,
     "metadata": {},
     "output_type": "execute_result"
    }
   ],
   "source": [
    "# Create the vectorizer method\n",
    "tfidf_vec = TfidfVectorizer()\n",
    "\n",
    "# Transform the text into tf-idf vectors\n",
    "df['Brand_text_tfidf'] = tfidf_vec.fit_transform(df['Brand'])\n",
    "\n",
    "df[['Brand', 'Brand_text_tfidf']]"
   ]
  },
  {
   "cell_type": "markdown",
   "metadata": {},
   "source": [
    "## Feature engineering "
   ]
  },
  {
   "cell_type": "code",
   "execution_count": 62,
   "metadata": {
    "ExecuteTime": {
     "end_time": "2021-08-19T15:23:39.382624Z",
     "start_time": "2021-08-19T15:23:39.305873Z"
    }
   },
   "outputs": [
    {
     "name": "stdout",
     "output_type": "stream",
     "text": [
      "2    9\n",
      "Name: word_cnt, dtype: int64\n"
     ]
    },
    {
     "data": {
      "text/html": [
       "<div>\n",
       "<style scoped>\n",
       "    .dataframe tbody tr th:only-of-type {\n",
       "        vertical-align: middle;\n",
       "    }\n",
       "\n",
       "    .dataframe tbody tr th {\n",
       "        vertical-align: top;\n",
       "    }\n",
       "\n",
       "    .dataframe thead th {\n",
       "        text-align: right;\n",
       "    }\n",
       "</style>\n",
       "<table border=\"1\" class=\"dataframe\">\n",
       "  <thead>\n",
       "    <tr style=\"text-align: right;\">\n",
       "      <th></th>\n",
       "      <th>Price1</th>\n",
       "      <th>Price2</th>\n",
       "      <th>Year</th>\n",
       "      <th>Label</th>\n",
       "      <th>log_Year</th>\n",
       "      <th>Price1_LG</th>\n",
       "      <th>Engine_hp</th>\n",
       "      <th>char_cnt</th>\n",
       "      <th>word_cnt</th>\n",
       "      <th>avg_word_length</th>\n",
       "      <th>...</th>\n",
       "      <th>blue</th>\n",
       "      <th>green</th>\n",
       "      <th>missing</th>\n",
       "      <th>red</th>\n",
       "      <th>yellow</th>\n",
       "      <th>Price_average</th>\n",
       "      <th>Price_average_log</th>\n",
       "      <th>Date_month</th>\n",
       "      <th>Date_year</th>\n",
       "      <th>Price_Binarizing</th>\n",
       "    </tr>\n",
       "  </thead>\n",
       "  <tbody>\n",
       "    <tr>\n",
       "      <th>count</th>\n",
       "      <td>9.00000</td>\n",
       "      <td>9.0</td>\n",
       "      <td>9.000000</td>\n",
       "      <td>9.000000</td>\n",
       "      <td>9.000000</td>\n",
       "      <td>9.000000e+00</td>\n",
       "      <td>9.000000</td>\n",
       "      <td>9.000000</td>\n",
       "      <td>9.0</td>\n",
       "      <td>9.000000</td>\n",
       "      <td>...</td>\n",
       "      <td>9.000000</td>\n",
       "      <td>9.000000</td>\n",
       "      <td>9.000000</td>\n",
       "      <td>9.000000</td>\n",
       "      <td>9.000000</td>\n",
       "      <td>9.000000e+00</td>\n",
       "      <td>9.000000</td>\n",
       "      <td>9.000000</td>\n",
       "      <td>9.000000</td>\n",
       "      <td>9.000000</td>\n",
       "    </tr>\n",
       "    <tr>\n",
       "      <th>mean</th>\n",
       "      <td>18437.50000</td>\n",
       "      <td>1264662.5</td>\n",
       "      <td>2006.555556</td>\n",
       "      <td>0.444444</td>\n",
       "      <td>7.604168</td>\n",
       "      <td>1.233581e-16</td>\n",
       "      <td>92.333333</td>\n",
       "      <td>15.444444</td>\n",
       "      <td>2.0</td>\n",
       "      <td>7.722222</td>\n",
       "      <td>...</td>\n",
       "      <td>0.222222</td>\n",
       "      <td>0.111111</td>\n",
       "      <td>0.111111</td>\n",
       "      <td>0.444444</td>\n",
       "      <td>0.111111</td>\n",
       "      <td>6.415500e+05</td>\n",
       "      <td>10.348673</td>\n",
       "      <td>7.666667</td>\n",
       "      <td>2018.333333</td>\n",
       "      <td>0.777778</td>\n",
       "    </tr>\n",
       "    <tr>\n",
       "      <th>std</th>\n",
       "      <td>11251.21582</td>\n",
       "      <td>3301666.0</td>\n",
       "      <td>7.875772</td>\n",
       "      <td>0.527046</td>\n",
       "      <td>0.003924</td>\n",
       "      <td>1.060660e+00</td>\n",
       "      <td>69.885174</td>\n",
       "      <td>0.527046</td>\n",
       "      <td>0.0</td>\n",
       "      <td>0.263523</td>\n",
       "      <td>...</td>\n",
       "      <td>0.440959</td>\n",
       "      <td>0.333333</td>\n",
       "      <td>0.333333</td>\n",
       "      <td>0.527046</td>\n",
       "      <td>0.333333</td>\n",
       "      <td>1.651345e+06</td>\n",
       "      <td>2.674856</td>\n",
       "      <td>3.082207</td>\n",
       "      <td>0.500000</td>\n",
       "      <td>0.440959</td>\n",
       "    </tr>\n",
       "    <tr>\n",
       "      <th>min</th>\n",
       "      <td>1000.00000</td>\n",
       "      <td>1100.0</td>\n",
       "      <td>1995.000000</td>\n",
       "      <td>0.000000</td>\n",
       "      <td>7.598399</td>\n",
       "      <td>-1.693230e+00</td>\n",
       "      <td>40.000000</td>\n",
       "      <td>15.000000</td>\n",
       "      <td>2.0</td>\n",
       "      <td>7.500000</td>\n",
       "      <td>...</td>\n",
       "      <td>0.000000</td>\n",
       "      <td>0.000000</td>\n",
       "      <td>0.000000</td>\n",
       "      <td>0.000000</td>\n",
       "      <td>0.000000</td>\n",
       "      <td>1.100000e+03</td>\n",
       "      <td>7.003065</td>\n",
       "      <td>1.000000</td>\n",
       "      <td>2018.000000</td>\n",
       "      <td>0.000000</td>\n",
       "    </tr>\n",
       "    <tr>\n",
       "      <th>25%</th>\n",
       "      <td>15000.00000</td>\n",
       "      <td>11000.0</td>\n",
       "      <td>2000.000000</td>\n",
       "      <td>0.000000</td>\n",
       "      <td>7.600902</td>\n",
       "      <td>-2.630930e-01</td>\n",
       "      <td>45.000000</td>\n",
       "      <td>15.000000</td>\n",
       "      <td>2.0</td>\n",
       "      <td>7.500000</td>\n",
       "      <td>...</td>\n",
       "      <td>0.000000</td>\n",
       "      <td>0.000000</td>\n",
       "      <td>0.000000</td>\n",
       "      <td>0.000000</td>\n",
       "      <td>0.000000</td>\n",
       "      <td>1.300000e+04</td>\n",
       "      <td>9.472705</td>\n",
       "      <td>7.000000</td>\n",
       "      <td>2018.000000</td>\n",
       "      <td>1.000000</td>\n",
       "    </tr>\n",
       "    <tr>\n",
       "      <th>50%</th>\n",
       "      <td>21000.00000</td>\n",
       "      <td>23000.0</td>\n",
       "      <td>2005.000000</td>\n",
       "      <td>0.000000</td>\n",
       "      <td>7.603399</td>\n",
       "      <td>2.771196e-01</td>\n",
       "      <td>50.500000</td>\n",
       "      <td>15.000000</td>\n",
       "      <td>2.0</td>\n",
       "      <td>7.500000</td>\n",
       "      <td>...</td>\n",
       "      <td>0.000000</td>\n",
       "      <td>0.000000</td>\n",
       "      <td>0.000000</td>\n",
       "      <td>0.000000</td>\n",
       "      <td>0.000000</td>\n",
       "      <td>2.300000e+04</td>\n",
       "      <td>10.043249</td>\n",
       "      <td>7.000000</td>\n",
       "      <td>2018.000000</td>\n",
       "      <td>1.000000</td>\n",
       "    </tr>\n",
       "    <tr>\n",
       "      <th>75%</th>\n",
       "      <td>25000.00000</td>\n",
       "      <td>35000.0</td>\n",
       "      <td>2011.000000</td>\n",
       "      <td>1.000000</td>\n",
       "      <td>7.606387</td>\n",
       "      <td>6.262424e-01</td>\n",
       "      <td>100.500000</td>\n",
       "      <td>16.000000</td>\n",
       "      <td>2.0</td>\n",
       "      <td>8.000000</td>\n",
       "      <td>...</td>\n",
       "      <td>0.000000</td>\n",
       "      <td>0.000000</td>\n",
       "      <td>0.000000</td>\n",
       "      <td>1.000000</td>\n",
       "      <td>0.000000</td>\n",
       "      <td>3.500000e+04</td>\n",
       "      <td>10.463103</td>\n",
       "      <td>10.000000</td>\n",
       "      <td>2019.000000</td>\n",
       "      <td>1.000000</td>\n",
       "    </tr>\n",
       "    <tr>\n",
       "      <th>max</th>\n",
       "      <td>35000.00000</td>\n",
       "      <td>10000000.0</td>\n",
       "      <td>2019.000000</td>\n",
       "      <td>1.000000</td>\n",
       "      <td>7.610358</td>\n",
       "      <td>1.470982e+00</td>\n",
       "      <td>250.000000</td>\n",
       "      <td>16.000000</td>\n",
       "      <td>2.0</td>\n",
       "      <td>8.000000</td>\n",
       "      <td>...</td>\n",
       "      <td>1.000000</td>\n",
       "      <td>1.000000</td>\n",
       "      <td>1.000000</td>\n",
       "      <td>1.000000</td>\n",
       "      <td>1.000000</td>\n",
       "      <td>5.010500e+06</td>\n",
       "      <td>15.427046</td>\n",
       "      <td>11.000000</td>\n",
       "      <td>2019.000000</td>\n",
       "      <td>1.000000</td>\n",
       "    </tr>\n",
       "  </tbody>\n",
       "</table>\n",
       "<p>8 rows × 21 columns</p>\n",
       "</div>"
      ],
      "text/plain": [
       "            Price1      Price2         Year     Label  log_Year     Price1_LG  \\\n",
       "count      9.00000         9.0     9.000000  9.000000  9.000000  9.000000e+00   \n",
       "mean   18437.50000   1264662.5  2006.555556  0.444444  7.604168  1.233581e-16   \n",
       "std    11251.21582   3301666.0     7.875772  0.527046  0.003924  1.060660e+00   \n",
       "min     1000.00000      1100.0  1995.000000  0.000000  7.598399 -1.693230e+00   \n",
       "25%    15000.00000     11000.0  2000.000000  0.000000  7.600902 -2.630930e-01   \n",
       "50%    21000.00000     23000.0  2005.000000  0.000000  7.603399  2.771196e-01   \n",
       "75%    25000.00000     35000.0  2011.000000  1.000000  7.606387  6.262424e-01   \n",
       "max    35000.00000  10000000.0  2019.000000  1.000000  7.610358  1.470982e+00   \n",
       "\n",
       "        Engine_hp   char_cnt  word_cnt  avg_word_length        ...         \\\n",
       "count    9.000000   9.000000       9.0         9.000000        ...          \n",
       "mean    92.333333  15.444444       2.0         7.722222        ...          \n",
       "std     69.885174   0.527046       0.0         0.263523        ...          \n",
       "min     40.000000  15.000000       2.0         7.500000        ...          \n",
       "25%     45.000000  15.000000       2.0         7.500000        ...          \n",
       "50%     50.500000  15.000000       2.0         7.500000        ...          \n",
       "75%    100.500000  16.000000       2.0         8.000000        ...          \n",
       "max    250.000000  16.000000       2.0         8.000000        ...          \n",
       "\n",
       "           blue     green   missing       red    yellow  Price_average  \\\n",
       "count  9.000000  9.000000  9.000000  9.000000  9.000000   9.000000e+00   \n",
       "mean   0.222222  0.111111  0.111111  0.444444  0.111111   6.415500e+05   \n",
       "std    0.440959  0.333333  0.333333  0.527046  0.333333   1.651345e+06   \n",
       "min    0.000000  0.000000  0.000000  0.000000  0.000000   1.100000e+03   \n",
       "25%    0.000000  0.000000  0.000000  0.000000  0.000000   1.300000e+04   \n",
       "50%    0.000000  0.000000  0.000000  0.000000  0.000000   2.300000e+04   \n",
       "75%    0.000000  0.000000  0.000000  1.000000  0.000000   3.500000e+04   \n",
       "max    1.000000  1.000000  1.000000  1.000000  1.000000   5.010500e+06   \n",
       "\n",
       "       Price_average_log  Date_month    Date_year  Price_Binarizing  \n",
       "count           9.000000    9.000000     9.000000          9.000000  \n",
       "mean           10.348673    7.666667  2018.333333          0.777778  \n",
       "std             2.674856    3.082207     0.500000          0.440959  \n",
       "min             7.003065    1.000000  2018.000000          0.000000  \n",
       "25%             9.472705    7.000000  2018.000000          1.000000  \n",
       "50%            10.043249    7.000000  2018.000000          1.000000  \n",
       "75%            10.463103   10.000000  2019.000000          1.000000  \n",
       "max            15.427046   11.000000  2019.000000          1.000000  \n",
       "\n",
       "[8 rows x 21 columns]"
      ]
     },
     "execution_count": 62,
     "metadata": {},
     "output_type": "execute_result"
    }
   ],
   "source": [
    "# Removing features without variance as a noise\n",
    "print(df.word_cnt.value_counts())\n",
    "df.describe()\n"
   ]
  },
  {
   "cell_type": "markdown",
   "metadata": {},
   "source": [
    "### Categorical"
   ]
  },
  {
   "cell_type": "markdown",
   "metadata": {},
   "source": [
    "#### Label Encoder"
   ]
  },
  {
   "cell_type": "code",
   "execution_count": 42,
   "metadata": {
    "ExecuteTime": {
     "end_time": "2021-08-19T10:23:55.817691Z",
     "start_time": "2021-08-19T10:23:55.811244Z"
    }
   },
   "outputs": [
    {
     "name": "stdout",
     "output_type": "stream",
     "text": [
      "     Color  Color_enc\n",
      "0      red          3\n",
      "1     blue          0\n",
      "2    green          1\n",
      "3      red          3\n",
      "4  missing          2\n"
     ]
    }
   ],
   "source": [
    "# Set up the LabelEncoder object\n",
    "enc = LabelEncoder()\n",
    "\n",
    "# Apply the encoding to the Color column\n",
    "df['Color_enc'] = enc.fit_transform(df['Color'])\n",
    "\n",
    "# Compare the two columns\n",
    "print(df[['Color', 'Color_enc']].head())"
   ]
  },
  {
   "cell_type": "markdown",
   "metadata": {},
   "source": [
    "#### One Hot Encoder"
   ]
  },
  {
   "cell_type": "code",
   "execution_count": 43,
   "metadata": {
    "ExecuteTime": {
     "end_time": "2021-08-19T10:23:55.833271Z",
     "start_time": "2021-08-19T10:23:55.819453Z"
    }
   },
   "outputs": [
    {
     "data": {
      "text/html": [
       "<div>\n",
       "<style scoped>\n",
       "    .dataframe tbody tr th:only-of-type {\n",
       "        vertical-align: middle;\n",
       "    }\n",
       "\n",
       "    .dataframe tbody tr th {\n",
       "        vertical-align: top;\n",
       "    }\n",
       "\n",
       "    .dataframe thead th {\n",
       "        text-align: right;\n",
       "    }\n",
       "</style>\n",
       "<table border=\"1\" class=\"dataframe\">\n",
       "  <thead>\n",
       "    <tr style=\"text-align: right;\">\n",
       "      <th></th>\n",
       "      <th>Color</th>\n",
       "      <th>blue</th>\n",
       "      <th>green</th>\n",
       "      <th>missing</th>\n",
       "      <th>red</th>\n",
       "      <th>yellow</th>\n",
       "    </tr>\n",
       "  </thead>\n",
       "  <tbody>\n",
       "    <tr>\n",
       "      <th>0</th>\n",
       "      <td>red</td>\n",
       "      <td>0</td>\n",
       "      <td>0</td>\n",
       "      <td>0</td>\n",
       "      <td>1</td>\n",
       "      <td>0</td>\n",
       "    </tr>\n",
       "    <tr>\n",
       "      <th>1</th>\n",
       "      <td>blue</td>\n",
       "      <td>1</td>\n",
       "      <td>0</td>\n",
       "      <td>0</td>\n",
       "      <td>0</td>\n",
       "      <td>0</td>\n",
       "    </tr>\n",
       "    <tr>\n",
       "      <th>2</th>\n",
       "      <td>green</td>\n",
       "      <td>0</td>\n",
       "      <td>1</td>\n",
       "      <td>0</td>\n",
       "      <td>0</td>\n",
       "      <td>0</td>\n",
       "    </tr>\n",
       "    <tr>\n",
       "      <th>3</th>\n",
       "      <td>red</td>\n",
       "      <td>0</td>\n",
       "      <td>0</td>\n",
       "      <td>0</td>\n",
       "      <td>1</td>\n",
       "      <td>0</td>\n",
       "    </tr>\n",
       "    <tr>\n",
       "      <th>4</th>\n",
       "      <td>missing</td>\n",
       "      <td>0</td>\n",
       "      <td>0</td>\n",
       "      <td>1</td>\n",
       "      <td>0</td>\n",
       "      <td>0</td>\n",
       "    </tr>\n",
       "    <tr>\n",
       "      <th>5</th>\n",
       "      <td>blue</td>\n",
       "      <td>1</td>\n",
       "      <td>0</td>\n",
       "      <td>0</td>\n",
       "      <td>0</td>\n",
       "      <td>0</td>\n",
       "    </tr>\n",
       "    <tr>\n",
       "      <th>6</th>\n",
       "      <td>red</td>\n",
       "      <td>0</td>\n",
       "      <td>0</td>\n",
       "      <td>0</td>\n",
       "      <td>1</td>\n",
       "      <td>0</td>\n",
       "    </tr>\n",
       "    <tr>\n",
       "      <th>7</th>\n",
       "      <td>yellow</td>\n",
       "      <td>0</td>\n",
       "      <td>0</td>\n",
       "      <td>0</td>\n",
       "      <td>0</td>\n",
       "      <td>1</td>\n",
       "    </tr>\n",
       "    <tr>\n",
       "      <th>8</th>\n",
       "      <td>red</td>\n",
       "      <td>0</td>\n",
       "      <td>0</td>\n",
       "      <td>0</td>\n",
       "      <td>1</td>\n",
       "      <td>0</td>\n",
       "    </tr>\n",
       "  </tbody>\n",
       "</table>\n",
       "</div>"
      ],
      "text/plain": [
       "     Color  blue  green  missing  red  yellow\n",
       "0      red     0      0        0    1       0\n",
       "1     blue     1      0        0    0       0\n",
       "2    green     0      1        0    0       0\n",
       "3      red     0      0        0    1       0\n",
       "4  missing     0      0        1    0       0\n",
       "5     blue     1      0        0    0       0\n",
       "6      red     0      0        0    1       0\n",
       "7   yellow     0      0        0    0       1\n",
       "8      red     0      0        0    1       0"
      ]
     },
     "execution_count": 43,
     "metadata": {},
     "output_type": "execute_result"
    }
   ],
   "source": [
    "# Transform the Color column and concatinate with DataSet\n",
    "df = pd.concat([df, pd.get_dummies(df['Color'])], axis=1)\n",
    "\n",
    "df[['Color', 'blue', 'green', 'missing', 'red', 'yellow']]"
   ]
  },
  {
   "cell_type": "markdown",
   "metadata": {},
   "source": [
    "#### Rare categories"
   ]
  },
  {
   "cell_type": "code",
   "execution_count": 44,
   "metadata": {
    "ExecuteTime": {
     "end_time": "2021-08-19T10:23:55.882492Z",
     "start_time": "2021-08-19T10:23:55.834980Z"
    }
   },
   "outputs": [
    {
     "name": "stdout",
     "output_type": "stream",
     "text": [
      "red     4\n",
      "Rare    3\n",
      "blue    2\n",
      "Name: Color, dtype: int64\n"
     ]
    }
   ],
   "source": [
    "# Create a series out of the Color column\n",
    "colors = df['Color']\n",
    "\n",
    "# Get the counts of each category\n",
    "color_counts = colors.value_counts()\n",
    "\n",
    "# Create a mask for only categories that occur less than 10 times\n",
    "mask = colors.isin(color_counts[color_counts < 2].index)\n",
    "\n",
    "# Label all other categories as Rare\n",
    "colors[mask] = 'Rare'\n",
    "\n",
    "# Print the updated category counts\n",
    "print(pd.value_counts(colors))"
   ]
  },
  {
   "cell_type": "markdown",
   "metadata": {},
   "source": [
    "### Numerical"
   ]
  },
  {
   "cell_type": "markdown",
   "metadata": {},
   "source": [
    "#### Average"
   ]
  },
  {
   "cell_type": "code",
   "execution_count": 45,
   "metadata": {
    "ExecuteTime": {
     "end_time": "2021-08-19T10:23:55.899903Z",
     "start_time": "2021-08-19T10:23:55.884058Z"
    }
   },
   "outputs": [
    {
     "name": "stdout",
     "output_type": "stream",
     "text": [
      "    Price1      Price2  Price_average  Price_average_log\n",
      "0  22000.0     23000.0        22500.0          10.021271\n",
      "1  25000.0     21000.0        23000.0          10.043249\n",
      "2  27000.0     25000.0        26000.0          10.165852\n",
      "3  18437.5   1264662.5       641550.0          13.371642\n",
      "4  35000.0     35000.0        35000.0          10.463103\n",
      "5  15000.0     11000.0        13000.0           9.472705\n",
      "6   1000.0      1200.0         1100.0           7.003065\n",
      "7   1500.0      1100.0         1300.0           7.170120\n",
      "8  21000.0  10000000.0      5010500.0          15.427046\n"
     ]
    }
   ],
   "source": [
    "# Create a list of the columns to average\n",
    "price_columns = ['Price1', 'Price2']\n",
    "\n",
    "# Use apply to create a mean column\n",
    "df['Price_average'] = df.apply(lambda row: row[price_columns].mean(), axis=1)\n",
    "df['Price_average_log'] = np.log(df['Price_average'])\n",
    "\n",
    "# Take a look at the results\n",
    "print(df[['Price1', 'Price2', 'Price_average', 'Price_average_log']])"
   ]
  },
  {
   "cell_type": "markdown",
   "metadata": {},
   "source": [
    "#### Datetime"
   ]
  },
  {
   "cell_type": "code",
   "execution_count": 46,
   "metadata": {
    "ExecuteTime": {
     "end_time": "2021-08-19T10:23:55.914550Z",
     "start_time": "2021-08-19T10:23:55.901426Z"
    }
   },
   "outputs": [
    {
     "name": "stdout",
     "output_type": "stream",
     "text": [
      "  Date_converted  Date_month  Date_year\n",
      "0     2018-10-10          10       2018\n",
      "1     2018-10-14          10       2018\n",
      "2     2018-07-11           7       2018\n",
      "3     2018-11-20          11       2018\n",
      "4     2018-06-12           6       2018\n",
      "5     2019-01-01           1       2019\n",
      "6     2019-07-01           7       2019\n",
      "7     2019-07-02           7       2019\n",
      "8     2018-10-14          10       2018\n"
     ]
    }
   ],
   "source": [
    "# First, convert string column to date column\n",
    "df['Date_converted'] = pd.to_datetime(df['Date'])\n",
    "\n",
    "# Extract just the month and year from the converted column\n",
    "df['Date_month'] = df.apply(lambda row: row['Date_converted'].month, axis=1)\n",
    "df['Date_year'] = df.apply(lambda row: row['Date_converted'].year, axis=1)\n",
    "\n",
    "# Take a look at the converted and new month columns\n",
    "print(df[['Date_converted', 'Date_month', 'Date_year']])"
   ]
  },
  {
   "cell_type": "markdown",
   "metadata": {},
   "source": [
    "#### Categorizing"
   ]
  },
  {
   "cell_type": "code",
   "execution_count": 47,
   "metadata": {
    "ExecuteTime": {
     "end_time": "2021-08-19T10:23:55.925541Z",
     "start_time": "2021-08-19T10:23:55.916083Z"
    }
   },
   "outputs": [
    {
     "data": {
      "text/html": [
       "<div>\n",
       "<style scoped>\n",
       "    .dataframe tbody tr th:only-of-type {\n",
       "        vertical-align: middle;\n",
       "    }\n",
       "\n",
       "    .dataframe tbody tr th {\n",
       "        vertical-align: top;\n",
       "    }\n",
       "\n",
       "    .dataframe thead th {\n",
       "        text-align: right;\n",
       "    }\n",
       "</style>\n",
       "<table border=\"1\" class=\"dataframe\">\n",
       "  <thead>\n",
       "    <tr style=\"text-align: right;\">\n",
       "      <th></th>\n",
       "      <th>Price1</th>\n",
       "      <th>Price_Categorizing</th>\n",
       "    </tr>\n",
       "  </thead>\n",
       "  <tbody>\n",
       "    <tr>\n",
       "      <th>0</th>\n",
       "      <td>22000.0</td>\n",
       "      <td>higth</td>\n",
       "    </tr>\n",
       "    <tr>\n",
       "      <th>1</th>\n",
       "      <td>25000.0</td>\n",
       "      <td>higth</td>\n",
       "    </tr>\n",
       "    <tr>\n",
       "      <th>2</th>\n",
       "      <td>27000.0</td>\n",
       "      <td>higth</td>\n",
       "    </tr>\n",
       "    <tr>\n",
       "      <th>3</th>\n",
       "      <td>18437.5</td>\n",
       "      <td>higth</td>\n",
       "    </tr>\n",
       "    <tr>\n",
       "      <th>4</th>\n",
       "      <td>35000.0</td>\n",
       "      <td>higth</td>\n",
       "    </tr>\n",
       "    <tr>\n",
       "      <th>5</th>\n",
       "      <td>15000.0</td>\n",
       "      <td>higth</td>\n",
       "    </tr>\n",
       "    <tr>\n",
       "      <th>6</th>\n",
       "      <td>1000.0</td>\n",
       "      <td>low</td>\n",
       "    </tr>\n",
       "    <tr>\n",
       "      <th>7</th>\n",
       "      <td>1500.0</td>\n",
       "      <td>low</td>\n",
       "    </tr>\n",
       "    <tr>\n",
       "      <th>8</th>\n",
       "      <td>21000.0</td>\n",
       "      <td>higth</td>\n",
       "    </tr>\n",
       "  </tbody>\n",
       "</table>\n",
       "</div>"
      ],
      "text/plain": [
       "    Price1 Price_Categorizing\n",
       "0  22000.0              higth\n",
       "1  25000.0              higth\n",
       "2  27000.0              higth\n",
       "3  18437.5              higth\n",
       "4  35000.0              higth\n",
       "5  15000.0              higth\n",
       "6   1000.0                low\n",
       "7   1500.0                low\n",
       "8  21000.0              higth"
      ]
     },
     "execution_count": 47,
     "metadata": {},
     "output_type": "execute_result"
    }
   ],
   "source": [
    "df['Price_Categorizing'] = 'low'\n",
    "df.loc[(df['Price1'] > 10000), 'Price_Categorizing'] = 'higth'\n",
    "df[['Price1', 'Price_Categorizing']]"
   ]
  },
  {
   "cell_type": "markdown",
   "metadata": {},
   "source": [
    "#### Binarizing"
   ]
  },
  {
   "cell_type": "code",
   "execution_count": 48,
   "metadata": {
    "ExecuteTime": {
     "end_time": "2021-08-19T10:23:55.936324Z",
     "start_time": "2021-08-19T10:23:55.927082Z"
    }
   },
   "outputs": [
    {
     "data": {
      "text/html": [
       "<div>\n",
       "<style scoped>\n",
       "    .dataframe tbody tr th:only-of-type {\n",
       "        vertical-align: middle;\n",
       "    }\n",
       "\n",
       "    .dataframe tbody tr th {\n",
       "        vertical-align: top;\n",
       "    }\n",
       "\n",
       "    .dataframe thead th {\n",
       "        text-align: right;\n",
       "    }\n",
       "</style>\n",
       "<table border=\"1\" class=\"dataframe\">\n",
       "  <thead>\n",
       "    <tr style=\"text-align: right;\">\n",
       "      <th></th>\n",
       "      <th>Price1</th>\n",
       "      <th>Price_Binarizing</th>\n",
       "    </tr>\n",
       "  </thead>\n",
       "  <tbody>\n",
       "    <tr>\n",
       "      <th>0</th>\n",
       "      <td>22000.0</td>\n",
       "      <td>1</td>\n",
       "    </tr>\n",
       "    <tr>\n",
       "      <th>1</th>\n",
       "      <td>25000.0</td>\n",
       "      <td>1</td>\n",
       "    </tr>\n",
       "    <tr>\n",
       "      <th>2</th>\n",
       "      <td>27000.0</td>\n",
       "      <td>1</td>\n",
       "    </tr>\n",
       "    <tr>\n",
       "      <th>3</th>\n",
       "      <td>18437.5</td>\n",
       "      <td>1</td>\n",
       "    </tr>\n",
       "    <tr>\n",
       "      <th>4</th>\n",
       "      <td>35000.0</td>\n",
       "      <td>1</td>\n",
       "    </tr>\n",
       "    <tr>\n",
       "      <th>5</th>\n",
       "      <td>15000.0</td>\n",
       "      <td>1</td>\n",
       "    </tr>\n",
       "    <tr>\n",
       "      <th>6</th>\n",
       "      <td>1000.0</td>\n",
       "      <td>0</td>\n",
       "    </tr>\n",
       "    <tr>\n",
       "      <th>7</th>\n",
       "      <td>1500.0</td>\n",
       "      <td>0</td>\n",
       "    </tr>\n",
       "    <tr>\n",
       "      <th>8</th>\n",
       "      <td>21000.0</td>\n",
       "      <td>1</td>\n",
       "    </tr>\n",
       "  </tbody>\n",
       "</table>\n",
       "</div>"
      ],
      "text/plain": [
       "    Price1  Price_Binarizing\n",
       "0  22000.0                 1\n",
       "1  25000.0                 1\n",
       "2  27000.0                 1\n",
       "3  18437.5                 1\n",
       "4  35000.0                 1\n",
       "5  15000.0                 1\n",
       "6   1000.0                 0\n",
       "7   1500.0                 0\n",
       "8  21000.0                 1"
      ]
     },
     "execution_count": 48,
     "metadata": {},
     "output_type": "execute_result"
    }
   ],
   "source": [
    "df['Price_Binarizing'] = 0\n",
    "df.loc[(df['Price1'] > 10000), 'Price_Binarizing'] = 1\n",
    "df[['Price1', 'Price_Binarizing']]"
   ]
  },
  {
   "cell_type": "markdown",
   "metadata": {},
   "source": [
    "#### Binning"
   ]
  },
  {
   "cell_type": "code",
   "execution_count": 49,
   "metadata": {
    "ExecuteTime": {
     "end_time": "2021-08-19T10:23:55.951001Z",
     "start_time": "2021-08-19T10:23:55.937853Z"
    }
   },
   "outputs": [
    {
     "data": {
      "text/html": [
       "<div>\n",
       "<style scoped>\n",
       "    .dataframe tbody tr th:only-of-type {\n",
       "        vertical-align: middle;\n",
       "    }\n",
       "\n",
       "    .dataframe tbody tr th {\n",
       "        vertical-align: top;\n",
       "    }\n",
       "\n",
       "    .dataframe thead th {\n",
       "        text-align: right;\n",
       "    }\n",
       "</style>\n",
       "<table border=\"1\" class=\"dataframe\">\n",
       "  <thead>\n",
       "    <tr style=\"text-align: right;\">\n",
       "      <th></th>\n",
       "      <th>Price1</th>\n",
       "      <th>Price_Binning</th>\n",
       "    </tr>\n",
       "  </thead>\n",
       "  <tbody>\n",
       "    <tr>\n",
       "      <th>0</th>\n",
       "      <td>22000.0</td>\n",
       "      <td>(21400.0, 28200.0]</td>\n",
       "    </tr>\n",
       "    <tr>\n",
       "      <th>1</th>\n",
       "      <td>25000.0</td>\n",
       "      <td>(21400.0, 28200.0]</td>\n",
       "    </tr>\n",
       "    <tr>\n",
       "      <th>2</th>\n",
       "      <td>27000.0</td>\n",
       "      <td>(21400.0, 28200.0]</td>\n",
       "    </tr>\n",
       "    <tr>\n",
       "      <th>3</th>\n",
       "      <td>18437.5</td>\n",
       "      <td>(14600.0, 21400.0]</td>\n",
       "    </tr>\n",
       "    <tr>\n",
       "      <th>4</th>\n",
       "      <td>35000.0</td>\n",
       "      <td>(28200.0, 35000.0]</td>\n",
       "    </tr>\n",
       "    <tr>\n",
       "      <th>5</th>\n",
       "      <td>15000.0</td>\n",
       "      <td>(14600.0, 21400.0]</td>\n",
       "    </tr>\n",
       "    <tr>\n",
       "      <th>6</th>\n",
       "      <td>1000.0</td>\n",
       "      <td>(966.0, 7800.0]</td>\n",
       "    </tr>\n",
       "    <tr>\n",
       "      <th>7</th>\n",
       "      <td>1500.0</td>\n",
       "      <td>(966.0, 7800.0]</td>\n",
       "    </tr>\n",
       "    <tr>\n",
       "      <th>8</th>\n",
       "      <td>21000.0</td>\n",
       "      <td>(14600.0, 21400.0]</td>\n",
       "    </tr>\n",
       "  </tbody>\n",
       "</table>\n",
       "</div>"
      ],
      "text/plain": [
       "    Price1       Price_Binning\n",
       "0  22000.0  (21400.0, 28200.0]\n",
       "1  25000.0  (21400.0, 28200.0]\n",
       "2  27000.0  (21400.0, 28200.0]\n",
       "3  18437.5  (14600.0, 21400.0]\n",
       "4  35000.0  (28200.0, 35000.0]\n",
       "5  15000.0  (14600.0, 21400.0]\n",
       "6   1000.0     (966.0, 7800.0]\n",
       "7   1500.0     (966.0, 7800.0]\n",
       "8  21000.0  (14600.0, 21400.0]"
      ]
     },
     "execution_count": 49,
     "metadata": {},
     "output_type": "execute_result"
    }
   ],
   "source": [
    "# Bin the continuous variable Price1 into 5 bins\n",
    "df['Price_Binning'] = pd.cut(df['Price1'], 5)\n",
    "df[['Price1', 'Price_Binning']]"
   ]
  },
  {
   "cell_type": "code",
   "execution_count": 50,
   "metadata": {
    "ExecuteTime": {
     "end_time": "2021-08-19T10:23:55.966369Z",
     "start_time": "2021-08-19T10:23:55.952816Z"
    }
   },
   "outputs": [
    {
     "data": {
      "text/html": [
       "<div>\n",
       "<style scoped>\n",
       "    .dataframe tbody tr th:only-of-type {\n",
       "        vertical-align: middle;\n",
       "    }\n",
       "\n",
       "    .dataframe tbody tr th {\n",
       "        vertical-align: top;\n",
       "    }\n",
       "\n",
       "    .dataframe thead th {\n",
       "        text-align: right;\n",
       "    }\n",
       "</style>\n",
       "<table border=\"1\" class=\"dataframe\">\n",
       "  <thead>\n",
       "    <tr style=\"text-align: right;\">\n",
       "      <th></th>\n",
       "      <th>Price1</th>\n",
       "      <th>Price_Binning</th>\n",
       "      <th>Price_Binning2</th>\n",
       "    </tr>\n",
       "  </thead>\n",
       "  <tbody>\n",
       "    <tr>\n",
       "      <th>0</th>\n",
       "      <td>22000.0</td>\n",
       "      <td>(21400.0, 28200.0]</td>\n",
       "      <td>High</td>\n",
       "    </tr>\n",
       "    <tr>\n",
       "      <th>1</th>\n",
       "      <td>25000.0</td>\n",
       "      <td>(21400.0, 28200.0]</td>\n",
       "      <td>High</td>\n",
       "    </tr>\n",
       "    <tr>\n",
       "      <th>2</th>\n",
       "      <td>27000.0</td>\n",
       "      <td>(21400.0, 28200.0]</td>\n",
       "      <td>High</td>\n",
       "    </tr>\n",
       "    <tr>\n",
       "      <th>3</th>\n",
       "      <td>18437.5</td>\n",
       "      <td>(14600.0, 21400.0]</td>\n",
       "      <td>Medium</td>\n",
       "    </tr>\n",
       "    <tr>\n",
       "      <th>4</th>\n",
       "      <td>35000.0</td>\n",
       "      <td>(28200.0, 35000.0]</td>\n",
       "      <td>Very high</td>\n",
       "    </tr>\n",
       "    <tr>\n",
       "      <th>5</th>\n",
       "      <td>15000.0</td>\n",
       "      <td>(14600.0, 21400.0]</td>\n",
       "      <td>Medium</td>\n",
       "    </tr>\n",
       "    <tr>\n",
       "      <th>6</th>\n",
       "      <td>1000.0</td>\n",
       "      <td>(966.0, 7800.0]</td>\n",
       "      <td>Very low</td>\n",
       "    </tr>\n",
       "    <tr>\n",
       "      <th>7</th>\n",
       "      <td>1500.0</td>\n",
       "      <td>(966.0, 7800.0]</td>\n",
       "      <td>Very low</td>\n",
       "    </tr>\n",
       "    <tr>\n",
       "      <th>8</th>\n",
       "      <td>21000.0</td>\n",
       "      <td>(14600.0, 21400.0]</td>\n",
       "      <td>Medium</td>\n",
       "    </tr>\n",
       "  </tbody>\n",
       "</table>\n",
       "</div>"
      ],
      "text/plain": [
       "    Price1       Price_Binning Price_Binning2\n",
       "0  22000.0  (21400.0, 28200.0]           High\n",
       "1  25000.0  (21400.0, 28200.0]           High\n",
       "2  27000.0  (21400.0, 28200.0]           High\n",
       "3  18437.5  (14600.0, 21400.0]         Medium\n",
       "4  35000.0  (28200.0, 35000.0]      Very high\n",
       "5  15000.0  (14600.0, 21400.0]         Medium\n",
       "6   1000.0     (966.0, 7800.0]       Very low\n",
       "7   1500.0     (966.0, 7800.0]       Very low\n",
       "8  21000.0  (14600.0, 21400.0]         Medium"
      ]
     },
     "execution_count": 50,
     "metadata": {},
     "output_type": "execute_result"
    }
   ],
   "source": [
    "# Specify the boundaries of the bins\n",
    "bins = [-np.inf, 7800, 14600, 21400, 28200, np.inf]\n",
    "\n",
    "# Bin labels\n",
    "labels = ['Very low', 'Low', 'Medium', 'High', 'Very high']\n",
    "\n",
    "# Bin the continuous variable Price1 using these boundaries\n",
    "df['Price_Binning2'] = pd.cut(df['Price1'], bins=bins, labels=labels)\n",
    "\n",
    "df[['Price1', 'Price_Binning', 'Price_Binning2']]"
   ]
  },
  {
   "cell_type": "markdown",
   "metadata": {},
   "source": [
    "## Removing redundant features\n",
    "__remove noisy/correlated/duplicated features__"
   ]
  },
  {
   "cell_type": "markdown",
   "metadata": {
    "ExecuteTime": {
     "end_time": "2019-10-18T10:13:59.379208Z",
     "start_time": "2019-10-18T10:13:59.377041Z"
    }
   },
   "source": [
    "### Redundant columns"
   ]
  },
  {
   "cell_type": "code",
   "execution_count": 51,
   "metadata": {
    "ExecuteTime": {
     "end_time": "2021-08-19T10:23:56.001889Z",
     "start_time": "2021-08-19T10:23:55.968067Z"
    }
   },
   "outputs": [
    {
     "data": {
      "text/html": [
       "<div>\n",
       "<style scoped>\n",
       "    .dataframe tbody tr th:only-of-type {\n",
       "        vertical-align: middle;\n",
       "    }\n",
       "\n",
       "    .dataframe tbody tr th {\n",
       "        vertical-align: top;\n",
       "    }\n",
       "\n",
       "    .dataframe thead th {\n",
       "        text-align: right;\n",
       "    }\n",
       "</style>\n",
       "<table border=\"1\" class=\"dataframe\">\n",
       "  <thead>\n",
       "    <tr style=\"text-align: right;\">\n",
       "      <th></th>\n",
       "      <th>Label</th>\n",
       "      <th>log_Year</th>\n",
       "      <th>Price1_LG</th>\n",
       "      <th>Engine_clean</th>\n",
       "      <th>Engine_hp</th>\n",
       "      <th>char_cnt</th>\n",
       "      <th>word_cnt</th>\n",
       "      <th>avg_word_length</th>\n",
       "      <th>Brand_text_tfidf</th>\n",
       "      <th>Color_enc</th>\n",
       "      <th>...</th>\n",
       "      <th>missing</th>\n",
       "      <th>red</th>\n",
       "      <th>yellow</th>\n",
       "      <th>Price_average_log</th>\n",
       "      <th>Date_month</th>\n",
       "      <th>Date_year</th>\n",
       "      <th>Price_Categorizing</th>\n",
       "      <th>Price_Binarizing</th>\n",
       "      <th>Price_Binning</th>\n",
       "      <th>Price_Binning2</th>\n",
       "    </tr>\n",
       "  </thead>\n",
       "  <tbody>\n",
       "    <tr>\n",
       "      <th>0</th>\n",
       "      <td>1</td>\n",
       "      <td>7.600902</td>\n",
       "      <td>0.365124</td>\n",
       "      <td>150.0 horsepower</td>\n",
       "      <td>150.0</td>\n",
       "      <td>16</td>\n",
       "      <td>2</td>\n",
       "      <td>8.0</td>\n",
       "      <td>(0, 6)\\t0.6452572857754033\\n  (0, 2)\\t0.7639...</td>\n",
       "      <td>3</td>\n",
       "      <td>...</td>\n",
       "      <td>0</td>\n",
       "      <td>1</td>\n",
       "      <td>0</td>\n",
       "      <td>10.021271</td>\n",
       "      <td>10</td>\n",
       "      <td>2018</td>\n",
       "      <td>higth</td>\n",
       "      <td>1</td>\n",
       "      <td>(21400.0, 28200.0]</td>\n",
       "      <td>High</td>\n",
       "    </tr>\n",
       "    <tr>\n",
       "      <th>1</th>\n",
       "      <td>0</td>\n",
       "      <td>7.605890</td>\n",
       "      <td>0.626242</td>\n",
       "      <td>100.0 horsepower</td>\n",
       "      <td>100.0</td>\n",
       "      <td>16</td>\n",
       "      <td>2</td>\n",
       "      <td>8.0</td>\n",
       "      <td>(0, 6)\\t0.6452572857754033\\n  (0, 2)\\t0.7639...</td>\n",
       "      <td>0</td>\n",
       "      <td>...</td>\n",
       "      <td>0</td>\n",
       "      <td>0</td>\n",
       "      <td>0</td>\n",
       "      <td>10.043249</td>\n",
       "      <td>10</td>\n",
       "      <td>2018</td>\n",
       "      <td>higth</td>\n",
       "      <td>1</td>\n",
       "      <td>(21400.0, 28200.0]</td>\n",
       "      <td>High</td>\n",
       "    </tr>\n",
       "    <tr>\n",
       "      <th>2</th>\n",
       "      <td>0</td>\n",
       "      <td>7.608374</td>\n",
       "      <td>0.798128</td>\n",
       "      <td>250.0 horsepower</td>\n",
       "      <td>250.0</td>\n",
       "      <td>16</td>\n",
       "      <td>2</td>\n",
       "      <td>8.0</td>\n",
       "      <td>(0, 6)\\t0.6452572857754033\\n  (0, 2)\\t0.7639...</td>\n",
       "      <td>1</td>\n",
       "      <td>...</td>\n",
       "      <td>0</td>\n",
       "      <td>0</td>\n",
       "      <td>0</td>\n",
       "      <td>10.165852</td>\n",
       "      <td>7</td>\n",
       "      <td>2018</td>\n",
       "      <td>higth</td>\n",
       "      <td>1</td>\n",
       "      <td>(21400.0, 28200.0]</td>\n",
       "      <td>High</td>\n",
       "    </tr>\n",
       "    <tr>\n",
       "      <th>3</th>\n",
       "      <td>0</td>\n",
       "      <td>7.606387</td>\n",
       "      <td>0.049142</td>\n",
       "      <td>100.5 horsepower</td>\n",
       "      <td>100.5</td>\n",
       "      <td>16</td>\n",
       "      <td>2</td>\n",
       "      <td>8.0</td>\n",
       "      <td>(0, 6)\\t0.6452572857754033\\n  (0, 2)\\t0.7639...</td>\n",
       "      <td>3</td>\n",
       "      <td>...</td>\n",
       "      <td>0</td>\n",
       "      <td>1</td>\n",
       "      <td>0</td>\n",
       "      <td>13.371642</td>\n",
       "      <td>11</td>\n",
       "      <td>2018</td>\n",
       "      <td>higth</td>\n",
       "      <td>1</td>\n",
       "      <td>(14600.0, 21400.0]</td>\n",
       "      <td>Medium</td>\n",
       "    </tr>\n",
       "    <tr>\n",
       "      <th>4</th>\n",
       "      <td>0</td>\n",
       "      <td>7.610358</td>\n",
       "      <td>1.470982</td>\n",
       "      <td>50.0 horsepower</td>\n",
       "      <td>50.0</td>\n",
       "      <td>15</td>\n",
       "      <td>2</td>\n",
       "      <td>7.5</td>\n",
       "      <td>(0, 6)\\t0.6452572857754033\\n  (0, 2)\\t0.7639...</td>\n",
       "      <td>2</td>\n",
       "      <td>...</td>\n",
       "      <td>1</td>\n",
       "      <td>0</td>\n",
       "      <td>0</td>\n",
       "      <td>10.463103</td>\n",
       "      <td>6</td>\n",
       "      <td>2018</td>\n",
       "      <td>higth</td>\n",
       "      <td>1</td>\n",
       "      <td>(28200.0, 35000.0]</td>\n",
       "      <td>Very high</td>\n",
       "    </tr>\n",
       "    <tr>\n",
       "      <th>5</th>\n",
       "      <td>0</td>\n",
       "      <td>7.603399</td>\n",
       "      <td>-0.263093</td>\n",
       "      <td>40.0 horsepower</td>\n",
       "      <td>40.0</td>\n",
       "      <td>15</td>\n",
       "      <td>2</td>\n",
       "      <td>7.5</td>\n",
       "      <td>(0, 6)\\t0.6452572857754033\\n  (0, 2)\\t0.7639...</td>\n",
       "      <td>0</td>\n",
       "      <td>...</td>\n",
       "      <td>0</td>\n",
       "      <td>0</td>\n",
       "      <td>0</td>\n",
       "      <td>9.472705</td>\n",
       "      <td>1</td>\n",
       "      <td>2019</td>\n",
       "      <td>higth</td>\n",
       "      <td>1</td>\n",
       "      <td>(14600.0, 21400.0]</td>\n",
       "      <td>Medium</td>\n",
       "    </tr>\n",
       "    <tr>\n",
       "      <th>6</th>\n",
       "      <td>1</td>\n",
       "      <td>7.600402</td>\n",
       "      <td>-1.693230</td>\n",
       "      <td>50.5 horsepower</td>\n",
       "      <td>50.5</td>\n",
       "      <td>15</td>\n",
       "      <td>2</td>\n",
       "      <td>7.5</td>\n",
       "      <td>(0, 6)\\t0.6452572857754033\\n  (0, 2)\\t0.7639...</td>\n",
       "      <td>3</td>\n",
       "      <td>...</td>\n",
       "      <td>0</td>\n",
       "      <td>1</td>\n",
       "      <td>0</td>\n",
       "      <td>7.003065</td>\n",
       "      <td>7</td>\n",
       "      <td>2019</td>\n",
       "      <td>low</td>\n",
       "      <td>0</td>\n",
       "      <td>(966.0, 7800.0]</td>\n",
       "      <td>Very low</td>\n",
       "    </tr>\n",
       "    <tr>\n",
       "      <th>7</th>\n",
       "      <td>1</td>\n",
       "      <td>7.598399</td>\n",
       "      <td>-1.630415</td>\n",
       "      <td>45.0 horsepower</td>\n",
       "      <td>45.0</td>\n",
       "      <td>15</td>\n",
       "      <td>2</td>\n",
       "      <td>7.5</td>\n",
       "      <td>(0, 6)\\t0.6452572857754033\\n  (0, 2)\\t0.7639...</td>\n",
       "      <td>4</td>\n",
       "      <td>...</td>\n",
       "      <td>0</td>\n",
       "      <td>0</td>\n",
       "      <td>1</td>\n",
       "      <td>7.170120</td>\n",
       "      <td>7</td>\n",
       "      <td>2019</td>\n",
       "      <td>low</td>\n",
       "      <td>0</td>\n",
       "      <td>(966.0, 7800.0]</td>\n",
       "      <td>Very low</td>\n",
       "    </tr>\n",
       "    <tr>\n",
       "      <th>8</th>\n",
       "      <td>1</td>\n",
       "      <td>7.603399</td>\n",
       "      <td>0.277120</td>\n",
       "      <td>45.0 horsepower</td>\n",
       "      <td>45.0</td>\n",
       "      <td>15</td>\n",
       "      <td>2</td>\n",
       "      <td>7.5</td>\n",
       "      <td>(0, 6)\\t0.6452572857754033\\n  (0, 2)\\t0.7639...</td>\n",
       "      <td>3</td>\n",
       "      <td>...</td>\n",
       "      <td>0</td>\n",
       "      <td>1</td>\n",
       "      <td>0</td>\n",
       "      <td>15.427046</td>\n",
       "      <td>10</td>\n",
       "      <td>2018</td>\n",
       "      <td>higth</td>\n",
       "      <td>1</td>\n",
       "      <td>(14600.0, 21400.0]</td>\n",
       "      <td>Medium</td>\n",
       "    </tr>\n",
       "  </tbody>\n",
       "</table>\n",
       "<p>9 rows × 22 columns</p>\n",
       "</div>"
      ],
      "text/plain": [
       "   Label  log_Year  Price1_LG      Engine_clean  Engine_hp  char_cnt  \\\n",
       "0      1  7.600902   0.365124  150.0 horsepower      150.0        16   \n",
       "1      0  7.605890   0.626242  100.0 horsepower      100.0        16   \n",
       "2      0  7.608374   0.798128  250.0 horsepower      250.0        16   \n",
       "3      0  7.606387   0.049142  100.5 horsepower      100.5        16   \n",
       "4      0  7.610358   1.470982   50.0 horsepower       50.0        15   \n",
       "5      0  7.603399  -0.263093   40.0 horsepower       40.0        15   \n",
       "6      1  7.600402  -1.693230   50.5 horsepower       50.5        15   \n",
       "7      1  7.598399  -1.630415   45.0 horsepower       45.0        15   \n",
       "8      1  7.603399   0.277120   45.0 horsepower       45.0        15   \n",
       "\n",
       "   word_cnt  avg_word_length  \\\n",
       "0         2              8.0   \n",
       "1         2              8.0   \n",
       "2         2              8.0   \n",
       "3         2              8.0   \n",
       "4         2              7.5   \n",
       "5         2              7.5   \n",
       "6         2              7.5   \n",
       "7         2              7.5   \n",
       "8         2              7.5   \n",
       "\n",
       "                                    Brand_text_tfidf  Color_enc  \\\n",
       "0    (0, 6)\\t0.6452572857754033\\n  (0, 2)\\t0.7639...          3   \n",
       "1    (0, 6)\\t0.6452572857754033\\n  (0, 2)\\t0.7639...          0   \n",
       "2    (0, 6)\\t0.6452572857754033\\n  (0, 2)\\t0.7639...          1   \n",
       "3    (0, 6)\\t0.6452572857754033\\n  (0, 2)\\t0.7639...          3   \n",
       "4    (0, 6)\\t0.6452572857754033\\n  (0, 2)\\t0.7639...          2   \n",
       "5    (0, 6)\\t0.6452572857754033\\n  (0, 2)\\t0.7639...          0   \n",
       "6    (0, 6)\\t0.6452572857754033\\n  (0, 2)\\t0.7639...          3   \n",
       "7    (0, 6)\\t0.6452572857754033\\n  (0, 2)\\t0.7639...          4   \n",
       "8    (0, 6)\\t0.6452572857754033\\n  (0, 2)\\t0.7639...          3   \n",
       "\n",
       "        ...        missing  red  yellow  Price_average_log  Date_month  \\\n",
       "0       ...              0    1       0          10.021271          10   \n",
       "1       ...              0    0       0          10.043249          10   \n",
       "2       ...              0    0       0          10.165852           7   \n",
       "3       ...              0    1       0          13.371642          11   \n",
       "4       ...              1    0       0          10.463103           6   \n",
       "5       ...              0    0       0           9.472705           1   \n",
       "6       ...              0    1       0           7.003065           7   \n",
       "7       ...              0    0       1           7.170120           7   \n",
       "8       ...              0    1       0          15.427046          10   \n",
       "\n",
       "   Date_year  Price_Categorizing  Price_Binarizing       Price_Binning  \\\n",
       "0       2018               higth                 1  (21400.0, 28200.0]   \n",
       "1       2018               higth                 1  (21400.0, 28200.0]   \n",
       "2       2018               higth                 1  (21400.0, 28200.0]   \n",
       "3       2018               higth                 1  (14600.0, 21400.0]   \n",
       "4       2018               higth                 1  (28200.0, 35000.0]   \n",
       "5       2019               higth                 1  (14600.0, 21400.0]   \n",
       "6       2019                 low                 0     (966.0, 7800.0]   \n",
       "7       2019                 low                 0     (966.0, 7800.0]   \n",
       "8       2018               higth                 1  (14600.0, 21400.0]   \n",
       "\n",
       "   Price_Binning2  \n",
       "0            High  \n",
       "1            High  \n",
       "2            High  \n",
       "3          Medium  \n",
       "4       Very high  \n",
       "5          Medium  \n",
       "6        Very low  \n",
       "7        Very low  \n",
       "8          Medium  \n",
       "\n",
       "[9 rows x 22 columns]"
      ]
     },
     "execution_count": 51,
     "metadata": {},
     "output_type": "execute_result"
    }
   ],
   "source": [
    "# Create a list of redundant column names to drop\n",
    "to_drop = [\n",
    "    'Brand', 'Price1', 'Price2', 'Price_average', 'Engine', 'Color', 'Year',\n",
    "    'Date', 'Date_converted'\n",
    "]\n",
    "\n",
    "# Drop those columns from the dataset\n",
    "df_subset_1 = df.drop(to_drop, axis=1)\n",
    "\n",
    "# Print out the head of the new dataset\n",
    "df_subset_1"
   ]
  },
  {
   "cell_type": "markdown",
   "metadata": {},
   "source": [
    "### Correlated columns"
   ]
  },
  {
   "cell_type": "code",
   "execution_count": 52,
   "metadata": {
    "ExecuteTime": {
     "end_time": "2021-08-19T10:23:56.024659Z",
     "start_time": "2021-08-19T10:23:56.003419Z"
    }
   },
   "outputs": [
    {
     "data": {
      "text/html": [
       "<div>\n",
       "<style scoped>\n",
       "    .dataframe tbody tr th:only-of-type {\n",
       "        vertical-align: middle;\n",
       "    }\n",
       "\n",
       "    .dataframe tbody tr th {\n",
       "        vertical-align: top;\n",
       "    }\n",
       "\n",
       "    .dataframe thead th {\n",
       "        text-align: right;\n",
       "    }\n",
       "</style>\n",
       "<table border=\"1\" class=\"dataframe\">\n",
       "  <thead>\n",
       "    <tr style=\"text-align: right;\">\n",
       "      <th></th>\n",
       "      <th>Label</th>\n",
       "      <th>log_Year</th>\n",
       "      <th>Price1_LG</th>\n",
       "      <th>Engine_hp</th>\n",
       "      <th>char_cnt</th>\n",
       "      <th>word_cnt</th>\n",
       "      <th>avg_word_length</th>\n",
       "      <th>Color_enc</th>\n",
       "      <th>blue</th>\n",
       "      <th>green</th>\n",
       "      <th>missing</th>\n",
       "      <th>red</th>\n",
       "      <th>yellow</th>\n",
       "      <th>Price_average_log</th>\n",
       "      <th>Date_month</th>\n",
       "      <th>Date_year</th>\n",
       "      <th>Price_Binarizing</th>\n",
       "    </tr>\n",
       "  </thead>\n",
       "  <tbody>\n",
       "    <tr>\n",
       "      <th>Label</th>\n",
       "      <td>1.000000</td>\n",
       "      <td>-0.820046</td>\n",
       "      <td>-0.599580</td>\n",
       "      <td>-0.267538</td>\n",
       "      <td>-0.350000</td>\n",
       "      <td>NaN</td>\n",
       "      <td>-0.350000</td>\n",
       "      <td>0.743613</td>\n",
       "      <td>-0.478091</td>\n",
       "      <td>-0.316228</td>\n",
       "      <td>-0.316228</td>\n",
       "      <td>0.550000</td>\n",
       "      <td>0.395285</td>\n",
       "      <td>-0.157223</td>\n",
       "      <td>0.256495</td>\n",
       "      <td>0.316228</td>\n",
       "      <td>-0.597614</td>\n",
       "    </tr>\n",
       "    <tr>\n",
       "      <th>log_Year</th>\n",
       "      <td>-0.820046</td>\n",
       "      <td>1.000000</td>\n",
       "      <td>0.847720</td>\n",
       "      <td>0.342480</td>\n",
       "      <td>0.295064</td>\n",
       "      <td>NaN</td>\n",
       "      <td>0.295064</td>\n",
       "      <td>-0.509286</td>\n",
       "      <td>0.068861</td>\n",
       "      <td>0.401963</td>\n",
       "      <td>0.591470</td>\n",
       "      <td>-0.337273</td>\n",
       "      <td>-0.551251</td>\n",
       "      <td>0.415550</td>\n",
       "      <td>0.003753</td>\n",
       "      <td>-0.656368</td>\n",
       "      <td>0.688724</td>\n",
       "    </tr>\n",
       "    <tr>\n",
       "      <th>Price1_LG</th>\n",
       "      <td>-0.599580</td>\n",
       "      <td>0.847720</td>\n",
       "      <td>1.000000</td>\n",
       "      <td>0.402166</td>\n",
       "      <td>0.411132</td>\n",
       "      <td>NaN</td>\n",
       "      <td>0.411132</td>\n",
       "      <td>-0.469396</td>\n",
       "      <td>0.097056</td>\n",
       "      <td>0.282181</td>\n",
       "      <td>0.520071</td>\n",
       "      <td>-0.224019</td>\n",
       "      <td>-0.576439</td>\n",
       "      <td>0.543915</td>\n",
       "      <td>0.157135</td>\n",
       "      <td>-0.845402</td>\n",
       "      <td>0.888281</td>\n",
       "    </tr>\n",
       "    <tr>\n",
       "      <th>Engine_hp</th>\n",
       "      <td>-0.267538</td>\n",
       "      <td>0.342480</td>\n",
       "      <td>0.402166</td>\n",
       "      <td>1.000000</td>\n",
       "      <td>0.784515</td>\n",
       "      <td>NaN</td>\n",
       "      <td>0.784515</td>\n",
       "      <td>-0.229382</td>\n",
       "      <td>-0.181180</td>\n",
       "      <td>0.846031</td>\n",
       "      <td>-0.227158</td>\n",
       "      <td>-0.079187</td>\n",
       "      <td>-0.253988</td>\n",
       "      <td>0.043914</td>\n",
       "      <td>0.257079</td>\n",
       "      <td>-0.506187</td>\n",
       "      <td>0.361684</td>\n",
       "    </tr>\n",
       "    <tr>\n",
       "      <th>char_cnt</th>\n",
       "      <td>-0.350000</td>\n",
       "      <td>0.295064</td>\n",
       "      <td>0.411132</td>\n",
       "      <td>0.784515</td>\n",
       "      <td>1.000000</td>\n",
       "      <td>NaN</td>\n",
       "      <td>1.000000</td>\n",
       "      <td>-0.235780</td>\n",
       "      <td>0.059761</td>\n",
       "      <td>0.395285</td>\n",
       "      <td>-0.316228</td>\n",
       "      <td>0.100000</td>\n",
       "      <td>-0.316228</td>\n",
       "      <td>0.195716</td>\n",
       "      <td>0.564288</td>\n",
       "      <td>-0.632456</td>\n",
       "      <td>0.478091</td>\n",
       "    </tr>\n",
       "    <tr>\n",
       "      <th>word_cnt</th>\n",
       "      <td>NaN</td>\n",
       "      <td>NaN</td>\n",
       "      <td>NaN</td>\n",
       "      <td>NaN</td>\n",
       "      <td>NaN</td>\n",
       "      <td>NaN</td>\n",
       "      <td>NaN</td>\n",
       "      <td>NaN</td>\n",
       "      <td>NaN</td>\n",
       "      <td>NaN</td>\n",
       "      <td>NaN</td>\n",
       "      <td>NaN</td>\n",
       "      <td>NaN</td>\n",
       "      <td>NaN</td>\n",
       "      <td>NaN</td>\n",
       "      <td>NaN</td>\n",
       "      <td>NaN</td>\n",
       "    </tr>\n",
       "    <tr>\n",
       "      <th>avg_word_length</th>\n",
       "      <td>-0.350000</td>\n",
       "      <td>0.295064</td>\n",
       "      <td>0.411132</td>\n",
       "      <td>0.784515</td>\n",
       "      <td>1.000000</td>\n",
       "      <td>NaN</td>\n",
       "      <td>1.000000</td>\n",
       "      <td>-0.235780</td>\n",
       "      <td>0.059761</td>\n",
       "      <td>0.395285</td>\n",
       "      <td>-0.316228</td>\n",
       "      <td>0.100000</td>\n",
       "      <td>-0.316228</td>\n",
       "      <td>0.195716</td>\n",
       "      <td>0.564288</td>\n",
       "      <td>-0.632456</td>\n",
       "      <td>0.478091</td>\n",
       "    </tr>\n",
       "    <tr>\n",
       "      <th>Color_enc</th>\n",
       "      <td>0.743613</td>\n",
       "      <td>-0.509286</td>\n",
       "      <td>-0.469396</td>\n",
       "      <td>-0.229382</td>\n",
       "      <td>-0.235780</td>\n",
       "      <td>NaN</td>\n",
       "      <td>-0.235780</td>\n",
       "      <td>1.000000</td>\n",
       "      <td>-0.823754</td>\n",
       "      <td>-0.286770</td>\n",
       "      <td>-0.028677</td>\n",
       "      <td>0.580381</td>\n",
       "      <td>0.487508</td>\n",
       "      <td>0.019839</td>\n",
       "      <td>0.427986</td>\n",
       "      <td>0.114708</td>\n",
       "      <td>-0.541944</td>\n",
       "    </tr>\n",
       "    <tr>\n",
       "      <th>blue</th>\n",
       "      <td>-0.478091</td>\n",
       "      <td>0.068861</td>\n",
       "      <td>0.097056</td>\n",
       "      <td>-0.181180</td>\n",
       "      <td>0.059761</td>\n",
       "      <td>NaN</td>\n",
       "      <td>0.059761</td>\n",
       "      <td>-0.823754</td>\n",
       "      <td>1.000000</td>\n",
       "      <td>-0.188982</td>\n",
       "      <td>-0.188982</td>\n",
       "      <td>-0.478091</td>\n",
       "      <td>-0.188982</td>\n",
       "      <td>-0.125200</td>\n",
       "      <td>-0.398541</td>\n",
       "      <td>0.188982</td>\n",
       "      <td>0.285714</td>\n",
       "    </tr>\n",
       "    <tr>\n",
       "      <th>green</th>\n",
       "      <td>-0.316228</td>\n",
       "      <td>0.401963</td>\n",
       "      <td>0.282181</td>\n",
       "      <td>0.846031</td>\n",
       "      <td>0.395285</td>\n",
       "      <td>NaN</td>\n",
       "      <td>0.395285</td>\n",
       "      <td>-0.286770</td>\n",
       "      <td>-0.188982</td>\n",
       "      <td>1.000000</td>\n",
       "      <td>-0.125000</td>\n",
       "      <td>-0.316228</td>\n",
       "      <td>-0.125000</td>\n",
       "      <td>-0.025630</td>\n",
       "      <td>-0.081111</td>\n",
       "      <td>-0.250000</td>\n",
       "      <td>0.188982</td>\n",
       "    </tr>\n",
       "    <tr>\n",
       "      <th>missing</th>\n",
       "      <td>-0.316228</td>\n",
       "      <td>0.591470</td>\n",
       "      <td>0.520071</td>\n",
       "      <td>-0.227158</td>\n",
       "      <td>-0.316228</td>\n",
       "      <td>NaN</td>\n",
       "      <td>-0.316228</td>\n",
       "      <td>-0.028677</td>\n",
       "      <td>-0.188982</td>\n",
       "      <td>-0.125000</td>\n",
       "      <td>1.000000</td>\n",
       "      <td>-0.316228</td>\n",
       "      <td>-0.125000</td>\n",
       "      <td>0.016043</td>\n",
       "      <td>-0.202777</td>\n",
       "      <td>-0.250000</td>\n",
       "      <td>0.188982</td>\n",
       "    </tr>\n",
       "    <tr>\n",
       "      <th>red</th>\n",
       "      <td>0.550000</td>\n",
       "      <td>-0.337273</td>\n",
       "      <td>-0.224019</td>\n",
       "      <td>-0.079187</td>\n",
       "      <td>0.100000</td>\n",
       "      <td>NaN</td>\n",
       "      <td>0.100000</td>\n",
       "      <td>0.580381</td>\n",
       "      <td>-0.478091</td>\n",
       "      <td>-0.316228</td>\n",
       "      <td>-0.316228</td>\n",
       "      <td>1.000000</td>\n",
       "      <td>-0.316228</td>\n",
       "      <td>0.392646</td>\n",
       "      <td>0.564288</td>\n",
       "      <td>-0.158114</td>\n",
       "      <td>-0.059761</td>\n",
       "    </tr>\n",
       "    <tr>\n",
       "      <th>yellow</th>\n",
       "      <td>0.395285</td>\n",
       "      <td>-0.551251</td>\n",
       "      <td>-0.576439</td>\n",
       "      <td>-0.253988</td>\n",
       "      <td>-0.316228</td>\n",
       "      <td>NaN</td>\n",
       "      <td>-0.316228</td>\n",
       "      <td>0.487508</td>\n",
       "      <td>-0.188982</td>\n",
       "      <td>-0.125000</td>\n",
       "      <td>-0.125000</td>\n",
       "      <td>-0.316228</td>\n",
       "      <td>1.000000</td>\n",
       "      <td>-0.445616</td>\n",
       "      <td>-0.081111</td>\n",
       "      <td>0.500000</td>\n",
       "      <td>-0.661438</td>\n",
       "    </tr>\n",
       "    <tr>\n",
       "      <th>Price_average_log</th>\n",
       "      <td>-0.157223</td>\n",
       "      <td>0.415550</td>\n",
       "      <td>0.543915</td>\n",
       "      <td>0.043914</td>\n",
       "      <td>0.195716</td>\n",
       "      <td>NaN</td>\n",
       "      <td>0.195716</td>\n",
       "      <td>0.019839</td>\n",
       "      <td>-0.125200</td>\n",
       "      <td>-0.025630</td>\n",
       "      <td>0.016043</td>\n",
       "      <td>0.392646</td>\n",
       "      <td>-0.445616</td>\n",
       "      <td>1.000000</td>\n",
       "      <td>0.463492</td>\n",
       "      <td>-0.691638</td>\n",
       "      <td>0.691411</td>\n",
       "    </tr>\n",
       "    <tr>\n",
       "      <th>Date_month</th>\n",
       "      <td>0.256495</td>\n",
       "      <td>0.003753</td>\n",
       "      <td>0.157135</td>\n",
       "      <td>0.257079</td>\n",
       "      <td>0.564288</td>\n",
       "      <td>NaN</td>\n",
       "      <td>0.564288</td>\n",
       "      <td>0.427986</td>\n",
       "      <td>-0.398541</td>\n",
       "      <td>-0.081111</td>\n",
       "      <td>-0.202777</td>\n",
       "      <td>0.564288</td>\n",
       "      <td>-0.081111</td>\n",
       "      <td>0.463492</td>\n",
       "      <td>1.000000</td>\n",
       "      <td>-0.648886</td>\n",
       "      <td>0.122628</td>\n",
       "    </tr>\n",
       "    <tr>\n",
       "      <th>Date_year</th>\n",
       "      <td>0.316228</td>\n",
       "      <td>-0.656368</td>\n",
       "      <td>-0.845402</td>\n",
       "      <td>-0.506187</td>\n",
       "      <td>-0.632456</td>\n",
       "      <td>NaN</td>\n",
       "      <td>-0.632456</td>\n",
       "      <td>0.114708</td>\n",
       "      <td>0.188982</td>\n",
       "      <td>-0.250000</td>\n",
       "      <td>-0.250000</td>\n",
       "      <td>-0.158114</td>\n",
       "      <td>0.500000</td>\n",
       "      <td>-0.691638</td>\n",
       "      <td>-0.648886</td>\n",
       "      <td>1.000000</td>\n",
       "      <td>-0.755929</td>\n",
       "    </tr>\n",
       "    <tr>\n",
       "      <th>Price_Binarizing</th>\n",
       "      <td>-0.597614</td>\n",
       "      <td>0.688724</td>\n",
       "      <td>0.888281</td>\n",
       "      <td>0.361684</td>\n",
       "      <td>0.478091</td>\n",
       "      <td>NaN</td>\n",
       "      <td>0.478091</td>\n",
       "      <td>-0.541944</td>\n",
       "      <td>0.285714</td>\n",
       "      <td>0.188982</td>\n",
       "      <td>0.188982</td>\n",
       "      <td>-0.059761</td>\n",
       "      <td>-0.661438</td>\n",
       "      <td>0.691411</td>\n",
       "      <td>0.122628</td>\n",
       "      <td>-0.755929</td>\n",
       "      <td>1.000000</td>\n",
       "    </tr>\n",
       "  </tbody>\n",
       "</table>\n",
       "</div>"
      ],
      "text/plain": [
       "                      Label  log_Year  Price1_LG  Engine_hp  char_cnt  \\\n",
       "Label              1.000000 -0.820046  -0.599580  -0.267538 -0.350000   \n",
       "log_Year          -0.820046  1.000000   0.847720   0.342480  0.295064   \n",
       "Price1_LG         -0.599580  0.847720   1.000000   0.402166  0.411132   \n",
       "Engine_hp         -0.267538  0.342480   0.402166   1.000000  0.784515   \n",
       "char_cnt          -0.350000  0.295064   0.411132   0.784515  1.000000   \n",
       "word_cnt                NaN       NaN        NaN        NaN       NaN   \n",
       "avg_word_length   -0.350000  0.295064   0.411132   0.784515  1.000000   \n",
       "Color_enc          0.743613 -0.509286  -0.469396  -0.229382 -0.235780   \n",
       "blue              -0.478091  0.068861   0.097056  -0.181180  0.059761   \n",
       "green             -0.316228  0.401963   0.282181   0.846031  0.395285   \n",
       "missing           -0.316228  0.591470   0.520071  -0.227158 -0.316228   \n",
       "red                0.550000 -0.337273  -0.224019  -0.079187  0.100000   \n",
       "yellow             0.395285 -0.551251  -0.576439  -0.253988 -0.316228   \n",
       "Price_average_log -0.157223  0.415550   0.543915   0.043914  0.195716   \n",
       "Date_month         0.256495  0.003753   0.157135   0.257079  0.564288   \n",
       "Date_year          0.316228 -0.656368  -0.845402  -0.506187 -0.632456   \n",
       "Price_Binarizing  -0.597614  0.688724   0.888281   0.361684  0.478091   \n",
       "\n",
       "                   word_cnt  avg_word_length  Color_enc      blue     green  \\\n",
       "Label                   NaN        -0.350000   0.743613 -0.478091 -0.316228   \n",
       "log_Year                NaN         0.295064  -0.509286  0.068861  0.401963   \n",
       "Price1_LG               NaN         0.411132  -0.469396  0.097056  0.282181   \n",
       "Engine_hp               NaN         0.784515  -0.229382 -0.181180  0.846031   \n",
       "char_cnt                NaN         1.000000  -0.235780  0.059761  0.395285   \n",
       "word_cnt                NaN              NaN        NaN       NaN       NaN   \n",
       "avg_word_length         NaN         1.000000  -0.235780  0.059761  0.395285   \n",
       "Color_enc               NaN        -0.235780   1.000000 -0.823754 -0.286770   \n",
       "blue                    NaN         0.059761  -0.823754  1.000000 -0.188982   \n",
       "green                   NaN         0.395285  -0.286770 -0.188982  1.000000   \n",
       "missing                 NaN        -0.316228  -0.028677 -0.188982 -0.125000   \n",
       "red                     NaN         0.100000   0.580381 -0.478091 -0.316228   \n",
       "yellow                  NaN        -0.316228   0.487508 -0.188982 -0.125000   \n",
       "Price_average_log       NaN         0.195716   0.019839 -0.125200 -0.025630   \n",
       "Date_month              NaN         0.564288   0.427986 -0.398541 -0.081111   \n",
       "Date_year               NaN        -0.632456   0.114708  0.188982 -0.250000   \n",
       "Price_Binarizing        NaN         0.478091  -0.541944  0.285714  0.188982   \n",
       "\n",
       "                    missing       red    yellow  Price_average_log  \\\n",
       "Label             -0.316228  0.550000  0.395285          -0.157223   \n",
       "log_Year           0.591470 -0.337273 -0.551251           0.415550   \n",
       "Price1_LG          0.520071 -0.224019 -0.576439           0.543915   \n",
       "Engine_hp         -0.227158 -0.079187 -0.253988           0.043914   \n",
       "char_cnt          -0.316228  0.100000 -0.316228           0.195716   \n",
       "word_cnt                NaN       NaN       NaN                NaN   \n",
       "avg_word_length   -0.316228  0.100000 -0.316228           0.195716   \n",
       "Color_enc         -0.028677  0.580381  0.487508           0.019839   \n",
       "blue              -0.188982 -0.478091 -0.188982          -0.125200   \n",
       "green             -0.125000 -0.316228 -0.125000          -0.025630   \n",
       "missing            1.000000 -0.316228 -0.125000           0.016043   \n",
       "red               -0.316228  1.000000 -0.316228           0.392646   \n",
       "yellow            -0.125000 -0.316228  1.000000          -0.445616   \n",
       "Price_average_log  0.016043  0.392646 -0.445616           1.000000   \n",
       "Date_month        -0.202777  0.564288 -0.081111           0.463492   \n",
       "Date_year         -0.250000 -0.158114  0.500000          -0.691638   \n",
       "Price_Binarizing   0.188982 -0.059761 -0.661438           0.691411   \n",
       "\n",
       "                   Date_month  Date_year  Price_Binarizing  \n",
       "Label                0.256495   0.316228         -0.597614  \n",
       "log_Year             0.003753  -0.656368          0.688724  \n",
       "Price1_LG            0.157135  -0.845402          0.888281  \n",
       "Engine_hp            0.257079  -0.506187          0.361684  \n",
       "char_cnt             0.564288  -0.632456          0.478091  \n",
       "word_cnt                  NaN        NaN               NaN  \n",
       "avg_word_length      0.564288  -0.632456          0.478091  \n",
       "Color_enc            0.427986   0.114708         -0.541944  \n",
       "blue                -0.398541   0.188982          0.285714  \n",
       "green               -0.081111  -0.250000          0.188982  \n",
       "missing             -0.202777  -0.250000          0.188982  \n",
       "red                  0.564288  -0.158114         -0.059761  \n",
       "yellow              -0.081111   0.500000         -0.661438  \n",
       "Price_average_log    0.463492  -0.691638          0.691411  \n",
       "Date_month           1.000000  -0.648886          0.122628  \n",
       "Date_year           -0.648886   1.000000         -0.755929  \n",
       "Price_Binarizing     0.122628  -0.755929          1.000000  "
      ]
     },
     "execution_count": 52,
     "metadata": {},
     "output_type": "execute_result"
    }
   ],
   "source": [
    "# Print out the column correlations of the dataset\n",
    "df_subset_1.corr()"
   ]
  },
  {
   "cell_type": "code",
   "execution_count": 53,
   "metadata": {
    "ExecuteTime": {
     "end_time": "2021-08-19T10:23:56.045979Z",
     "start_time": "2021-08-19T10:23:56.026164Z"
    }
   },
   "outputs": [
    {
     "data": {
      "text/html": [
       "<div>\n",
       "<style scoped>\n",
       "    .dataframe tbody tr th:only-of-type {\n",
       "        vertical-align: middle;\n",
       "    }\n",
       "\n",
       "    .dataframe tbody tr th {\n",
       "        vertical-align: top;\n",
       "    }\n",
       "\n",
       "    .dataframe thead th {\n",
       "        text-align: right;\n",
       "    }\n",
       "</style>\n",
       "<table border=\"1\" class=\"dataframe\">\n",
       "  <thead>\n",
       "    <tr style=\"text-align: right;\">\n",
       "      <th></th>\n",
       "      <th>Label</th>\n",
       "      <th>Price1_LG</th>\n",
       "      <th>Engine_hp</th>\n",
       "      <th>char_cnt</th>\n",
       "      <th>word_cnt</th>\n",
       "      <th>avg_word_length</th>\n",
       "      <th>Color_enc</th>\n",
       "      <th>blue</th>\n",
       "      <th>green</th>\n",
       "      <th>missing</th>\n",
       "      <th>red</th>\n",
       "      <th>yellow</th>\n",
       "      <th>Date_month</th>\n",
       "      <th>Date_year</th>\n",
       "      <th>Price_Binarizing</th>\n",
       "    </tr>\n",
       "  </thead>\n",
       "  <tbody>\n",
       "    <tr>\n",
       "      <th>Label</th>\n",
       "      <td>1.000000</td>\n",
       "      <td>-0.599580</td>\n",
       "      <td>-0.267538</td>\n",
       "      <td>-0.350000</td>\n",
       "      <td>NaN</td>\n",
       "      <td>-0.350000</td>\n",
       "      <td>0.743613</td>\n",
       "      <td>-0.478091</td>\n",
       "      <td>-0.316228</td>\n",
       "      <td>-0.316228</td>\n",
       "      <td>0.550000</td>\n",
       "      <td>0.395285</td>\n",
       "      <td>0.256495</td>\n",
       "      <td>0.316228</td>\n",
       "      <td>-0.597614</td>\n",
       "    </tr>\n",
       "    <tr>\n",
       "      <th>Price1_LG</th>\n",
       "      <td>-0.599580</td>\n",
       "      <td>1.000000</td>\n",
       "      <td>0.402166</td>\n",
       "      <td>0.411132</td>\n",
       "      <td>NaN</td>\n",
       "      <td>0.411132</td>\n",
       "      <td>-0.469396</td>\n",
       "      <td>0.097056</td>\n",
       "      <td>0.282181</td>\n",
       "      <td>0.520071</td>\n",
       "      <td>-0.224019</td>\n",
       "      <td>-0.576439</td>\n",
       "      <td>0.157135</td>\n",
       "      <td>-0.845402</td>\n",
       "      <td>0.888281</td>\n",
       "    </tr>\n",
       "    <tr>\n",
       "      <th>Engine_hp</th>\n",
       "      <td>-0.267538</td>\n",
       "      <td>0.402166</td>\n",
       "      <td>1.000000</td>\n",
       "      <td>0.784515</td>\n",
       "      <td>NaN</td>\n",
       "      <td>0.784515</td>\n",
       "      <td>-0.229382</td>\n",
       "      <td>-0.181180</td>\n",
       "      <td>0.846031</td>\n",
       "      <td>-0.227158</td>\n",
       "      <td>-0.079187</td>\n",
       "      <td>-0.253988</td>\n",
       "      <td>0.257079</td>\n",
       "      <td>-0.506187</td>\n",
       "      <td>0.361684</td>\n",
       "    </tr>\n",
       "    <tr>\n",
       "      <th>char_cnt</th>\n",
       "      <td>-0.350000</td>\n",
       "      <td>0.411132</td>\n",
       "      <td>0.784515</td>\n",
       "      <td>1.000000</td>\n",
       "      <td>NaN</td>\n",
       "      <td>1.000000</td>\n",
       "      <td>-0.235780</td>\n",
       "      <td>0.059761</td>\n",
       "      <td>0.395285</td>\n",
       "      <td>-0.316228</td>\n",
       "      <td>0.100000</td>\n",
       "      <td>-0.316228</td>\n",
       "      <td>0.564288</td>\n",
       "      <td>-0.632456</td>\n",
       "      <td>0.478091</td>\n",
       "    </tr>\n",
       "    <tr>\n",
       "      <th>word_cnt</th>\n",
       "      <td>NaN</td>\n",
       "      <td>NaN</td>\n",
       "      <td>NaN</td>\n",
       "      <td>NaN</td>\n",
       "      <td>NaN</td>\n",
       "      <td>NaN</td>\n",
       "      <td>NaN</td>\n",
       "      <td>NaN</td>\n",
       "      <td>NaN</td>\n",
       "      <td>NaN</td>\n",
       "      <td>NaN</td>\n",
       "      <td>NaN</td>\n",
       "      <td>NaN</td>\n",
       "      <td>NaN</td>\n",
       "      <td>NaN</td>\n",
       "    </tr>\n",
       "    <tr>\n",
       "      <th>avg_word_length</th>\n",
       "      <td>-0.350000</td>\n",
       "      <td>0.411132</td>\n",
       "      <td>0.784515</td>\n",
       "      <td>1.000000</td>\n",
       "      <td>NaN</td>\n",
       "      <td>1.000000</td>\n",
       "      <td>-0.235780</td>\n",
       "      <td>0.059761</td>\n",
       "      <td>0.395285</td>\n",
       "      <td>-0.316228</td>\n",
       "      <td>0.100000</td>\n",
       "      <td>-0.316228</td>\n",
       "      <td>0.564288</td>\n",
       "      <td>-0.632456</td>\n",
       "      <td>0.478091</td>\n",
       "    </tr>\n",
       "    <tr>\n",
       "      <th>Color_enc</th>\n",
       "      <td>0.743613</td>\n",
       "      <td>-0.469396</td>\n",
       "      <td>-0.229382</td>\n",
       "      <td>-0.235780</td>\n",
       "      <td>NaN</td>\n",
       "      <td>-0.235780</td>\n",
       "      <td>1.000000</td>\n",
       "      <td>-0.823754</td>\n",
       "      <td>-0.286770</td>\n",
       "      <td>-0.028677</td>\n",
       "      <td>0.580381</td>\n",
       "      <td>0.487508</td>\n",
       "      <td>0.427986</td>\n",
       "      <td>0.114708</td>\n",
       "      <td>-0.541944</td>\n",
       "    </tr>\n",
       "    <tr>\n",
       "      <th>blue</th>\n",
       "      <td>-0.478091</td>\n",
       "      <td>0.097056</td>\n",
       "      <td>-0.181180</td>\n",
       "      <td>0.059761</td>\n",
       "      <td>NaN</td>\n",
       "      <td>0.059761</td>\n",
       "      <td>-0.823754</td>\n",
       "      <td>1.000000</td>\n",
       "      <td>-0.188982</td>\n",
       "      <td>-0.188982</td>\n",
       "      <td>-0.478091</td>\n",
       "      <td>-0.188982</td>\n",
       "      <td>-0.398541</td>\n",
       "      <td>0.188982</td>\n",
       "      <td>0.285714</td>\n",
       "    </tr>\n",
       "    <tr>\n",
       "      <th>green</th>\n",
       "      <td>-0.316228</td>\n",
       "      <td>0.282181</td>\n",
       "      <td>0.846031</td>\n",
       "      <td>0.395285</td>\n",
       "      <td>NaN</td>\n",
       "      <td>0.395285</td>\n",
       "      <td>-0.286770</td>\n",
       "      <td>-0.188982</td>\n",
       "      <td>1.000000</td>\n",
       "      <td>-0.125000</td>\n",
       "      <td>-0.316228</td>\n",
       "      <td>-0.125000</td>\n",
       "      <td>-0.081111</td>\n",
       "      <td>-0.250000</td>\n",
       "      <td>0.188982</td>\n",
       "    </tr>\n",
       "    <tr>\n",
       "      <th>missing</th>\n",
       "      <td>-0.316228</td>\n",
       "      <td>0.520071</td>\n",
       "      <td>-0.227158</td>\n",
       "      <td>-0.316228</td>\n",
       "      <td>NaN</td>\n",
       "      <td>-0.316228</td>\n",
       "      <td>-0.028677</td>\n",
       "      <td>-0.188982</td>\n",
       "      <td>-0.125000</td>\n",
       "      <td>1.000000</td>\n",
       "      <td>-0.316228</td>\n",
       "      <td>-0.125000</td>\n",
       "      <td>-0.202777</td>\n",
       "      <td>-0.250000</td>\n",
       "      <td>0.188982</td>\n",
       "    </tr>\n",
       "    <tr>\n",
       "      <th>red</th>\n",
       "      <td>0.550000</td>\n",
       "      <td>-0.224019</td>\n",
       "      <td>-0.079187</td>\n",
       "      <td>0.100000</td>\n",
       "      <td>NaN</td>\n",
       "      <td>0.100000</td>\n",
       "      <td>0.580381</td>\n",
       "      <td>-0.478091</td>\n",
       "      <td>-0.316228</td>\n",
       "      <td>-0.316228</td>\n",
       "      <td>1.000000</td>\n",
       "      <td>-0.316228</td>\n",
       "      <td>0.564288</td>\n",
       "      <td>-0.158114</td>\n",
       "      <td>-0.059761</td>\n",
       "    </tr>\n",
       "    <tr>\n",
       "      <th>yellow</th>\n",
       "      <td>0.395285</td>\n",
       "      <td>-0.576439</td>\n",
       "      <td>-0.253988</td>\n",
       "      <td>-0.316228</td>\n",
       "      <td>NaN</td>\n",
       "      <td>-0.316228</td>\n",
       "      <td>0.487508</td>\n",
       "      <td>-0.188982</td>\n",
       "      <td>-0.125000</td>\n",
       "      <td>-0.125000</td>\n",
       "      <td>-0.316228</td>\n",
       "      <td>1.000000</td>\n",
       "      <td>-0.081111</td>\n",
       "      <td>0.500000</td>\n",
       "      <td>-0.661438</td>\n",
       "    </tr>\n",
       "    <tr>\n",
       "      <th>Date_month</th>\n",
       "      <td>0.256495</td>\n",
       "      <td>0.157135</td>\n",
       "      <td>0.257079</td>\n",
       "      <td>0.564288</td>\n",
       "      <td>NaN</td>\n",
       "      <td>0.564288</td>\n",
       "      <td>0.427986</td>\n",
       "      <td>-0.398541</td>\n",
       "      <td>-0.081111</td>\n",
       "      <td>-0.202777</td>\n",
       "      <td>0.564288</td>\n",
       "      <td>-0.081111</td>\n",
       "      <td>1.000000</td>\n",
       "      <td>-0.648886</td>\n",
       "      <td>0.122628</td>\n",
       "    </tr>\n",
       "    <tr>\n",
       "      <th>Date_year</th>\n",
       "      <td>0.316228</td>\n",
       "      <td>-0.845402</td>\n",
       "      <td>-0.506187</td>\n",
       "      <td>-0.632456</td>\n",
       "      <td>NaN</td>\n",
       "      <td>-0.632456</td>\n",
       "      <td>0.114708</td>\n",
       "      <td>0.188982</td>\n",
       "      <td>-0.250000</td>\n",
       "      <td>-0.250000</td>\n",
       "      <td>-0.158114</td>\n",
       "      <td>0.500000</td>\n",
       "      <td>-0.648886</td>\n",
       "      <td>1.000000</td>\n",
       "      <td>-0.755929</td>\n",
       "    </tr>\n",
       "    <tr>\n",
       "      <th>Price_Binarizing</th>\n",
       "      <td>-0.597614</td>\n",
       "      <td>0.888281</td>\n",
       "      <td>0.361684</td>\n",
       "      <td>0.478091</td>\n",
       "      <td>NaN</td>\n",
       "      <td>0.478091</td>\n",
       "      <td>-0.541944</td>\n",
       "      <td>0.285714</td>\n",
       "      <td>0.188982</td>\n",
       "      <td>0.188982</td>\n",
       "      <td>-0.059761</td>\n",
       "      <td>-0.661438</td>\n",
       "      <td>0.122628</td>\n",
       "      <td>-0.755929</td>\n",
       "      <td>1.000000</td>\n",
       "    </tr>\n",
       "  </tbody>\n",
       "</table>\n",
       "</div>"
      ],
      "text/plain": [
       "                     Label  Price1_LG  Engine_hp  char_cnt  word_cnt  \\\n",
       "Label             1.000000  -0.599580  -0.267538 -0.350000       NaN   \n",
       "Price1_LG        -0.599580   1.000000   0.402166  0.411132       NaN   \n",
       "Engine_hp        -0.267538   0.402166   1.000000  0.784515       NaN   \n",
       "char_cnt         -0.350000   0.411132   0.784515  1.000000       NaN   \n",
       "word_cnt               NaN        NaN        NaN       NaN       NaN   \n",
       "avg_word_length  -0.350000   0.411132   0.784515  1.000000       NaN   \n",
       "Color_enc         0.743613  -0.469396  -0.229382 -0.235780       NaN   \n",
       "blue             -0.478091   0.097056  -0.181180  0.059761       NaN   \n",
       "green            -0.316228   0.282181   0.846031  0.395285       NaN   \n",
       "missing          -0.316228   0.520071  -0.227158 -0.316228       NaN   \n",
       "red               0.550000  -0.224019  -0.079187  0.100000       NaN   \n",
       "yellow            0.395285  -0.576439  -0.253988 -0.316228       NaN   \n",
       "Date_month        0.256495   0.157135   0.257079  0.564288       NaN   \n",
       "Date_year         0.316228  -0.845402  -0.506187 -0.632456       NaN   \n",
       "Price_Binarizing -0.597614   0.888281   0.361684  0.478091       NaN   \n",
       "\n",
       "                  avg_word_length  Color_enc      blue     green   missing  \\\n",
       "Label                   -0.350000   0.743613 -0.478091 -0.316228 -0.316228   \n",
       "Price1_LG                0.411132  -0.469396  0.097056  0.282181  0.520071   \n",
       "Engine_hp                0.784515  -0.229382 -0.181180  0.846031 -0.227158   \n",
       "char_cnt                 1.000000  -0.235780  0.059761  0.395285 -0.316228   \n",
       "word_cnt                      NaN        NaN       NaN       NaN       NaN   \n",
       "avg_word_length          1.000000  -0.235780  0.059761  0.395285 -0.316228   \n",
       "Color_enc               -0.235780   1.000000 -0.823754 -0.286770 -0.028677   \n",
       "blue                     0.059761  -0.823754  1.000000 -0.188982 -0.188982   \n",
       "green                    0.395285  -0.286770 -0.188982  1.000000 -0.125000   \n",
       "missing                 -0.316228  -0.028677 -0.188982 -0.125000  1.000000   \n",
       "red                      0.100000   0.580381 -0.478091 -0.316228 -0.316228   \n",
       "yellow                  -0.316228   0.487508 -0.188982 -0.125000 -0.125000   \n",
       "Date_month               0.564288   0.427986 -0.398541 -0.081111 -0.202777   \n",
       "Date_year               -0.632456   0.114708  0.188982 -0.250000 -0.250000   \n",
       "Price_Binarizing         0.478091  -0.541944  0.285714  0.188982  0.188982   \n",
       "\n",
       "                       red    yellow  Date_month  Date_year  Price_Binarizing  \n",
       "Label             0.550000  0.395285    0.256495   0.316228         -0.597614  \n",
       "Price1_LG        -0.224019 -0.576439    0.157135  -0.845402          0.888281  \n",
       "Engine_hp        -0.079187 -0.253988    0.257079  -0.506187          0.361684  \n",
       "char_cnt          0.100000 -0.316228    0.564288  -0.632456          0.478091  \n",
       "word_cnt               NaN       NaN         NaN        NaN               NaN  \n",
       "avg_word_length   0.100000 -0.316228    0.564288  -0.632456          0.478091  \n",
       "Color_enc         0.580381  0.487508    0.427986   0.114708         -0.541944  \n",
       "blue             -0.478091 -0.188982   -0.398541   0.188982          0.285714  \n",
       "green            -0.316228 -0.125000   -0.081111  -0.250000          0.188982  \n",
       "missing          -0.316228 -0.125000   -0.202777  -0.250000          0.188982  \n",
       "red               1.000000 -0.316228    0.564288  -0.158114         -0.059761  \n",
       "yellow           -0.316228  1.000000   -0.081111   0.500000         -0.661438  \n",
       "Date_month        0.564288 -0.081111    1.000000  -0.648886          0.122628  \n",
       "Date_year        -0.158114  0.500000   -0.648886   1.000000         -0.755929  \n",
       "Price_Binarizing -0.059761 -0.661438    0.122628  -0.755929          1.000000  "
      ]
     },
     "execution_count": 53,
     "metadata": {},
     "output_type": "execute_result"
    }
   ],
   "source": [
    "# Take a minute to find the column where\n",
    "# the correlation value is greater than 0.75 at least twice\n",
    "to_drop = ['log_Year', 'Price_average_log']\n",
    "\n",
    "# Drop that column from the DataFrame\n",
    "df_subset_2 = df_subset_1.drop(to_drop, axis=1)\n",
    "\n",
    "# Print out the column correlations of the current dataset\n",
    "df_subset_2.corr()"
   ]
  },
  {
   "cell_type": "code",
   "execution_count": 54,
   "metadata": {
    "ExecuteTime": {
     "end_time": "2021-08-19T10:23:56.068107Z",
     "start_time": "2021-08-19T10:23:56.047489Z"
    }
   },
   "outputs": [
    {
     "data": {
      "text/html": [
       "<div>\n",
       "<style scoped>\n",
       "    .dataframe tbody tr th:only-of-type {\n",
       "        vertical-align: middle;\n",
       "    }\n",
       "\n",
       "    .dataframe tbody tr th {\n",
       "        vertical-align: top;\n",
       "    }\n",
       "\n",
       "    .dataframe thead th {\n",
       "        text-align: right;\n",
       "    }\n",
       "</style>\n",
       "<table border=\"1\" class=\"dataframe\">\n",
       "  <thead>\n",
       "    <tr style=\"text-align: right;\">\n",
       "      <th></th>\n",
       "      <th>Label</th>\n",
       "      <th>Price1_LG</th>\n",
       "      <th>Engine_clean</th>\n",
       "      <th>Engine_hp</th>\n",
       "      <th>char_cnt</th>\n",
       "      <th>word_cnt</th>\n",
       "      <th>avg_word_length</th>\n",
       "      <th>Brand_text_tfidf</th>\n",
       "      <th>Color_enc</th>\n",
       "      <th>blue</th>\n",
       "      <th>green</th>\n",
       "      <th>missing</th>\n",
       "      <th>red</th>\n",
       "      <th>yellow</th>\n",
       "      <th>Date_month</th>\n",
       "      <th>Date_year</th>\n",
       "      <th>Price_Categorizing</th>\n",
       "      <th>Price_Binarizing</th>\n",
       "      <th>Price_Binning</th>\n",
       "      <th>Price_Binning2</th>\n",
       "    </tr>\n",
       "  </thead>\n",
       "  <tbody>\n",
       "    <tr>\n",
       "      <th>0</th>\n",
       "      <td>1</td>\n",
       "      <td>0.365124</td>\n",
       "      <td>150.0 horsepower</td>\n",
       "      <td>150.0</td>\n",
       "      <td>16</td>\n",
       "      <td>2</td>\n",
       "      <td>8.0</td>\n",
       "      <td>(0, 6)\\t0.6452572857754033\\n  (0, 2)\\t0.7639...</td>\n",
       "      <td>3</td>\n",
       "      <td>0</td>\n",
       "      <td>0</td>\n",
       "      <td>0</td>\n",
       "      <td>1</td>\n",
       "      <td>0</td>\n",
       "      <td>10</td>\n",
       "      <td>2018</td>\n",
       "      <td>higth</td>\n",
       "      <td>1</td>\n",
       "      <td>(21400.0, 28200.0]</td>\n",
       "      <td>High</td>\n",
       "    </tr>\n",
       "    <tr>\n",
       "      <th>1</th>\n",
       "      <td>0</td>\n",
       "      <td>0.626242</td>\n",
       "      <td>100.0 horsepower</td>\n",
       "      <td>100.0</td>\n",
       "      <td>16</td>\n",
       "      <td>2</td>\n",
       "      <td>8.0</td>\n",
       "      <td>(0, 6)\\t0.6452572857754033\\n  (0, 2)\\t0.7639...</td>\n",
       "      <td>0</td>\n",
       "      <td>1</td>\n",
       "      <td>0</td>\n",
       "      <td>0</td>\n",
       "      <td>0</td>\n",
       "      <td>0</td>\n",
       "      <td>10</td>\n",
       "      <td>2018</td>\n",
       "      <td>higth</td>\n",
       "      <td>1</td>\n",
       "      <td>(21400.0, 28200.0]</td>\n",
       "      <td>High</td>\n",
       "    </tr>\n",
       "    <tr>\n",
       "      <th>2</th>\n",
       "      <td>0</td>\n",
       "      <td>0.798128</td>\n",
       "      <td>250.0 horsepower</td>\n",
       "      <td>250.0</td>\n",
       "      <td>16</td>\n",
       "      <td>2</td>\n",
       "      <td>8.0</td>\n",
       "      <td>(0, 6)\\t0.6452572857754033\\n  (0, 2)\\t0.7639...</td>\n",
       "      <td>1</td>\n",
       "      <td>0</td>\n",
       "      <td>1</td>\n",
       "      <td>0</td>\n",
       "      <td>0</td>\n",
       "      <td>0</td>\n",
       "      <td>7</td>\n",
       "      <td>2018</td>\n",
       "      <td>higth</td>\n",
       "      <td>1</td>\n",
       "      <td>(21400.0, 28200.0]</td>\n",
       "      <td>High</td>\n",
       "    </tr>\n",
       "    <tr>\n",
       "      <th>3</th>\n",
       "      <td>0</td>\n",
       "      <td>0.049142</td>\n",
       "      <td>100.5 horsepower</td>\n",
       "      <td>100.5</td>\n",
       "      <td>16</td>\n",
       "      <td>2</td>\n",
       "      <td>8.0</td>\n",
       "      <td>(0, 6)\\t0.6452572857754033\\n  (0, 2)\\t0.7639...</td>\n",
       "      <td>3</td>\n",
       "      <td>0</td>\n",
       "      <td>0</td>\n",
       "      <td>0</td>\n",
       "      <td>1</td>\n",
       "      <td>0</td>\n",
       "      <td>11</td>\n",
       "      <td>2018</td>\n",
       "      <td>higth</td>\n",
       "      <td>1</td>\n",
       "      <td>(14600.0, 21400.0]</td>\n",
       "      <td>Medium</td>\n",
       "    </tr>\n",
       "    <tr>\n",
       "      <th>4</th>\n",
       "      <td>0</td>\n",
       "      <td>1.470982</td>\n",
       "      <td>50.0 horsepower</td>\n",
       "      <td>50.0</td>\n",
       "      <td>15</td>\n",
       "      <td>2</td>\n",
       "      <td>7.5</td>\n",
       "      <td>(0, 6)\\t0.6452572857754033\\n  (0, 2)\\t0.7639...</td>\n",
       "      <td>2</td>\n",
       "      <td>0</td>\n",
       "      <td>0</td>\n",
       "      <td>1</td>\n",
       "      <td>0</td>\n",
       "      <td>0</td>\n",
       "      <td>6</td>\n",
       "      <td>2018</td>\n",
       "      <td>higth</td>\n",
       "      <td>1</td>\n",
       "      <td>(28200.0, 35000.0]</td>\n",
       "      <td>Very high</td>\n",
       "    </tr>\n",
       "    <tr>\n",
       "      <th>5</th>\n",
       "      <td>0</td>\n",
       "      <td>-0.263093</td>\n",
       "      <td>40.0 horsepower</td>\n",
       "      <td>40.0</td>\n",
       "      <td>15</td>\n",
       "      <td>2</td>\n",
       "      <td>7.5</td>\n",
       "      <td>(0, 6)\\t0.6452572857754033\\n  (0, 2)\\t0.7639...</td>\n",
       "      <td>0</td>\n",
       "      <td>1</td>\n",
       "      <td>0</td>\n",
       "      <td>0</td>\n",
       "      <td>0</td>\n",
       "      <td>0</td>\n",
       "      <td>1</td>\n",
       "      <td>2019</td>\n",
       "      <td>higth</td>\n",
       "      <td>1</td>\n",
       "      <td>(14600.0, 21400.0]</td>\n",
       "      <td>Medium</td>\n",
       "    </tr>\n",
       "    <tr>\n",
       "      <th>6</th>\n",
       "      <td>1</td>\n",
       "      <td>-1.693230</td>\n",
       "      <td>50.5 horsepower</td>\n",
       "      <td>50.5</td>\n",
       "      <td>15</td>\n",
       "      <td>2</td>\n",
       "      <td>7.5</td>\n",
       "      <td>(0, 6)\\t0.6452572857754033\\n  (0, 2)\\t0.7639...</td>\n",
       "      <td>3</td>\n",
       "      <td>0</td>\n",
       "      <td>0</td>\n",
       "      <td>0</td>\n",
       "      <td>1</td>\n",
       "      <td>0</td>\n",
       "      <td>7</td>\n",
       "      <td>2019</td>\n",
       "      <td>low</td>\n",
       "      <td>0</td>\n",
       "      <td>(966.0, 7800.0]</td>\n",
       "      <td>Very low</td>\n",
       "    </tr>\n",
       "    <tr>\n",
       "      <th>7</th>\n",
       "      <td>1</td>\n",
       "      <td>-1.630415</td>\n",
       "      <td>45.0 horsepower</td>\n",
       "      <td>45.0</td>\n",
       "      <td>15</td>\n",
       "      <td>2</td>\n",
       "      <td>7.5</td>\n",
       "      <td>(0, 6)\\t0.6452572857754033\\n  (0, 2)\\t0.7639...</td>\n",
       "      <td>4</td>\n",
       "      <td>0</td>\n",
       "      <td>0</td>\n",
       "      <td>0</td>\n",
       "      <td>0</td>\n",
       "      <td>1</td>\n",
       "      <td>7</td>\n",
       "      <td>2019</td>\n",
       "      <td>low</td>\n",
       "      <td>0</td>\n",
       "      <td>(966.0, 7800.0]</td>\n",
       "      <td>Very low</td>\n",
       "    </tr>\n",
       "    <tr>\n",
       "      <th>8</th>\n",
       "      <td>1</td>\n",
       "      <td>0.277120</td>\n",
       "      <td>45.0 horsepower</td>\n",
       "      <td>45.0</td>\n",
       "      <td>15</td>\n",
       "      <td>2</td>\n",
       "      <td>7.5</td>\n",
       "      <td>(0, 6)\\t0.6452572857754033\\n  (0, 2)\\t0.7639...</td>\n",
       "      <td>3</td>\n",
       "      <td>0</td>\n",
       "      <td>0</td>\n",
       "      <td>0</td>\n",
       "      <td>1</td>\n",
       "      <td>0</td>\n",
       "      <td>10</td>\n",
       "      <td>2018</td>\n",
       "      <td>higth</td>\n",
       "      <td>1</td>\n",
       "      <td>(14600.0, 21400.0]</td>\n",
       "      <td>Medium</td>\n",
       "    </tr>\n",
       "  </tbody>\n",
       "</table>\n",
       "</div>"
      ],
      "text/plain": [
       "   Label  Price1_LG      Engine_clean  Engine_hp  char_cnt  word_cnt  \\\n",
       "0      1   0.365124  150.0 horsepower      150.0        16         2   \n",
       "1      0   0.626242  100.0 horsepower      100.0        16         2   \n",
       "2      0   0.798128  250.0 horsepower      250.0        16         2   \n",
       "3      0   0.049142  100.5 horsepower      100.5        16         2   \n",
       "4      0   1.470982   50.0 horsepower       50.0        15         2   \n",
       "5      0  -0.263093   40.0 horsepower       40.0        15         2   \n",
       "6      1  -1.693230   50.5 horsepower       50.5        15         2   \n",
       "7      1  -1.630415   45.0 horsepower       45.0        15         2   \n",
       "8      1   0.277120   45.0 horsepower       45.0        15         2   \n",
       "\n",
       "   avg_word_length                                   Brand_text_tfidf  \\\n",
       "0              8.0    (0, 6)\\t0.6452572857754033\\n  (0, 2)\\t0.7639...   \n",
       "1              8.0    (0, 6)\\t0.6452572857754033\\n  (0, 2)\\t0.7639...   \n",
       "2              8.0    (0, 6)\\t0.6452572857754033\\n  (0, 2)\\t0.7639...   \n",
       "3              8.0    (0, 6)\\t0.6452572857754033\\n  (0, 2)\\t0.7639...   \n",
       "4              7.5    (0, 6)\\t0.6452572857754033\\n  (0, 2)\\t0.7639...   \n",
       "5              7.5    (0, 6)\\t0.6452572857754033\\n  (0, 2)\\t0.7639...   \n",
       "6              7.5    (0, 6)\\t0.6452572857754033\\n  (0, 2)\\t0.7639...   \n",
       "7              7.5    (0, 6)\\t0.6452572857754033\\n  (0, 2)\\t0.7639...   \n",
       "8              7.5    (0, 6)\\t0.6452572857754033\\n  (0, 2)\\t0.7639...   \n",
       "\n",
       "   Color_enc  blue  green  missing  red  yellow  Date_month  Date_year  \\\n",
       "0          3     0      0        0    1       0          10       2018   \n",
       "1          0     1      0        0    0       0          10       2018   \n",
       "2          1     0      1        0    0       0           7       2018   \n",
       "3          3     0      0        0    1       0          11       2018   \n",
       "4          2     0      0        1    0       0           6       2018   \n",
       "5          0     1      0        0    0       0           1       2019   \n",
       "6          3     0      0        0    1       0           7       2019   \n",
       "7          4     0      0        0    0       1           7       2019   \n",
       "8          3     0      0        0    1       0          10       2018   \n",
       "\n",
       "  Price_Categorizing  Price_Binarizing       Price_Binning Price_Binning2  \n",
       "0              higth                 1  (21400.0, 28200.0]           High  \n",
       "1              higth                 1  (21400.0, 28200.0]           High  \n",
       "2              higth                 1  (21400.0, 28200.0]           High  \n",
       "3              higth                 1  (14600.0, 21400.0]         Medium  \n",
       "4              higth                 1  (28200.0, 35000.0]      Very high  \n",
       "5              higth                 1  (14600.0, 21400.0]         Medium  \n",
       "6                low                 0     (966.0, 7800.0]       Very low  \n",
       "7                low                 0     (966.0, 7800.0]       Very low  \n",
       "8              higth                 1  (14600.0, 21400.0]         Medium  "
      ]
     },
     "execution_count": 54,
     "metadata": {},
     "output_type": "execute_result"
    }
   ],
   "source": [
    "df_subset_2"
   ]
  },
  {
   "cell_type": "code",
   "execution_count": 55,
   "metadata": {
    "ExecuteTime": {
     "end_time": "2021-08-19T10:23:56.079076Z",
     "start_time": "2021-08-19T10:23:56.069800Z"
    }
   },
   "outputs": [
    {
     "data": {
      "text/plain": [
       "0.6666666666666666"
      ]
     },
     "execution_count": 55,
     "metadata": {},
     "output_type": "execute_result"
    }
   ],
   "source": [
    "# Score on the test data and print it out\n",
    "df_X = df_subset_2.drop([\n",
    "    'Label', 'Brand_text_tfidf', 'Price_Categorizing', 'Price_Binarizing',\n",
    "    'Price_Binning', 'Price_Binning2', 'Engine_clean'\n",
    "],\n",
    "                        axis=1)\n",
    "check_score(df_X, df_subset_2['Label'])"
   ]
  },
  {
   "cell_type": "markdown",
   "metadata": {},
   "source": [
    "## Dimensionality reduction"
   ]
  },
  {
   "cell_type": "markdown",
   "metadata": {},
   "source": [
    "### PCA"
   ]
  },
  {
   "cell_type": "code",
   "execution_count": 56,
   "metadata": {
    "ExecuteTime": {
     "end_time": "2021-08-19T10:23:56.088348Z",
     "start_time": "2021-08-19T10:23:56.080959Z"
    }
   },
   "outputs": [
    {
     "name": "stdout",
     "output_type": "stream",
     "text": [
      "[9.97378874e-01 1.99552435e-03 4.18439465e-04 1.42040594e-04\n",
      " 4.26440296e-05 1.42340906e-05 6.77140259e-06 1.47170364e-06\n",
      " 1.17304053e-30]\n"
     ]
    }
   ],
   "source": [
    "# Set up PCA and the X vector for diminsionality reduction\n",
    "pca = PCA()\n",
    "df_X = df_subset_2.drop([\n",
    "    'Label', 'Brand_text_tfidf', 'Price_Categorizing', 'Price_Binarizing',\n",
    "    'Price_Binning', 'Price_Binning2', 'Engine_clean'\n",
    "],\n",
    "                        axis=1)\n",
    "\n",
    "# Apply PCA to the dataset X vector\n",
    "transformed_X = pca.fit_transform(df_X)\n",
    "\n",
    "# Look at the percentage of variance explained by the different components\n",
    "print(pca.explained_variance_ratio_)"
   ]
  },
  {
   "cell_type": "markdown",
   "metadata": {},
   "source": [
    "### T-SNE"
   ]
  },
  {
   "cell_type": "code",
   "execution_count": 69,
   "metadata": {
    "ExecuteTime": {
     "end_time": "2021-08-19T15:43:23.751055Z",
     "start_time": "2021-08-19T15:43:23.613284Z"
    }
   },
   "outputs": [
    {
     "name": "stdout",
     "output_type": "stream",
     "text": [
      "(9, 13)\n",
      "(9, 2)\n"
     ]
    }
   ],
   "source": [
    "# t-SNE is a great technique for visual exploration of high dimensional datasets.\n",
    "print(df.select_dtypes(include=['int', 'float']).shape)\n",
    "\n",
    "# Create a t-SNE model with learning rate 50\n",
    "m = TSNE(learning_rate = 50)\n",
    "\n",
    "# Fit and transform the t-SNE model on the numeric dataset\n",
    "tsne_features = m.fit_transform(df.select_dtypes(include=['int', 'float']))\n",
    "print(tsne_features.shape)"
   ]
  },
  {
   "cell_type": "code",
   "execution_count": 57,
   "metadata": {
    "ExecuteTime": {
     "end_time": "2021-08-19T10:23:56.095095Z",
     "start_time": "2021-08-19T10:23:56.090125Z"
    }
   },
   "outputs": [
    {
     "data": {
      "text/plain": [
       "0.6666666666666666"
      ]
     },
     "execution_count": 57,
     "metadata": {},
     "output_type": "execute_result"
    }
   ],
   "source": [
    "# Score on the test data and print it out\n",
    "check_score(transformed_X, df['Label'])"
   ]
  },
  {
   "cell_type": "code",
   "execution_count": 71,
   "metadata": {
    "ExecuteTime": {
     "end_time": "2021-08-19T15:43:41.354986Z",
     "start_time": "2021-08-19T15:43:41.348646Z"
    }
   },
   "outputs": [
    {
     "data": {
      "text/plain": [
       "0.6666666666666666"
      ]
     },
     "execution_count": 71,
     "metadata": {},
     "output_type": "execute_result"
    }
   ],
   "source": [
    "# Score on the test data and print it out\n",
    "check_score(tsne_features, df['Label'])"
   ]
  },
  {
   "cell_type": "code",
   "execution_count": null,
   "metadata": {},
   "outputs": [],
   "source": []
  }
 ],
 "metadata": {
  "kernelspec": {
   "display_name": "Python 3",
   "language": "python",
   "name": "python3"
  },
  "language_info": {
   "codemirror_mode": {
    "name": "ipython",
    "version": 3
   },
   "file_extension": ".py",
   "mimetype": "text/x-python",
   "name": "python",
   "nbconvert_exporter": "python",
   "pygments_lexer": "ipython3",
   "version": "3.6.6"
  },
  "toc": {
   "base_numbering": 1,
   "nav_menu": {},
   "number_sections": true,
   "sideBar": true,
   "skip_h1_title": false,
   "title_cell": "Table of Contents",
   "title_sidebar": "Contents",
   "toc_cell": false,
   "toc_position": {
    "height": "calc(100% - 180px)",
    "left": "10px",
    "top": "150px",
    "width": "384px"
   },
   "toc_section_display": true,
   "toc_window_display": true
  }
 },
 "nbformat": 4,
 "nbformat_minor": 2
}
